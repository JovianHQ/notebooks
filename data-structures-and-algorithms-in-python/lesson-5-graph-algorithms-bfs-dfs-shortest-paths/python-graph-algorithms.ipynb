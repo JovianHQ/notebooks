{
 "cells": [
  {
   "cell_type": "markdown",
   "id": "variable-garbage",
   "metadata": {},
   "source": [
    "# Graph Algorithms (BFS, DFS, Shortest Paths) using Python\n",
    "\n",
    "Data Structures and Algorithms in Python is beginner-friendly introduction to common data structures (linked lists, stacks, queues, graphs) and algorithms (search, sorting, recursion, dynamic programming) in Python, designed to help you prepare for coding interviews and assessments.\n"
   ]
  },
  {
   "cell_type": "markdown",
   "id": "eligible-equivalent",
   "metadata": {},
   "source": [
    "## How to Run the Code\n",
    "\n",
    "The best way to learn the material is to execute the code and experiment with it yourself. This tutorial is an executable [Jupyter notebook](https://jupyter.org) of `.ipynb` extension. You can _run_ this tutorial and experiment with the code examples in a couple of ways: *using free online resources* (recommended) or *on your computer*.\n",
    "\n",
    "#### Option 1: Running using free online resources (1-click, recommended)\n",
    "\n",
    "The easiest way to start executing the code is to click the **Run** button at the top of this page and select \"Run on Colab\" or \"Run on Kaggle\". Make sure to create an account on [Google Colab](https://colab.research.google.com) or [Kaggle](https://kaggle.com) to use these platforms.\n",
    "\n",
    "\n",
    "#### Option 2: Running on your computer locally\n",
    "\n",
    "To run the code on your computer locally, you'll need to set up [Python](https://www.python.org), download the notebook and install the required libraries. Then, follow the following steps:\n",
    "1. We recommend using the [Conda](https://docs.conda.io/projects/conda/en/latest/user-guide/install/) distribution of Python. Install it in your system.\n",
    "2. Create a folder for storing your notebooks and initialise an environment of conda in it.\n",
    "3. Activate the environment by `conda activate \"env_name\"` and add following dependencies with command `conda install ipykernel` and `conda install notebook`.\n",
    "4. run notebook with `jupyter notebook` and open this notebook to run it.\n",
    "\n",
    ">  **Jupyter Notebooks**: This notebook is made of _cells_. Each cell can contain code written in Python or explanations in plain English. You can execute code cells and view the results instantly within the notebook. Jupyter is a powerful platform for experimentation and analysis. Don't be afraid to mess around with the code & break things - you'll learn a lot by encountering and fixing errors. You can use the \"Kernel > Restart & Clear Output\" menu option to clear all outputs and start again from the top."
   ]
  },
  {
   "cell_type": "markdown",
   "id": "polyphonic-brisbane",
   "metadata": {},
   "source": [
    "## Graphs in the Real World\n",
    "\n",
    "### Railway network\n",
    "\n",
    "![](https://i.imgur.com/uSF6AEJ.png)\n",
    "\n",
    "### Flight routes\n",
    "\n",
    "![](https://www.mapsales.com/products/mapsofworld/images/zoom/world-air-route-wall-map.gif)\n",
    "\n",
    "### Hyperlinks\n",
    "\n",
    "![](https://i.imgur.com/hlGDYn2.png)"
   ]
  },
  {
   "cell_type": "markdown",
   "id": "demographic-orbit",
   "metadata": {},
   "source": [
    "## Graph Data Strucutre\n",
    "\n",
    "![](https://i.imgur.com/xkgMnwx.png)\n",
    "\n"
   ]
  },
  {
   "cell_type": "code",
   "execution_count": null,
   "id": "atlantic-eugene",
   "metadata": {},
   "outputs": [],
   "source": []
  },
  {
   "cell_type": "markdown",
   "id": "greek-edwards",
   "metadata": {},
   "source": [
    "### Adjacency Lists\n",
    "\n",
    "![](https://i.imgur.com/rgMwkIW.png)\n",
    "\n",
    "\n",
    "> **Question**: Create a class to represent a graph as an adjacency list in Python"
   ]
  },
  {
   "cell_type": "code",
   "execution_count": null,
   "id": "concerned-reflection",
   "metadata": {},
   "outputs": [],
   "source": []
  },
  {
   "cell_type": "code",
   "execution_count": null,
   "id": "incoming-skiing",
   "metadata": {},
   "outputs": [],
   "source": []
  },
  {
   "cell_type": "code",
   "execution_count": null,
   "id": "organizational-maldives",
   "metadata": {},
   "outputs": [],
   "source": []
  },
  {
   "cell_type": "code",
   "execution_count": null,
   "id": "automotive-graduation",
   "metadata": {},
   "outputs": [],
   "source": []
  },
  {
   "cell_type": "markdown",
   "id": "prompt-channel",
   "metadata": {},
   "source": [
    "> **Question**: Write a function to add an edge to a graph represented as an adjacency list. \n",
    "\n",
    "> **Question**: Write a function to remove an edge from a graph represented as a adjacency list.\n"
   ]
  },
  {
   "cell_type": "code",
   "execution_count": null,
   "id": "duplicate-pierce",
   "metadata": {},
   "outputs": [],
   "source": []
  },
  {
   "attachments": {},
   "cell_type": "markdown",
   "id": "potential-native",
   "metadata": {},
   "source": [
    "### Adjacency Matrix\n",
    "\n",
    "![](https://i.imgur.com/oswYKTW.png)\n",
    "\n",
    "> **Question**: Represent a graph as an adjacency matrix in Python"
   ]
  },
  {
   "cell_type": "code",
   "execution_count": null,
   "id": "sensitive-iraqi",
   "metadata": {},
   "outputs": [],
   "source": []
  },
  {
   "cell_type": "code",
   "execution_count": null,
   "id": "organizational-portland",
   "metadata": {},
   "outputs": [],
   "source": []
  },
  {
   "cell_type": "code",
   "execution_count": null,
   "id": "automatic-doctrine",
   "metadata": {},
   "outputs": [],
   "source": []
  },
  {
   "cell_type": "code",
   "execution_count": null,
   "id": "convinced-broadcast",
   "metadata": {},
   "outputs": [],
   "source": []
  },
  {
   "cell_type": "code",
   "execution_count": null,
   "id": "colonial-sense",
   "metadata": {},
   "outputs": [],
   "source": []
  },
  {
   "attachments": {},
   "cell_type": "markdown",
   "id": "heated-guarantee",
   "metadata": {},
   "source": [
    "## Graph Traversal\n",
    "\n",
    "\n",
    "### Breadth-First Search\n",
    "\n",
    "A real-world graph:\n",
    "\n",
    "![](https://upload.wikimedia.org/wikipedia/commons/thumb/a/ad/MapGermanyGraph.svg/500px-MapGermanyGraph.svg.png)\n",
    "\n",
    "Breadth-fist search tree (starting from Frankfurt):\n",
    "\n",
    "![](https://upload.wikimedia.org/wikipedia/commons/thumb/6/63/GermanyBFS.svg/500px-GermanyBFS.svg.png)\n",
    "\n",
    "> **Question**: Implement breadth-first search given a source node in a graph using Python.\n",
    "\n",
    "\n",
    "<img src=\"https://i.imgur.com/E2Up1Pk.png\" width=\"400\">\n",
    "\n",
    "BFS pseudocode (Wikipedia):\n",
    "\n",
    "```\n",
    " 1  procedure BFS(G, root) is\n",
    " 2      let Q be a queue\n",
    " 3      label root as discovered\n",
    " 4      Q.enqueue(root)\n",
    " 5      while Q is not empty do\n",
    " 6          v := Q.dequeue()\n",
    " 7          if v is the goal then\n",
    " 8              return v\n",
    " 9          for all edges from v to w in G.adjacentEdges(v) do\n",
    "10              if w is not labeled as discovered then\n",
    "11                  label w as discovered\n",
    "12                  Q.enqueue(w)\n",
    "```\n",
    "\n"
   ]
  },
  {
   "cell_type": "code",
   "execution_count": null,
   "id": "statutory-pasta",
   "metadata": {},
   "outputs": [],
   "source": []
  },
  {
   "cell_type": "markdown",
   "id": "first-vehicle",
   "metadata": {},
   "source": [
    "<img src=\"https://cdn.programiz.com/sites/tutorial2program/files/queue-implementation.png\" width=\"400\">"
   ]
  },
  {
   "cell_type": "code",
   "execution_count": null,
   "id": "furnished-examination",
   "metadata": {},
   "outputs": [],
   "source": []
  },
  {
   "cell_type": "code",
   "execution_count": null,
   "id": "fossil-spiritual",
   "metadata": {},
   "outputs": [],
   "source": []
  },
  {
   "cell_type": "markdown",
   "id": "modern-local",
   "metadata": {},
   "source": [
    "> **Question**: Write a program to check if all the nodes in a graph are connected\n",
    "\n",
    "![](http://www.martinbroadhurst.com/images/connected_components.png)"
   ]
  },
  {
   "cell_type": "code",
   "execution_count": 24,
   "id": "undefined-proportion",
   "metadata": {},
   "outputs": [
    {
     "data": {
      "text/plain": [
       "(9, 8)"
      ]
     },
     "execution_count": 24,
     "metadata": {},
     "output_type": "execute_result"
    }
   ],
   "source": [
    "num_nodes3 = 9\n",
    "edges3 = [(0, 1), (0, 3), (1, 2), (2, 3), (4, 5), (4, 6), (5, 6), (7, 8)]\n",
    "num_nodes3, len(edges3)"
   ]
  },
  {
   "cell_type": "code",
   "execution_count": null,
   "id": "cordless-moisture",
   "metadata": {},
   "outputs": [],
   "source": []
  },
  {
   "cell_type": "code",
   "execution_count": null,
   "id": "radical-seventh",
   "metadata": {},
   "outputs": [],
   "source": []
  },
  {
   "cell_type": "code",
   "execution_count": null,
   "id": "moved-underwear",
   "metadata": {},
   "outputs": [],
   "source": []
  },
  {
   "cell_type": "code",
   "execution_count": null,
   "id": "moderate-remove",
   "metadata": {},
   "outputs": [],
   "source": []
  },
  {
   "cell_type": "markdown",
   "id": "herbal-empty",
   "metadata": {},
   "source": [
    "## Depth-first search\n",
    "\n",
    "![](https://upload.wikimedia.org/wikipedia/commons/thumb/7/7f/Depth-First-Search.gif/440px-Depth-First-Search.gif)\n",
    "\n",
    "\n",
    "> **Question**: Implement depth first search from a given node in a graph using Python.\n",
    "\n",
    "<img src=\"https://i.imgur.com/E2Up1Pk.png\" width=\"400\">\n",
    "\n",
    "DFS pseudocode (Wikipedia):\n",
    "\n",
    "```\n",
    "procedure DFS_iterative(G, v) is\n",
    "    let S be a stack\n",
    "    S.push(v)\n",
    "    while S is not empty do\n",
    "        v = S.pop()\n",
    "        if v is not labeled as discovered then\n",
    "            label v as discovered\n",
    "            for all edges from v to w in G.adjacentEdges(v) do \n",
    "                S.push(w)\n",
    "```\n",
    "\n",
    "\n"
   ]
  },
  {
   "cell_type": "code",
   "execution_count": null,
   "id": "furnished-bloom",
   "metadata": {},
   "outputs": [],
   "source": []
  },
  {
   "cell_type": "markdown",
   "id": "silver-principal",
   "metadata": {},
   "source": [
    "<img src=\"https://cdn.programiz.com/sites/tutorial2program/files/stack.png\" width=\"400\">"
   ]
  },
  {
   "cell_type": "code",
   "execution_count": null,
   "id": "under-lambda",
   "metadata": {},
   "outputs": [],
   "source": []
  },
  {
   "cell_type": "code",
   "execution_count": null,
   "id": "arabic-machine",
   "metadata": {},
   "outputs": [],
   "source": []
  },
  {
   "cell_type": "code",
   "execution_count": null,
   "id": "forward-department",
   "metadata": {},
   "outputs": [],
   "source": []
  },
  {
   "cell_type": "code",
   "execution_count": null,
   "id": "contained-version",
   "metadata": {},
   "outputs": [],
   "source": []
  },
  {
   "cell_type": "markdown",
   "id": "together-blogger",
   "metadata": {},
   "source": [
    "> **Question**: Write a function to detect a cycle in a graph\n",
    "\n",
    "![](https://tutorialspoint.dev/image/cycleGraph.png)"
   ]
  },
  {
   "cell_type": "code",
   "execution_count": null,
   "id": "small-buyer",
   "metadata": {},
   "outputs": [],
   "source": []
  },
  {
   "cell_type": "code",
   "execution_count": null,
   "id": "daily-warrior",
   "metadata": {},
   "outputs": [],
   "source": []
  },
  {
   "cell_type": "code",
   "execution_count": null,
   "id": "dried-reform",
   "metadata": {},
   "outputs": [],
   "source": []
  },
  {
   "cell_type": "markdown",
   "id": "broke-carroll",
   "metadata": {},
   "source": [
    "### Weighted Graphs\n",
    "\n",
    "![](https://i.imgur.com/wy7ZHRW.png)\n",
    "\n"
   ]
  },
  {
   "cell_type": "code",
   "execution_count": 11,
   "id": "eligible-equipment",
   "metadata": {},
   "outputs": [
    {
     "data": {
      "text/plain": [
       "(9, 10)"
      ]
     },
     "execution_count": 11,
     "metadata": {},
     "output_type": "execute_result"
    }
   ],
   "source": [
    "# Graph with weights\n",
    "num_nodes5 = 9\n",
    "edges5 = [(0, 1, 3), (0, 3, 2), (0, 8, 4), (1, 7, 4), (2, 7, 2), (2, 3, 6), \n",
    "          (2, 5, 1), (3, 4, 1), (4, 8, 8), (5, 6, 8)]\n",
    "\n",
    "num_nodes5, len(edges5)"
   ]
  },
  {
   "cell_type": "markdown",
   "id": "defensive-sentence",
   "metadata": {},
   "source": [
    "### Directed Graphs\n",
    "\n",
    "<img src=\"https://i.imgur.com/8AN7EUV.png\" width=\"480\">"
   ]
  },
  {
   "cell_type": "code",
   "execution_count": 12,
   "id": "fitted-kruger",
   "metadata": {},
   "outputs": [
    {
     "data": {
      "text/plain": [
       "(5, 6)"
      ]
     },
     "execution_count": 12,
     "metadata": {},
     "output_type": "execute_result"
    }
   ],
   "source": [
    "num_nodes6 = 5\n",
    "edges6 = [(0, 1), (1, 2), (2, 3), (2, 4), (4, 2), (3, 0)]\n",
    "num_nodes6, len(edges6)"
   ]
  },
  {
   "cell_type": "markdown",
   "id": "seven-english",
   "metadata": {},
   "source": [
    "> **Question**: Define a class to represent weighted and directed graphs in Python."
   ]
  },
  {
   "cell_type": "code",
   "execution_count": null,
   "id": "constitutional-castle",
   "metadata": {},
   "outputs": [],
   "source": []
  },
  {
   "cell_type": "code",
   "execution_count": null,
   "id": "speaking-explosion",
   "metadata": {},
   "outputs": [],
   "source": []
  },
  {
   "cell_type": "code",
   "execution_count": null,
   "id": "blond-coaching",
   "metadata": {},
   "outputs": [],
   "source": []
  },
  {
   "attachments": {},
   "cell_type": "markdown",
   "id": "posted-peripheral",
   "metadata": {},
   "source": [
    "## Shortest Paths\n",
    "\n",
    "\n",
    "> **Question**: Write a function to find the length of the shortest path between two nodes in a weighted directed graph.\n",
    "\n",
    "<img src=\"https://i.imgur.com/Zn5cUkO.png\" width=\"480\">\n",
    "\n",
    "\n",
    "**Dijkstra's algorithm (Wikipedia)**:\n",
    "\n",
    "![](https://upload.wikimedia.org/wikipedia/commons/5/57/Dijkstra_Animation.gif)\n",
    "\n",
    "1. Mark all nodes unvisited. Create a set of all the unvisited nodes called the unvisited set.\n",
    "2. Assign to every node a tentative distance value: set it to zero for our initial node and to infinity for all other nodes. Set the initial node as current.[16]\n",
    "3. For the current node, consider all of its unvisited neighbours and calculate their tentative distances through the current node. Compare the newly calculated tentative distance to the current assigned value and assign the smaller one. For example, if the current node A is marked with a distance of 6, and the edge connecting it with a neighbour B has length 2, then the distance to B through A will be 6 + 2 = 8. If B was previously marked with a distance greater than 8 then change it to 8. Otherwise, the current value will be kept.\n",
    "4. When we are done considering all of the unvisited neighbours of the current node, mark the current node as visited and remove it from the unvisited set. A visited node will never be checked again.\n",
    "5. If the destination node has been marked visited (when planning a route between two specific nodes) or if the smallest tentative distance among the nodes in the unvisited set is infinity (when planning a complete traversal; occurs when there is no connection between the initial node and remaining unvisited nodes), then stop. The algorithm has finished.\n",
    "6. Otherwise, select the unvisited node that is marked with the smallest tentative distance, set it as the new \"current node\", and go back to step 3."
   ]
  },
  {
   "cell_type": "code",
   "execution_count": 90,
   "id": "independent-mixture",
   "metadata": {},
   "outputs": [],
   "source": [
    "def update_distances(graph, current, distance, parent=None):\n",
    "    \"\"\"Update the distances of the current node's neighbors\"\"\"\n",
    "    neighbors = graph.data[current]\n",
    "    weights = graph.weight[current]\n",
    "    for i, node in enumerate(neighbors):\n",
    "        weight = weights[i]\n",
    "        if distance[current] + weight < distance[node]:\n",
    "            distance[node] = distance[current] + weight\n",
    "            if parent:\n",
    "                parent[node] = current\n",
    "\n",
    "def pick_next_node(distance, visited):\n",
    "    \"\"\"Pick the next univisited node at the smallest distance\"\"\"\n",
    "    min_distance = float('inf')\n",
    "    min_node = None\n",
    "    for node in range(len(distance)):\n",
    "        if not visited[node] and distance[node] < min_distance:\n",
    "            min_node = node\n",
    "            min_distance = distance[node]\n",
    "    return min_node"
   ]
  },
  {
   "cell_type": "code",
   "execution_count": null,
   "id": "sought-courtesy",
   "metadata": {},
   "outputs": [],
   "source": []
  },
  {
   "cell_type": "code",
   "execution_count": null,
   "id": "pregnant-march",
   "metadata": {},
   "outputs": [],
   "source": []
  },
  {
   "cell_type": "code",
   "execution_count": 28,
   "id": "adopted-creek",
   "metadata": {},
   "outputs": [
    {
     "data": {
      "text/plain": [
       "(6, 7)"
      ]
     },
     "execution_count": 28,
     "metadata": {},
     "output_type": "execute_result"
    }
   ],
   "source": [
    "num_nodes7 = 6\n",
    "edges7 = [(0, 1, 4), (0, 2, 2), (1, 2, 5), (1, 3, 10), (2, 4, 3), (4, 3, 4), (3, 5, 11)]\n",
    "num_nodes7, len(edges7)"
   ]
  },
  {
   "cell_type": "code",
   "execution_count": null,
   "id": "spatial-engagement",
   "metadata": {},
   "outputs": [],
   "source": []
  },
  {
   "cell_type": "code",
   "execution_count": null,
   "id": "thick-click",
   "metadata": {},
   "outputs": [],
   "source": []
  },
  {
   "cell_type": "code",
   "execution_count": null,
   "id": "right-kenya",
   "metadata": {},
   "outputs": [],
   "source": []
  },
  {
   "cell_type": "markdown",
   "id": "coordinate-circle",
   "metadata": {},
   "source": [
    "### Binary Heap\n",
    "\n",
    "A data structure to maintain the running minimum/maximum of a set of numbers, supporting efficient addition/removal.\n",
    "\n",
    "\n",
    "<img src=\"https://i.imgur.com/ABAcM7m.png\" width=\"400\">\n",
    "\n",
    "\n",
    "Heap operations:\n",
    "\n",
    "- Insertion - $O(log N)$\n",
    "- Min/Max - $O(1)$ (depending on type of heap)\n",
    "- Deletion - $O(log N)$\n",
    "- Convert a list to a heap - $O(n)$\n",
    "\n",
    "\n",
    "Python's built-in heap: https://docs.python.org/3/library/heapq.html\n",
    "\n",
    "> **Question**: Implement Dijkstra's shortest path algorithm using the `heap` module from Python. What is the complexity of the algorithm?"
   ]
  },
  {
   "cell_type": "code",
   "execution_count": null,
   "id": "north-administrator",
   "metadata": {},
   "outputs": [],
   "source": []
  },
  {
   "cell_type": "code",
   "execution_count": null,
   "id": "latter-sunday",
   "metadata": {},
   "outputs": [],
   "source": []
  },
  {
   "cell_type": "code",
   "execution_count": null,
   "id": "superb-commander",
   "metadata": {},
   "outputs": [],
   "source": []
  },
  {
   "cell_type": "code",
   "execution_count": null,
   "id": "finished-serbia",
   "metadata": {},
   "outputs": [],
   "source": []
  },
  {
   "cell_type": "code",
   "execution_count": null,
   "id": "tribal-brand",
   "metadata": {},
   "outputs": [],
   "source": []
  },
  {
   "cell_type": "markdown",
   "id": "binary-bhutan",
   "metadata": {},
   "source": [
    "## Solutions\n",
    "\n",
    "![](https://i.imgur.com/E2Up1Pk.png)"
   ]
  },
  {
   "cell_type": "markdown",
   "id": "different-campbell",
   "metadata": {},
   "source": [
    "### Input Data"
   ]
  },
  {
   "cell_type": "code",
   "execution_count": 26,
   "id": "sixth-vector",
   "metadata": {},
   "outputs": [
    {
     "data": {
      "text/plain": [
       "(5, 7)"
      ]
     },
     "execution_count": 26,
     "metadata": {},
     "output_type": "execute_result"
    }
   ],
   "source": [
    "num_nodes1 = 5\n",
    "edges1 = [(0, 1), (1, 2), (2, 3), (3, 4), (4, 0), (1, 4), (1, 3)]\n",
    "num_nodes1, len(edges1)"
   ]
  },
  {
   "cell_type": "code",
   "execution_count": 25,
   "id": "duplicate-third",
   "metadata": {},
   "outputs": [
    {
     "data": {
      "text/plain": [
       "(9, 8)"
      ]
     },
     "execution_count": 25,
     "metadata": {},
     "output_type": "execute_result"
    }
   ],
   "source": [
    "num_nodes3 = 9\n",
    "edges3 = [(0, 1), (0, 3), (1, 2), (2, 3), (4, 5), (4, 6), (5, 6), (7, 8)]\n",
    "num_nodes3, len(edges3)"
   ]
  },
  {
   "cell_type": "code",
   "execution_count": 15,
   "id": "postal-promise",
   "metadata": {},
   "outputs": [
    {
     "data": {
      "text/plain": [
       "(9, 10)"
      ]
     },
     "execution_count": 15,
     "metadata": {},
     "output_type": "execute_result"
    }
   ],
   "source": [
    "num_nodes5 = 9\n",
    "edges5 = [(0, 1, 3), (0, 3, 2), (0, 8, 4), (1, 7, 4), (2, 7, 2), (2, 3, 6), \n",
    "          (2, 5, 1), (3, 4, 1), (4, 8, 8), (5, 6, 8)]\n",
    "\n",
    "num_nodes5, len(edges5)"
   ]
  },
  {
   "cell_type": "code",
   "execution_count": 16,
   "id": "advance-specialist",
   "metadata": {},
   "outputs": [
    {
     "data": {
      "text/plain": [
       "(5, 6)"
      ]
     },
     "execution_count": 16,
     "metadata": {},
     "output_type": "execute_result"
    }
   ],
   "source": [
    "# Directed graph\n",
    "num_nodes6 = 5\n",
    "edges6 = [(0, 1), (1, 2), (2, 3), (2, 4), (4, 2), (3, 0)]\n",
    "num_nodes6, len(edges6)"
   ]
  },
  {
   "cell_type": "code",
   "execution_count": 29,
   "id": "proud-means",
   "metadata": {},
   "outputs": [
    {
     "data": {
      "text/plain": [
       "(6, 7)"
      ]
     },
     "execution_count": 29,
     "metadata": {},
     "output_type": "execute_result"
    }
   ],
   "source": [
    "num_nodes7 = 6\n",
    "edges7 = [(0, 1, 4), (0, 2, 2), (1, 2, 5), (1, 3, 10), (2, 4, 3), (4, 3, 4), (3, 5, 11)]\n",
    "num_nodes7, len(edges7)"
   ]
  },
  {
   "cell_type": "markdown",
   "id": "dedicated-lounge",
   "metadata": {},
   "source": [
    "### Adjacency List"
   ]
  },
  {
   "cell_type": "code",
   "execution_count": 23,
   "id": "blank-vision",
   "metadata": {},
   "outputs": [],
   "source": [
    "class Graph:\n",
    "    def __init__(self, num_nodes, edges):\n",
    "        self.data = [[] for _ in range(num_nodes)]\n",
    "        for v1, v2 in edges:\n",
    "            self.data[v1].append(v2)\n",
    "            self.data[v2].append(v1)\n",
    "            \n",
    "    def __repr__(self):\n",
    "        return \"\\n\".join([\"{} : {}\".format(i, neighbors) for (i, neighbors) in enumerate(self.data)])\n",
    "\n",
    "    def __str__(self):\n",
    "        return repr(self)"
   ]
  },
  {
   "cell_type": "code",
   "execution_count": 21,
   "id": "addressed-franchise",
   "metadata": {},
   "outputs": [],
   "source": [
    "g1 = Graph(num_nodes1, edges1)"
   ]
  },
  {
   "cell_type": "code",
   "execution_count": 22,
   "id": "prospective-terry",
   "metadata": {},
   "outputs": [
    {
     "data": {
      "text/plain": [
       "0 : [1, 4]\n",
       "1 : [0, 2, 4, 3]\n",
       "2 : [1, 3]\n",
       "3 : [2, 4, 1]\n",
       "4 : [3, 0, 1]"
      ]
     },
     "execution_count": 22,
     "metadata": {},
     "output_type": "execute_result"
    }
   ],
   "source": [
    "g1"
   ]
  },
  {
   "cell_type": "markdown",
   "id": "deluxe-turkey",
   "metadata": {},
   "source": [
    "### Adjacency Matrix"
   ]
  },
  {
   "cell_type": "code",
   "execution_count": null,
   "id": "smoking-telescope",
   "metadata": {},
   "outputs": [],
   "source": []
  },
  {
   "cell_type": "code",
   "execution_count": null,
   "id": "acceptable-indianapolis",
   "metadata": {},
   "outputs": [],
   "source": []
  },
  {
   "cell_type": "markdown",
   "id": "miniature-radical",
   "metadata": {},
   "source": [
    "### Breadth First Search\n",
    "\n",
    "Complexity $O(m + n)$"
   ]
  },
  {
   "cell_type": "code",
   "execution_count": 37,
   "id": "functioning-christianity",
   "metadata": {},
   "outputs": [],
   "source": [
    "def bfs(graph, source):\n",
    "    visited = [False] * len(graph.data)\n",
    "    queue = []\n",
    "    \n",
    "    visited[source] = True    \n",
    "    queue.append(source)\n",
    "    i = 0\n",
    "    \n",
    "    while i < len(queue):\n",
    "        for v in graph.data[queue[i]]:\n",
    "            if not visited[v]:\n",
    "                visited[v] = True\n",
    "                queue.append(v)\n",
    "        i += 1\n",
    "        \n",
    "    return queue"
   ]
  },
  {
   "cell_type": "code",
   "execution_count": 39,
   "id": "split-palmer",
   "metadata": {},
   "outputs": [
    {
     "data": {
      "text/plain": [
       "[3, 2, 4, 1, 0]"
      ]
     },
     "execution_count": 39,
     "metadata": {},
     "output_type": "execute_result"
    }
   ],
   "source": [
    "bfs(g1, 3)"
   ]
  },
  {
   "cell_type": "code",
   "execution_count": null,
   "id": "incorporated-fusion",
   "metadata": {},
   "outputs": [],
   "source": []
  },
  {
   "cell_type": "code",
   "execution_count": null,
   "id": "portable-region",
   "metadata": {},
   "outputs": [],
   "source": []
  },
  {
   "cell_type": "markdown",
   "id": "ordered-romance",
   "metadata": {},
   "source": [
    "### Depth First Search"
   ]
  },
  {
   "cell_type": "code",
   "execution_count": 44,
   "id": "independent-anxiety",
   "metadata": {},
   "outputs": [],
   "source": [
    "def dfs(graph, source):\n",
    "    visited = [False] * len(graph.data)\n",
    "    stack = [source]\n",
    "    result = []\n",
    "    \n",
    "    while len(stack) > 0:\n",
    "        current = stack.pop()\n",
    "        if not visited[current]:\n",
    "            result.append(current)\n",
    "            visited[current] = True\n",
    "            for v in graph.data[current]:\n",
    "                stack.append(v)\n",
    "                \n",
    "    return result"
   ]
  },
  {
   "cell_type": "code",
   "execution_count": 45,
   "id": "economic-daily",
   "metadata": {},
   "outputs": [
    {
     "data": {
      "text/plain": [
       "[0, 4, 1, 3, 2]"
      ]
     },
     "execution_count": 45,
     "metadata": {},
     "output_type": "execute_result"
    }
   ],
   "source": [
    "dfs(g1, 0)"
   ]
  },
  {
   "cell_type": "code",
   "execution_count": null,
   "id": "civilian-imagination",
   "metadata": {},
   "outputs": [],
   "source": []
  },
  {
   "cell_type": "code",
   "execution_count": null,
   "id": "spatial-dialogue",
   "metadata": {},
   "outputs": [],
   "source": []
  },
  {
   "cell_type": "markdown",
   "id": "accomplished-separation",
   "metadata": {},
   "source": [
    "### Directed and Weighted Graph"
   ]
  },
  {
   "cell_type": "code",
   "execution_count": 67,
   "id": "fiscal-winner",
   "metadata": {},
   "outputs": [],
   "source": [
    "class Graph:\n",
    "    def __init__(self, num_nodes, edges, directed=False):\n",
    "        self.data = [[] for _ in range(num_nodes)]\n",
    "        self.weight = [[] for _ in range(num_nodes)]\n",
    "        \n",
    "        self.directed = directed\n",
    "        self.weighted = len(edges) > 0 and len(edges[0]) == 3\n",
    "            \n",
    "        for e in edges:\n",
    "            self.data[e[0]].append(e[1])\n",
    "            if self.weighted:\n",
    "                self.weight[e[0]].append(e[2])\n",
    "            \n",
    "            if not directed:\n",
    "                self.data[e[1]].append(e[0])\n",
    "                if self.weighted:\n",
    "                    self.data[e[1]].append(e[2])\n",
    "                \n",
    "    def __repr__(self):\n",
    "        result = \"\"\n",
    "        for i in range(len(self.data)):\n",
    "            pairs = list(zip(self.data[i], self.weight[i]))\n",
    "            result += \"{}: {}\\n\".format(i, pairs)\n",
    "        return result\n",
    "\n",
    "    def __str__(self):\n",
    "        return repr(self)"
   ]
  },
  {
   "cell_type": "code",
   "execution_count": 68,
   "id": "balanced-madness",
   "metadata": {},
   "outputs": [],
   "source": [
    "g7 = Graph(num_nodes7, edges7, directed=True)"
   ]
  },
  {
   "cell_type": "code",
   "execution_count": 69,
   "id": "touched-homeless",
   "metadata": {},
   "outputs": [
    {
     "data": {
      "text/plain": [
       "0: [(1, 4), (2, 2)]\n",
       "1: [(2, 5), (3, 10)]\n",
       "2: [(4, 3)]\n",
       "3: [(5, 11)]\n",
       "4: [(3, 4)]\n",
       "5: []"
      ]
     },
     "execution_count": 69,
     "metadata": {},
     "output_type": "execute_result"
    }
   ],
   "source": [
    "g7"
   ]
  },
  {
   "cell_type": "code",
   "execution_count": 61,
   "id": "interesting-joining",
   "metadata": {},
   "outputs": [
    {
     "data": {
      "text/plain": [
       "[2, 10, 3, 11, 4, []]"
      ]
     },
     "execution_count": 61,
     "metadata": {},
     "output_type": "execute_result"
    }
   ],
   "source": [
    "g7.weight"
   ]
  },
  {
   "cell_type": "markdown",
   "id": "terminal-essex",
   "metadata": {},
   "source": [
    "### Shortest Path - Dijkstra's Algorithm"
   ]
  },
  {
   "cell_type": "code",
   "execution_count": 83,
   "id": "technical-objective",
   "metadata": {},
   "outputs": [],
   "source": [
    "def update_distances(graph, current, distance, parent=None):\n",
    "    \"\"\"Update the distances of the current node's neighbors\"\"\"\n",
    "    neighbors = graph.data[current]\n",
    "    weights = graph.weight[current]\n",
    "    for i, node in enumerate(neighbors):\n",
    "        weight = weights[i]\n",
    "        if distance[current] + weight < distance[node]:\n",
    "            distance[node] = distance[current] + weight\n",
    "            if parent:\n",
    "                parent[node] = current\n",
    "\n",
    "def pick_next_node(distance, visited):\n",
    "    \"\"\"Pick the next univisited node at the smallest distance\"\"\"\n",
    "    min_distance = float('inf')\n",
    "    min_node = None\n",
    "    for node in range(len(distance)):\n",
    "        if not visited[node] and distance[node] < min_distance:\n",
    "            min_node = node\n",
    "            min_distance = distance[node]\n",
    "    return min_node\n",
    "        \n",
    "def shortest_path(graph, source, dest):\n",
    "    \"\"\"Find the length of the shortest path between source and destination\"\"\"\n",
    "    visited = [False] * len(graph.data)\n",
    "    distance = [float('inf')] * len(graph.data)\n",
    "    parent = [None] * len(graph.data)\n",
    "    queue = []\n",
    "    idx = 0\n",
    "    \n",
    "    queue.append(source)\n",
    "    distance[source] = 0\n",
    "    visited[source] = True\n",
    "    \n",
    "    while idx < len(queue) and not visited[dest]:\n",
    "        current = queue[idx]\n",
    "        update_distances(graph, current, distance, parent)\n",
    "        \n",
    "        next_node = pick_next_node(distance, visited)\n",
    "        if next_node is not None:\n",
    "            visited[next_node] = True\n",
    "            queue.append(next_node)\n",
    "        idx += 1\n",
    "        \n",
    "    return distance[dest], distance, parent"
   ]
  },
  {
   "cell_type": "markdown",
   "id": "rubber-ottawa",
   "metadata": {},
   "source": [
    "<img src=\"https://i.imgur.com/Zn5cUkO.png\" width=\"400\">"
   ]
  },
  {
   "cell_type": "code",
   "execution_count": 84,
   "id": "efficient-uniform",
   "metadata": {},
   "outputs": [
    {
     "data": {
      "text/plain": [
       "(20, [0, 4, 2, 9, 5, 20], [None, 0, 0, 4, 2, 3])"
      ]
     },
     "execution_count": 84,
     "metadata": {},
     "output_type": "execute_result"
    }
   ],
   "source": [
    "shortest_path(g7, 0, 5)"
   ]
  },
  {
   "cell_type": "code",
   "execution_count": null,
   "id": "vietnamese-geometry",
   "metadata": {},
   "outputs": [],
   "source": []
  },
  {
   "cell_type": "code",
   "execution_count": null,
   "id": "regulation-spread",
   "metadata": {},
   "outputs": [],
   "source": []
  },
  {
   "cell_type": "code",
   "execution_count": null,
   "id": "honey-nepal",
   "metadata": {},
   "outputs": [],
   "source": []
  }
 ],
 "metadata": {
  "kernelspec": {
   "display_name": "Python 3",
   "language": "python",
   "name": "python3"
  },
  "language_info": {
   "codemirror_mode": {
    "name": "ipython",
    "version": 3
   },
   "file_extension": ".py",
   "mimetype": "text/x-python",
   "name": "python",
   "nbconvert_exporter": "python",
   "pygments_lexer": "ipython3",
   "version": "3.6.12"
  }
 },
 "nbformat": 4,
 "nbformat_minor": 5
}
