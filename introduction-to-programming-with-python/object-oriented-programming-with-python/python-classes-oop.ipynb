{
 "cells": [
  {
   "attachments": {},
   "cell_type": "markdown",
   "id": "female-luxury",
   "metadata": {},
   "source": [
    "# Classes and Object Oriented Programming in Python\n",
    "\n",
    "This tutorial is a part of the [Zero to Data Analyst Bootcamp by Jovian](https://www.jovian.ai/data-analyst-bootcamp)\n",
    "\n",
    "![](https://i.imgur.com/yBsPHnF.png)\n",
    "\n",
    "Object-oriented programming (OOP) is a method of structuring programs into _objects_ that encapsulate _data_ and _functionality_. For examples, Numpy arrays and Pandas data frames are objects that contain data and offer methods to retrieve, manipulate and perform operations on the data stored within them. \n",
    "\n",
    "Python is an object oriented language, everything in Python is an object. Every object in Python is an _instance_ of a class. Classes are blueprints for creating objects. In this tutorial, we'll explore how to create new classes and objects in Python."
   ]
  },
  {
   "cell_type": "markdown",
   "id": "rubber-mambo",
   "metadata": {},
   "source": [
    "This tutorial covers the following topics:\n",
    "\n",
    "- Defining classes and creating objects\n",
    "- Class constructor, properties and methods\n",
    "- Implementing \"dunder\" methods for easier usage\n",
    "- Getters, setters, static methods & class methods\n",
    "- Inheritance, overriding and abstract methods"
   ]
  },
  {
   "cell_type": "markdown",
   "id": "sonic-clerk",
   "metadata": {},
   "source": [
    "### How to Run the Code\n",
    "\n",
    "The best way to learn the material is to execute the code and experiment with it yourself. This tutorial is an executable [Jupyter notebook](https://jupyter.org). You can _run_ this tutorial and experiment with the code examples in a couple of ways: *using free online resources* (recommended) or *on your computer*.\n",
    "\n",
    "#### Option 1: Running using free online resources (1-click, recommended)\n",
    "\n",
    "The easiest way to start executing the code is to click the **Run** button at the top of this page and select **Run on Binder**. You can also select \"Run on Colab\" or \"Run on Kaggle\", but you'll need to create an account on [Google Colab](https://colab.research.google.com) or [Kaggle](https://kaggle.com) to use these platforms.\n",
    "\n",
    "\n",
    "#### Option 2: Running on your computer locally\n",
    "\n",
    "To run the code on your computer locally, you'll need to set up [Python](https://www.python.org), download the notebook and install the required libraries. We recommend using the [Conda](https://docs.conda.io/projects/conda/en/latest/user-guide/install/) distribution of Python. Click the **Run** button at the top of this page, select the **Run Locally** option, and follow the instructions.\n",
    "\n",
    "\n",
    "\n"
   ]
  },
  {
   "cell_type": "code",
   "execution_count": null,
   "id": "upset-sitting",
   "metadata": {},
   "outputs": [],
   "source": []
  },
  {
   "cell_type": "code",
   "execution_count": null,
   "id": "latter-presence",
   "metadata": {},
   "outputs": [],
   "source": [
    "!pip install jovian --upgrade --quiet"
   ]
  },
  {
   "cell_type": "code",
   "execution_count": null,
   "id": "atomic-static",
   "metadata": {},
   "outputs": [],
   "source": [
    "!pip install pandas --quiet"
   ]
  },
  {
   "cell_type": "markdown",
   "id": "dynamic-england",
   "metadata": {},
   "source": [
    "## Problem Statement - Implementing Pandas Data Frames from Scratch\n",
    "\n",
    "To understand classes, we'll attempt to implement Pandas data frames from scratch in Python.\n",
    "\n",
    "![](https://i.imgur.com/zfxLzEv.png)\n",
    "\n",
    "Here's some of the functionality we'll try to replicate."
   ]
  },
  {
   "cell_type": "code",
   "execution_count": 1,
   "id": "declared-peninsula",
   "metadata": {},
   "outputs": [],
   "source": [
    "import pandas as pd"
   ]
  },
  {
   "cell_type": "code",
   "execution_count": 2,
   "id": "published-context",
   "metadata": {},
   "outputs": [],
   "source": [
    "artists_data = {\n",
    "    'Artist': ['Billie Holiday', 'Jimi Hendrix', 'Miles Davis', 'SIA'],\n",
    "    'Genre': ['Jazz', 'Rock', 'Jazz', 'Pop'],\n",
    "    'Listeners': [130000, 270000, 150000, 200000]\n",
    "}"
   ]
  },
  {
   "cell_type": "code",
   "execution_count": 3,
   "id": "weekly-house",
   "metadata": {},
   "outputs": [],
   "source": [
    "pandas_df = pd.DataFrame(artists_data)"
   ]
  },
  {
   "cell_type": "code",
   "execution_count": 4,
   "id": "alternate-iraqi",
   "metadata": {},
   "outputs": [
    {
     "data": {
      "text/html": [
       "<div>\n",
       "<style scoped>\n",
       "    .dataframe tbody tr th:only-of-type {\n",
       "        vertical-align: middle;\n",
       "    }\n",
       "\n",
       "    .dataframe tbody tr th {\n",
       "        vertical-align: top;\n",
       "    }\n",
       "\n",
       "    .dataframe thead th {\n",
       "        text-align: right;\n",
       "    }\n",
       "</style>\n",
       "<table border=\"1\" class=\"dataframe\">\n",
       "  <thead>\n",
       "    <tr style=\"text-align: right;\">\n",
       "      <th></th>\n",
       "      <th>Artist</th>\n",
       "      <th>Genre</th>\n",
       "      <th>Listeners</th>\n",
       "    </tr>\n",
       "  </thead>\n",
       "  <tbody>\n",
       "    <tr>\n",
       "      <th>0</th>\n",
       "      <td>Billie Holiday</td>\n",
       "      <td>Jazz</td>\n",
       "      <td>130000</td>\n",
       "    </tr>\n",
       "    <tr>\n",
       "      <th>1</th>\n",
       "      <td>Jimi Hendrix</td>\n",
       "      <td>Rock</td>\n",
       "      <td>270000</td>\n",
       "    </tr>\n",
       "    <tr>\n",
       "      <th>2</th>\n",
       "      <td>Miles Davis</td>\n",
       "      <td>Jazz</td>\n",
       "      <td>150000</td>\n",
       "    </tr>\n",
       "    <tr>\n",
       "      <th>3</th>\n",
       "      <td>SIA</td>\n",
       "      <td>Pop</td>\n",
       "      <td>200000</td>\n",
       "    </tr>\n",
       "  </tbody>\n",
       "</table>\n",
       "</div>"
      ],
      "text/plain": [
       "           Artist Genre  Listeners\n",
       "0  Billie Holiday  Jazz     130000\n",
       "1    Jimi Hendrix  Rock     270000\n",
       "2     Miles Davis  Jazz     150000\n",
       "3             SIA   Pop     200000"
      ]
     },
     "execution_count": 4,
     "metadata": {},
     "output_type": "execute_result"
    }
   ],
   "source": [
    "pandas_df"
   ]
  },
  {
   "cell_type": "code",
   "execution_count": 5,
   "id": "becoming-speaker",
   "metadata": {},
   "outputs": [
    {
     "name": "stdout",
     "output_type": "stream",
     "text": [
      "           Artist Genre  Listeners\n",
      "0  Billie Holiday  Jazz     130000\n",
      "1    Jimi Hendrix  Rock     270000\n",
      "2     Miles Davis  Jazz     150000\n",
      "3             SIA   Pop     200000\n"
     ]
    }
   ],
   "source": [
    "print(pandas_df)"
   ]
  },
  {
   "cell_type": "code",
   "execution_count": 6,
   "id": "passive-empire",
   "metadata": {},
   "outputs": [
    {
     "data": {
      "text/plain": [
       "(4, 3)"
      ]
     },
     "execution_count": 6,
     "metadata": {},
     "output_type": "execute_result"
    }
   ],
   "source": [
    "pandas_df.shape"
   ]
  },
  {
   "cell_type": "code",
   "execution_count": 7,
   "id": "radio-aside",
   "metadata": {},
   "outputs": [
    {
     "data": {
      "text/plain": [
       "4"
      ]
     },
     "execution_count": 7,
     "metadata": {},
     "output_type": "execute_result"
    }
   ],
   "source": [
    "len(pandas_df)"
   ]
  },
  {
   "cell_type": "code",
   "execution_count": 8,
   "id": "beneficial-blast",
   "metadata": {},
   "outputs": [
    {
     "data": {
      "text/plain": [
       "Index(['Artist', 'Genre', 'Listeners'], dtype='object')"
      ]
     },
     "execution_count": 8,
     "metadata": {},
     "output_type": "execute_result"
    }
   ],
   "source": [
    "pandas_df.columns"
   ]
  },
  {
   "cell_type": "code",
   "execution_count": 9,
   "id": "usual-count",
   "metadata": {},
   "outputs": [
    {
     "data": {
      "text/plain": [
       "0    Billie Holiday\n",
       "1      Jimi Hendrix\n",
       "2       Miles Davis\n",
       "3               SIA\n",
       "Name: Artist, dtype: object"
      ]
     },
     "execution_count": 9,
     "metadata": {},
     "output_type": "execute_result"
    }
   ],
   "source": [
    "pandas_df['Artist']"
   ]
  },
  {
   "cell_type": "code",
   "execution_count": 10,
   "id": "large-locking",
   "metadata": {},
   "outputs": [
    {
     "data": {
      "text/plain": [
       "Artist       Jimi Hendrix\n",
       "Genre                Rock\n",
       "Listeners          270000\n",
       "Name: 1, dtype: object"
      ]
     },
     "execution_count": 10,
     "metadata": {},
     "output_type": "execute_result"
    }
   ],
   "source": [
    "pandas_df.loc[1]"
   ]
  },
  {
   "cell_type": "code",
   "execution_count": 11,
   "id": "vanilla-writing",
   "metadata": {},
   "outputs": [],
   "source": [
    "pandas_df2 = pandas_df.copy()"
   ]
  },
  {
   "cell_type": "code",
   "execution_count": 12,
   "id": "strong-finger",
   "metadata": {},
   "outputs": [
    {
     "data": {
      "text/html": [
       "<div>\n",
       "<style scoped>\n",
       "    .dataframe tbody tr th:only-of-type {\n",
       "        vertical-align: middle;\n",
       "    }\n",
       "\n",
       "    .dataframe tbody tr th {\n",
       "        vertical-align: top;\n",
       "    }\n",
       "\n",
       "    .dataframe thead th {\n",
       "        text-align: right;\n",
       "    }\n",
       "</style>\n",
       "<table border=\"1\" class=\"dataframe\">\n",
       "  <thead>\n",
       "    <tr style=\"text-align: right;\">\n",
       "      <th></th>\n",
       "      <th>Singer</th>\n",
       "      <th>Category</th>\n",
       "      <th>Followers</th>\n",
       "    </tr>\n",
       "  </thead>\n",
       "  <tbody>\n",
       "    <tr>\n",
       "      <th>0</th>\n",
       "      <td>Billie Holiday</td>\n",
       "      <td>Jazz</td>\n",
       "      <td>130000</td>\n",
       "    </tr>\n",
       "    <tr>\n",
       "      <th>1</th>\n",
       "      <td>Jimi Hendrix</td>\n",
       "      <td>Rock</td>\n",
       "      <td>270000</td>\n",
       "    </tr>\n",
       "    <tr>\n",
       "      <th>2</th>\n",
       "      <td>Miles Davis</td>\n",
       "      <td>Jazz</td>\n",
       "      <td>150000</td>\n",
       "    </tr>\n",
       "    <tr>\n",
       "      <th>3</th>\n",
       "      <td>SIA</td>\n",
       "      <td>Pop</td>\n",
       "      <td>200000</td>\n",
       "    </tr>\n",
       "  </tbody>\n",
       "</table>\n",
       "</div>"
      ],
      "text/plain": [
       "           Singer Category  Followers\n",
       "0  Billie Holiday     Jazz     130000\n",
       "1    Jimi Hendrix     Rock     270000\n",
       "2     Miles Davis     Jazz     150000\n",
       "3             SIA      Pop     200000"
      ]
     },
     "execution_count": 12,
     "metadata": {},
     "output_type": "execute_result"
    }
   ],
   "source": [
    "pandas_df2.columns = ['Singer', 'Category', 'Followers']\n",
    "pandas_df2"
   ]
  },
  {
   "cell_type": "code",
   "execution_count": 13,
   "id": "orange-amber",
   "metadata": {},
   "outputs": [
    {
     "name": "stdout",
     "output_type": "stream",
     "text": [
      "Artist\n",
      "Genre\n",
      "Listeners\n"
     ]
    }
   ],
   "source": [
    "for col in pandas_df:\n",
    "    print(col)"
   ]
  },
  {
   "cell_type": "code",
   "execution_count": 14,
   "id": "veterinary-bible",
   "metadata": {},
   "outputs": [],
   "source": [
    "pandas_df.to_csv('artists.csv', index=None)"
   ]
  },
  {
   "cell_type": "code",
   "execution_count": 15,
   "id": "numeric-charity",
   "metadata": {},
   "outputs": [
    {
     "name": "stdout",
     "output_type": "stream",
     "text": [
      "Artist,Genre,Listeners\r\n",
      "Billie Holiday,Jazz,130000\r\n",
      "Jimi Hendrix,Rock,270000\r\n",
      "Miles Davis,Jazz,150000\r\n",
      "SIA,Pop,200000\r\n"
     ]
    }
   ],
   "source": [
    "!cat artists.csv"
   ]
  },
  {
   "cell_type": "markdown",
   "id": "scenic-cricket",
   "metadata": {},
   "source": [
    "## Defining classes and creating objects\n",
    "\n",
    "A class is a blueprint for creating an object. Classes are defined using the `class` keyword. The _body_ of a class is an indented block of code that defines its functionality. Here's the simplest way of defining a class:"
   ]
  },
  {
   "cell_type": "code",
   "execution_count": 16,
   "id": "quarterly-ballot",
   "metadata": {},
   "outputs": [],
   "source": [
    "class DataFrame:\n",
    "    pass"
   ]
  },
  {
   "cell_type": "markdown",
   "id": "ideal-cartridge",
   "metadata": {},
   "source": [
    "Note that the body contains just one statement `pass`, which does nothing i.e. the class has no functionality.\n",
    "\n",
    "We can now create an object of the class by invoking the class like a function."
   ]
  },
  {
   "cell_type": "code",
   "execution_count": 17,
   "id": "equal-birmingham",
   "metadata": {},
   "outputs": [
    {
     "data": {
      "text/plain": [
       "<__main__.DataFrame at 0x7feb60969ac8>"
      ]
     },
     "execution_count": 17,
     "metadata": {},
     "output_type": "execute_result"
    }
   ],
   "source": [
    "DataFrame()"
   ]
  },
  {
   "cell_type": "markdown",
   "id": "later-longitude",
   "metadata": {},
   "source": [
    "We just created an object of the class `DataFrame`. However, we have to way to access the object. We can do so by creating a variable."
   ]
  },
  {
   "cell_type": "code",
   "execution_count": 18,
   "id": "proud-python",
   "metadata": {},
   "outputs": [],
   "source": [
    "df1 = DataFrame()"
   ]
  },
  {
   "cell_type": "markdown",
   "id": "referenced-proxy",
   "metadata": {},
   "source": [
    "The variable `df1` holds a reference the object, and can be used to retrieve the object."
   ]
  },
  {
   "cell_type": "code",
   "execution_count": 19,
   "id": "eligible-malawi",
   "metadata": {},
   "outputs": [
    {
     "data": {
      "text/plain": [
       "<__main__.DataFrame at 0x7feb60969518>"
      ]
     },
     "execution_count": 19,
     "metadata": {},
     "output_type": "execute_result"
    }
   ],
   "source": [
    "df1"
   ]
  },
  {
   "cell_type": "markdown",
   "id": "marine-tractor",
   "metadata": {},
   "source": [
    "When we invoke `DataFrame()` again, it creates a new object."
   ]
  },
  {
   "cell_type": "code",
   "execution_count": 20,
   "id": "characteristic-effect",
   "metadata": {},
   "outputs": [],
   "source": [
    "df2 = DataFrame()"
   ]
  },
  {
   "cell_type": "code",
   "execution_count": 21,
   "id": "respective-password",
   "metadata": {},
   "outputs": [
    {
     "data": {
      "text/plain": [
       "<__main__.DataFrame at 0x7feb60969c18>"
      ]
     },
     "execution_count": 21,
     "metadata": {},
     "output_type": "execute_result"
    }
   ],
   "source": [
    "df2"
   ]
  },
  {
   "cell_type": "markdown",
   "id": "standard-fundamental",
   "metadata": {},
   "source": [
    "You can tell that the objects are different because they are at different addresses in the RAM (the address is the last portion of the output).\n",
    "\n",
    "Note that we can have multiple variables pointing to the same object, simply by reassigning variables."
   ]
  },
  {
   "cell_type": "code",
   "execution_count": 22,
   "id": "appreciated-glasgow",
   "metadata": {},
   "outputs": [],
   "source": [
    "df3 = df2"
   ]
  },
  {
   "cell_type": "code",
   "execution_count": 23,
   "id": "future-leadership",
   "metadata": {},
   "outputs": [
    {
     "data": {
      "text/plain": [
       "<__main__.DataFrame at 0x7feb60969c18>"
      ]
     },
     "execution_count": 23,
     "metadata": {},
     "output_type": "execute_result"
    }
   ],
   "source": [
    "df3"
   ]
  },
  {
   "cell_type": "markdown",
   "id": "vocal-cosmetic",
   "metadata": {},
   "source": [
    "`df2` and `df3` point to the same object, but `df1` points to a different object. More precisely, `df2` and `df3` point to the same _location in memory_, while `df1` points to a different _memory location_.\n",
    "\n",
    "You can check if two variables point to the same object using the `is` operator, which compares the memory address of the two variables."
   ]
  },
  {
   "cell_type": "code",
   "execution_count": 24,
   "id": "unavailable-buddy",
   "metadata": {},
   "outputs": [
    {
     "data": {
      "text/plain": [
       "False"
      ]
     },
     "execution_count": 24,
     "metadata": {},
     "output_type": "execute_result"
    }
   ],
   "source": [
    "df1 is df2"
   ]
  },
  {
   "cell_type": "code",
   "execution_count": 25,
   "id": "extra-yahoo",
   "metadata": {},
   "outputs": [
    {
     "data": {
      "text/plain": [
       "True"
      ]
     },
     "execution_count": 25,
     "metadata": {},
     "output_type": "execute_result"
    }
   ],
   "source": [
    "df2 is df3"
   ]
  },
  {
   "cell_type": "markdown",
   "id": "viral-vampire",
   "metadata": {},
   "source": [
    "## Class constructor, properties and methods\n",
    "\n",
    "Our data frame objects aren't doing much. They don't store any data or offer any functionality. Let's give the the ability to store some data.\n",
    "\n",
    "We'll store a fixed dictionary in each object that's created, by defining a _constructor method_, which is executed automatically when an object is created.\n"
   ]
  },
  {
   "cell_type": "code",
   "execution_count": 26,
   "id": "conceptual-handle",
   "metadata": {},
   "outputs": [],
   "source": [
    "class DataFrame:\n",
    "    def __init__(self):\n",
    "        self.data = {'a': [1] }"
   ]
  },
  {
   "cell_type": "markdown",
   "id": "revised-teach",
   "metadata": {},
   "source": [
    "Note the following in the definition above:\n",
    "\n",
    "- The double underscores in `__init__`\n",
    "- The self argument passed to `__init__`, which will be set to the object that is created.\n",
    "- Setting a property on `self` called `data`. We can name a property anything we wish (val, number, the_thing_inside etc. )\n",
    "\n",
    "Let's create an object of this class."
   ]
  },
  {
   "cell_type": "code",
   "execution_count": 27,
   "id": "developmental-intent",
   "metadata": {},
   "outputs": [],
   "source": [
    "df4 = DataFrame()"
   ]
  },
  {
   "cell_type": "code",
   "execution_count": 28,
   "id": "mobile-shuttle",
   "metadata": {},
   "outputs": [
    {
     "data": {
      "text/plain": [
       "<__main__.DataFrame at 0x7feb60981080>"
      ]
     },
     "execution_count": 28,
     "metadata": {},
     "output_type": "execute_result"
    }
   ],
   "source": [
    "df4"
   ]
  },
  {
   "cell_type": "markdown",
   "id": "white-cricket",
   "metadata": {},
   "source": [
    "We can now access the property `data` of `df4`."
   ]
  },
  {
   "cell_type": "code",
   "execution_count": 29,
   "id": "graphic-richardson",
   "metadata": {},
   "outputs": [
    {
     "data": {
      "text/plain": [
       "{'a': [1]}"
      ]
     },
     "execution_count": 29,
     "metadata": {},
     "output_type": "execute_result"
    }
   ],
   "source": [
    "df4.data"
   ]
  },
  {
   "cell_type": "markdown",
   "id": "graduate-austria",
   "metadata": {},
   "source": [
    "Internally, what's happening is that Python first creates an empty object, stores the reference to the empty object in an temporary variable called `self`, calls the `__init__` function with `self` as the argument, which then sets the property `data` on the created object with the value `{'a': 1}`. Finally, the object is assigned to the variable `df4`."
   ]
  },
  {
   "cell_type": "code",
   "execution_count": 30,
   "id": "representative-saudi",
   "metadata": {},
   "outputs": [
    {
     "ename": "NameError",
     "evalue": "name 'self' is not defined",
     "output_type": "error",
     "traceback": [
      "\u001b[0;31m---------------------------------------------------------------------------\u001b[0m",
      "\u001b[0;31mNameError\u001b[0m                                 Traceback (most recent call last)",
      "\u001b[0;32m<ipython-input-30-409526c648d1>\u001b[0m in \u001b[0;36m<module>\u001b[0;34m\u001b[0m\n\u001b[0;32m----> 1\u001b[0;31m \u001b[0mself\u001b[0m\u001b[0;34m\u001b[0m\u001b[0;34m\u001b[0m\u001b[0m\n\u001b[0m",
      "\u001b[0;31mNameError\u001b[0m: name 'self' is not defined"
     ]
    }
   ],
   "source": [
    "self"
   ]
  },
  {
   "cell_type": "markdown",
   "id": "satisfied-tract",
   "metadata": {},
   "source": [
    "We can not only access, but also change the value of the property `data`."
   ]
  },
  {
   "cell_type": "code",
   "execution_count": 31,
   "id": "unlikely-reservation",
   "metadata": {},
   "outputs": [],
   "source": [
    "df4.data = {'b': [5]}"
   ]
  },
  {
   "cell_type": "code",
   "execution_count": 32,
   "id": "amino-lesbian",
   "metadata": {},
   "outputs": [
    {
     "data": {
      "text/plain": [
       "{'b': [5]}"
      ]
     },
     "execution_count": 32,
     "metadata": {},
     "output_type": "execute_result"
    }
   ],
   "source": [
    "df4.data"
   ]
  },
  {
   "cell_type": "code",
   "execution_count": 33,
   "id": "mighty-hollywood",
   "metadata": {},
   "outputs": [],
   "source": [
    "df4.data['c'] = 99"
   ]
  },
  {
   "cell_type": "code",
   "execution_count": 34,
   "id": "distant-tracy",
   "metadata": {},
   "outputs": [
    {
     "data": {
      "text/plain": [
       "{'b': [5], 'c': 99}"
      ]
     },
     "execution_count": 34,
     "metadata": {},
     "output_type": "execute_result"
    }
   ],
   "source": [
    "df4.data"
   ]
  },
  {
   "cell_type": "markdown",
   "id": "international-robin",
   "metadata": {},
   "source": [
    "Note that every new object will contain it's own local copy of the `data` property."
   ]
  },
  {
   "cell_type": "code",
   "execution_count": 35,
   "id": "assigned-needle",
   "metadata": {},
   "outputs": [],
   "source": [
    "df5 = DataFrame()\n",
    "df5.data['b'] = [27]"
   ]
  },
  {
   "cell_type": "code",
   "execution_count": 36,
   "id": "israeli-sigma",
   "metadata": {},
   "outputs": [],
   "source": [
    "df6 = DataFrame()\n",
    "df6.data = { 'l': [44], 'm': [99]}"
   ]
  },
  {
   "cell_type": "code",
   "execution_count": 37,
   "id": "owned-treaty",
   "metadata": {},
   "outputs": [
    {
     "data": {
      "text/plain": [
       "{'b': [5], 'c': 99}"
      ]
     },
     "execution_count": 37,
     "metadata": {},
     "output_type": "execute_result"
    }
   ],
   "source": [
    "df4.data"
   ]
  },
  {
   "cell_type": "code",
   "execution_count": 38,
   "id": "banner-triangle",
   "metadata": {},
   "outputs": [
    {
     "data": {
      "text/plain": [
       "{'a': [1], 'b': [27]}"
      ]
     },
     "execution_count": 38,
     "metadata": {},
     "output_type": "execute_result"
    }
   ],
   "source": [
    "df5.data"
   ]
  },
  {
   "cell_type": "code",
   "execution_count": 39,
   "id": "fuzzy-status",
   "metadata": {},
   "outputs": [
    {
     "data": {
      "text/plain": [
       "{'l': [44], 'm': [99]}"
      ]
     },
     "execution_count": 39,
     "metadata": {},
     "output_type": "execute_result"
    }
   ],
   "source": [
    "df6.data"
   ]
  },
  {
   "cell_type": "markdown",
   "id": "breathing-midnight",
   "metadata": {},
   "source": [
    "We can also set the initial value of the property while creating the object, by passing arguments to the constructor."
   ]
  },
  {
   "cell_type": "code",
   "execution_count": 40,
   "id": "loved-pencil",
   "metadata": {},
   "outputs": [],
   "source": [
    "class DataFrame:\n",
    "    def __init__(self, data):\n",
    "        self.data = data"
   ]
  },
  {
   "cell_type": "markdown",
   "id": "common-hudson",
   "metadata": {},
   "source": [
    "The value for the argument `data` can be passed while invoking `DataFrame` to create a new object."
   ]
  },
  {
   "cell_type": "code",
   "execution_count": 41,
   "id": "secure-myanmar",
   "metadata": {},
   "outputs": [],
   "source": [
    "df7 = DataFrame({ 'a': [1], 'b': [2], 'c': [3]})"
   ]
  },
  {
   "cell_type": "code",
   "execution_count": 42,
   "id": "confidential-supervision",
   "metadata": {},
   "outputs": [
    {
     "data": {
      "text/plain": [
       "{'a': [1], 'b': [2], 'c': [3]}"
      ]
     },
     "execution_count": 42,
     "metadata": {},
     "output_type": "execute_result"
    }
   ],
   "source": [
    "df7.data"
   ]
  },
  {
   "cell_type": "markdown",
   "id": "mental-renewal",
   "metadata": {},
   "source": [
    "Note that, we can no longer invoke `DataFrame` without arguments."
   ]
  },
  {
   "cell_type": "code",
   "execution_count": 43,
   "id": "constant-challenge",
   "metadata": {},
   "outputs": [
    {
     "ename": "TypeError",
     "evalue": "__init__() missing 1 required positional argument: 'data'",
     "output_type": "error",
     "traceback": [
      "\u001b[0;31m---------------------------------------------------------------------------\u001b[0m",
      "\u001b[0;31mTypeError\u001b[0m                                 Traceback (most recent call last)",
      "\u001b[0;32m<ipython-input-43-26b7e35bd4d9>\u001b[0m in \u001b[0;36m<module>\u001b[0;34m\u001b[0m\n\u001b[0;32m----> 1\u001b[0;31m \u001b[0mdf8\u001b[0m \u001b[0;34m=\u001b[0m \u001b[0mDataFrame\u001b[0m\u001b[0;34m(\u001b[0m\u001b[0;34m)\u001b[0m\u001b[0;34m\u001b[0m\u001b[0;34m\u001b[0m\u001b[0m\n\u001b[0m",
      "\u001b[0;31mTypeError\u001b[0m: __init__() missing 1 required positional argument: 'data'"
     ]
    }
   ],
   "source": [
    "df8 = DataFrame()"
   ]
  },
  {
   "cell_type": "markdown",
   "id": "opponent-mailman",
   "metadata": {},
   "source": [
    "Let's define another property `columns`, which is set to the list of columns of the dataframe."
   ]
  },
  {
   "cell_type": "code",
   "execution_count": 44,
   "id": "modular-alpha",
   "metadata": {},
   "outputs": [],
   "source": [
    "class DataFrame:\n",
    "    def __init__(self, data):\n",
    "        self.data = data\n",
    "        self.columns = list(data.keys())"
   ]
  },
  {
   "cell_type": "code",
   "execution_count": 45,
   "id": "suitable-civilian",
   "metadata": {},
   "outputs": [
    {
     "data": {
      "text/plain": [
       "{'Artist': ['Billie Holiday', 'Jimi Hendrix', 'Miles Davis', 'SIA'],\n",
       " 'Genre': ['Jazz', 'Rock', 'Jazz', 'Pop'],\n",
       " 'Listeners': [130000, 270000, 150000, 200000]}"
      ]
     },
     "execution_count": 45,
     "metadata": {},
     "output_type": "execute_result"
    }
   ],
   "source": [
    "artists_data"
   ]
  },
  {
   "cell_type": "code",
   "execution_count": 46,
   "id": "substantial-blues",
   "metadata": {},
   "outputs": [],
   "source": [
    "df9 = DataFrame(artists_data)"
   ]
  },
  {
   "cell_type": "code",
   "execution_count": 47,
   "id": "typical-alcohol",
   "metadata": {},
   "outputs": [
    {
     "data": {
      "text/plain": [
       "['Artist', 'Genre', 'Listeners']"
      ]
     },
     "execution_count": 47,
     "metadata": {},
     "output_type": "execute_result"
    }
   ],
   "source": [
    "df9.columns"
   ]
  },
  {
   "cell_type": "markdown",
   "id": "conditional-python",
   "metadata": {},
   "source": [
    "Next, let's define a method `get_column`, which retrieves the values in a given column."
   ]
  },
  {
   "cell_type": "code",
   "execution_count": 48,
   "id": "trained-halifax",
   "metadata": {},
   "outputs": [],
   "source": [
    "class DataFrame:\n",
    "    def __init__(self, data):\n",
    "        self.data = data\n",
    "        self.columns = list(data.keys())\n",
    "        \n",
    "    def get_column(self, col_name):\n",
    "        return self.data[col_name]"
   ]
  },
  {
   "cell_type": "code",
   "execution_count": 49,
   "id": "boolean-niger",
   "metadata": {},
   "outputs": [],
   "source": [
    "df10 = DataFrame(artists_data)"
   ]
  },
  {
   "cell_type": "code",
   "execution_count": 50,
   "id": "grave-freeze",
   "metadata": {},
   "outputs": [
    {
     "data": {
      "text/plain": [
       "{'Artist': ['Billie Holiday', 'Jimi Hendrix', 'Miles Davis', 'SIA'],\n",
       " 'Genre': ['Jazz', 'Rock', 'Jazz', 'Pop'],\n",
       " 'Listeners': [130000, 270000, 150000, 200000]}"
      ]
     },
     "execution_count": 50,
     "metadata": {},
     "output_type": "execute_result"
    }
   ],
   "source": [
    "df10.data"
   ]
  },
  {
   "cell_type": "code",
   "execution_count": 51,
   "id": "saved-donor",
   "metadata": {},
   "outputs": [
    {
     "data": {
      "text/plain": [
       "['Jazz', 'Rock', 'Jazz', 'Pop']"
      ]
     },
     "execution_count": 51,
     "metadata": {},
     "output_type": "execute_result"
    }
   ],
   "source": [
    "df10.get_column('Genre')"
   ]
  },
  {
   "cell_type": "markdown",
   "id": "aware-owner",
   "metadata": {},
   "source": [
    "Note, that the `df10` is automatically passed as the `self` argument to `get_column`.\n",
    "\n",
    "In fact, the above call is the same as:"
   ]
  },
  {
   "cell_type": "code",
   "execution_count": 52,
   "id": "tested-fortune",
   "metadata": {},
   "outputs": [
    {
     "data": {
      "text/plain": [
       "['Jazz', 'Rock', 'Jazz', 'Pop']"
      ]
     },
     "execution_count": 52,
     "metadata": {},
     "output_type": "execute_result"
    }
   ],
   "source": [
    "DataFrame.get_column(df10, 'Genre')"
   ]
  },
  {
   "cell_type": "markdown",
   "id": "hazardous-encyclopedia",
   "metadata": {},
   "source": [
    "Let's implement a method `get_row` which can be used to retrieve the row at a given position in the data frame, as a dictionary."
   ]
  },
  {
   "cell_type": "code",
   "execution_count": 53,
   "id": "arbitrary-consent",
   "metadata": {},
   "outputs": [],
   "source": [
    "class DataFrame:\n",
    "    def __init__(self, data):\n",
    "        self.data = data\n",
    "        self.columns = list(data.keys())\n",
    "        \n",
    "    def get_column(self, col_name):\n",
    "        return self.data[col_name]\n",
    "    \n",
    "    def get_row(self, i):\n",
    "        result = {}\n",
    "        for col in self.columns:\n",
    "            result[col] = self.data[col][i]\n",
    "        return result"
   ]
  },
  {
   "cell_type": "code",
   "execution_count": 54,
   "id": "passive-working",
   "metadata": {},
   "outputs": [],
   "source": [
    "df11 = DataFrame(artists_data)"
   ]
  },
  {
   "cell_type": "code",
   "execution_count": 55,
   "id": "healthy-headset",
   "metadata": {},
   "outputs": [
    {
     "data": {
      "text/plain": [
       "{'Artist': ['Billie Holiday', 'Jimi Hendrix', 'Miles Davis', 'SIA'],\n",
       " 'Genre': ['Jazz', 'Rock', 'Jazz', 'Pop'],\n",
       " 'Listeners': [130000, 270000, 150000, 200000]}"
      ]
     },
     "execution_count": 55,
     "metadata": {},
     "output_type": "execute_result"
    }
   ],
   "source": [
    "df11.data"
   ]
  },
  {
   "cell_type": "code",
   "execution_count": 56,
   "id": "thirty-independence",
   "metadata": {},
   "outputs": [
    {
     "data": {
      "text/plain": [
       "{'Artist': 'Miles Davis', 'Genre': 'Jazz', 'Listeners': 150000}"
      ]
     },
     "execution_count": 56,
     "metadata": {},
     "output_type": "execute_result"
    }
   ],
   "source": [
    "df11.get_row(2)"
   ]
  },
  {
   "cell_type": "markdown",
   "id": "sophisticated-preference",
   "metadata": {},
   "source": [
    "Let's also add a `copy` method to easily create copies of data frames. We'll use the `copy` module to create a deep copy of the dictionary."
   ]
  },
  {
   "cell_type": "code",
   "execution_count": 57,
   "id": "varied-contract",
   "metadata": {},
   "outputs": [],
   "source": [
    "from copy import deepcopy\n",
    "\n",
    "class DataFrame:\n",
    "    def __init__(self, data):\n",
    "        self.data = data\n",
    "        self.columns = list(data.keys())\n",
    "        \n",
    "    def get_column(self, col_name):\n",
    "        return self.data[col_name]\n",
    "    \n",
    "    def get_row(self, i):\n",
    "        result = {}\n",
    "        for col in self.columns:\n",
    "            result[col] = self.data[col][i]\n",
    "        return result\n",
    "    \n",
    "    def copy(self):\n",
    "        data_copy = deepcopy(self.data)\n",
    "        return DataFrame(data_copy)"
   ]
  },
  {
   "cell_type": "code",
   "execution_count": 58,
   "id": "organized-house",
   "metadata": {},
   "outputs": [],
   "source": [
    "df12 = DataFrame(artists_data)"
   ]
  },
  {
   "cell_type": "code",
   "execution_count": 59,
   "id": "pointed-columbia",
   "metadata": {},
   "outputs": [],
   "source": [
    "df13 = df12.copy()"
   ]
  },
  {
   "cell_type": "code",
   "execution_count": 60,
   "id": "statewide-yahoo",
   "metadata": {},
   "outputs": [
    {
     "data": {
      "text/plain": [
       "{'Artist': ['Billie Holiday', 'Jimi Hendrix', 'Miles Davis', 'SIA'],\n",
       " 'Genre': ['Jazz', 'Rock', 'Jazz', 'Pop'],\n",
       " 'Listeners': [130000, 270000, 150000, 200000]}"
      ]
     },
     "execution_count": 60,
     "metadata": {},
     "output_type": "execute_result"
    }
   ],
   "source": [
    "df13.data"
   ]
  },
  {
   "cell_type": "markdown",
   "id": "split-contemporary",
   "metadata": {},
   "source": [
    "Verify that the `data` in `df13` is indeed a copy, and modifying it won't affect the `data` in `df12`."
   ]
  },
  {
   "cell_type": "code",
   "execution_count": null,
   "id": "better-owner",
   "metadata": {},
   "outputs": [],
   "source": []
  },
  {
   "cell_type": "markdown",
   "id": "aggressive-hacker",
   "metadata": {},
   "source": [
    "Our `DataFrame` class now contains the following functionality:\n",
    "\n",
    "- A constructor method that can be used to pass a dictionary of data\n",
    "- A `data` property that can be used to access the dictionary\n",
    "- A `columns` property that can be used to get a list of columns\n",
    "- A `get_column` method for getting the list of values in a column\n",
    "- A `get_row` method for getting a row of data as a dictionary.\n",
    "- A `copy` method for create a copy of the data frame."
   ]
  },
  {
   "cell_type": "markdown",
   "id": "pacific-modem",
   "metadata": {},
   "source": [
    "> **EXERCISES**: Enhance the implementation of `DataFrame` to include the following:\n",
    "> \n",
    "> 1. Ensure that `data` argument to the constructor is a dictionary, and that each value in the dictionary is a list of the same length. If these conditions are not satisfied, raise an exception.\n",
    "> 2. Add a property `shape` which returns a tuple containing the number of rows and number of columns in the data frame\n",
    "> 3. Add a property `get_element` which extract a single value from a data frame, given a column name and row index. "
   ]
  },
  {
   "cell_type": "code",
   "execution_count": null,
   "id": "asian-banana",
   "metadata": {},
   "outputs": [],
   "source": []
  },
  {
   "cell_type": "code",
   "execution_count": null,
   "id": "thermal-million",
   "metadata": {},
   "outputs": [],
   "source": []
  },
  {
   "cell_type": "code",
   "execution_count": null,
   "id": "sonic-mustang",
   "metadata": {},
   "outputs": [],
   "source": []
  },
  {
   "cell_type": "markdown",
   "id": "going-yellow",
   "metadata": {},
   "source": [
    "Let's save our work before continuing."
   ]
  },
  {
   "cell_type": "code",
   "execution_count": null,
   "id": "willing-messaging",
   "metadata": {},
   "outputs": [],
   "source": [
    "jovian.commit()"
   ]
  },
  {
   "cell_type": "markdown",
   "id": "fifty-quantity",
   "metadata": {},
   "source": [
    "## Implementing \"dunder\" methods for easier usage\n",
    "\n",
    "Our implementation of `DataFrame` is shaping up well, however it still faces several limitations, which we'll discuss and address one by one in this section.\n",
    "\n",
    "### String representation using `__str__` and `__repr__`\n",
    "\n",
    "We can't view the contents of a `DataFrame` object in the same way we view the contents of a Pandas data frame.\n"
   ]
  },
  {
   "cell_type": "code",
   "execution_count": 61,
   "id": "agreed-eligibility",
   "metadata": {},
   "outputs": [
    {
     "data": {
      "text/html": [
       "<div>\n",
       "<style scoped>\n",
       "    .dataframe tbody tr th:only-of-type {\n",
       "        vertical-align: middle;\n",
       "    }\n",
       "\n",
       "    .dataframe tbody tr th {\n",
       "        vertical-align: top;\n",
       "    }\n",
       "\n",
       "    .dataframe thead th {\n",
       "        text-align: right;\n",
       "    }\n",
       "</style>\n",
       "<table border=\"1\" class=\"dataframe\">\n",
       "  <thead>\n",
       "    <tr style=\"text-align: right;\">\n",
       "      <th></th>\n",
       "      <th>Artist</th>\n",
       "      <th>Genre</th>\n",
       "      <th>Listeners</th>\n",
       "    </tr>\n",
       "  </thead>\n",
       "  <tbody>\n",
       "    <tr>\n",
       "      <th>0</th>\n",
       "      <td>Billie Holiday</td>\n",
       "      <td>Jazz</td>\n",
       "      <td>130000</td>\n",
       "    </tr>\n",
       "    <tr>\n",
       "      <th>1</th>\n",
       "      <td>Jimi Hendrix</td>\n",
       "      <td>Rock</td>\n",
       "      <td>270000</td>\n",
       "    </tr>\n",
       "    <tr>\n",
       "      <th>2</th>\n",
       "      <td>Miles Davis</td>\n",
       "      <td>Jazz</td>\n",
       "      <td>150000</td>\n",
       "    </tr>\n",
       "    <tr>\n",
       "      <th>3</th>\n",
       "      <td>SIA</td>\n",
       "      <td>Pop</td>\n",
       "      <td>200000</td>\n",
       "    </tr>\n",
       "  </tbody>\n",
       "</table>\n",
       "</div>"
      ],
      "text/plain": [
       "           Artist Genre  Listeners\n",
       "0  Billie Holiday  Jazz     130000\n",
       "1    Jimi Hendrix  Rock     270000\n",
       "2     Miles Davis  Jazz     150000\n",
       "3             SIA   Pop     200000"
      ]
     },
     "execution_count": 61,
     "metadata": {},
     "output_type": "execute_result"
    }
   ],
   "source": [
    "pandas_df"
   ]
  },
  {
   "cell_type": "code",
   "execution_count": 62,
   "id": "duplicate-value",
   "metadata": {},
   "outputs": [
    {
     "data": {
      "text/plain": [
       "<__main__.DataFrame at 0x7feb60a19e80>"
      ]
     },
     "execution_count": 62,
     "metadata": {},
     "output_type": "execute_result"
    }
   ],
   "source": [
    "df12"
   ]
  },
  {
   "cell_type": "code",
   "execution_count": 63,
   "id": "imperial-shipping",
   "metadata": {},
   "outputs": [
    {
     "name": "stdout",
     "output_type": "stream",
     "text": [
      "           Artist Genre  Listeners\n",
      "0  Billie Holiday  Jazz     130000\n",
      "1    Jimi Hendrix  Rock     270000\n",
      "2     Miles Davis  Jazz     150000\n",
      "3             SIA   Pop     200000\n"
     ]
    }
   ],
   "source": [
    "print(pandas_df)"
   ]
  },
  {
   "cell_type": "code",
   "execution_count": 64,
   "id": "complete-cabin",
   "metadata": {},
   "outputs": [
    {
     "name": "stdout",
     "output_type": "stream",
     "text": [
      "<__main__.DataFrame object at 0x7feb60a19e80>\n"
     ]
    }
   ],
   "source": [
    "print(df12)"
   ]
  },
  {
   "cell_type": "markdown",
   "id": "conservative-burst",
   "metadata": {},
   "source": [
    "We can add this by implementing the `__repr__` and `__str__` methods in the class. These are special methods in Python (also called \"double underscore methods\" or \"dunder methods\"). \n",
    "\n",
    "We'll use a helper library called `tabulate` to create a table-like output for out dataframe."
   ]
  },
  {
   "cell_type": "code",
   "execution_count": 65,
   "id": "upper-anxiety",
   "metadata": {},
   "outputs": [],
   "source": [
    "!pip install tabulate --quiet"
   ]
  },
  {
   "cell_type": "code",
   "execution_count": 66,
   "id": "better-repair",
   "metadata": {},
   "outputs": [],
   "source": [
    "from copy import deepcopy\n",
    "from tabulate import tabulate\n",
    "\n",
    "class DataFrame:\n",
    "    def __init__(self, data):\n",
    "        self.data = data\n",
    "        self.columns = list(data.keys())\n",
    "        \n",
    "    def get_column(self, col_name):\n",
    "        return self.data[col_name]\n",
    "    \n",
    "    def get_row(self, i):\n",
    "        result = {}\n",
    "        for col in self.columns:\n",
    "            result[col] = self.data[col][i]\n",
    "        return result\n",
    "    \n",
    "    def copy(self):\n",
    "        data_copy = copy.deepcopy(self.data)\n",
    "        return DataFrame(data_copy)\n",
    "    \n",
    "    def __repr__(self):\n",
    "        return tabulate(self.data, self.columns, 'pretty')\n",
    "    \n",
    "    def __str__(self):\n",
    "        return tabulate(self.data, self.columns, 'pretty')"
   ]
  },
  {
   "cell_type": "markdown",
   "id": "nearby-wrestling",
   "metadata": {},
   "source": [
    "What's the difference between `__str__` and `__repr__`? Look it up!"
   ]
  },
  {
   "cell_type": "code",
   "execution_count": 67,
   "id": "accompanied-jumping",
   "metadata": {},
   "outputs": [],
   "source": [
    "df14 = DataFrame(artists_data)"
   ]
  },
  {
   "cell_type": "code",
   "execution_count": 68,
   "id": "great-characteristic",
   "metadata": {},
   "outputs": [
    {
     "data": {
      "text/plain": [
       "+----------------+-------+-----------+\n",
       "|     Artist     | Genre | Listeners |\n",
       "+----------------+-------+-----------+\n",
       "| Billie Holiday | Jazz  |  130000   |\n",
       "|  Jimi Hendrix  | Rock  |  270000   |\n",
       "|  Miles Davis   | Jazz  |  150000   |\n",
       "|      SIA       |  Pop  |  200000   |\n",
       "+----------------+-------+-----------+"
      ]
     },
     "execution_count": 68,
     "metadata": {},
     "output_type": "execute_result"
    }
   ],
   "source": [
    "df14"
   ]
  },
  {
   "cell_type": "code",
   "execution_count": 69,
   "id": "naughty-andrew",
   "metadata": {},
   "outputs": [
    {
     "name": "stdout",
     "output_type": "stream",
     "text": [
      "+----------------+-------+-----------+\n",
      "|     Artist     | Genre | Listeners |\n",
      "+----------------+-------+-----------+\n",
      "| Billie Holiday | Jazz  |  130000   |\n",
      "|  Jimi Hendrix  | Rock  |  270000   |\n",
      "|  Miles Davis   | Jazz  |  150000   |\n",
      "|      SIA       |  Pop  |  200000   |\n",
      "+----------------+-------+-----------+\n"
     ]
    }
   ],
   "source": [
    "print(df14)"
   ]
  },
  {
   "cell_type": "markdown",
   "id": "emerging-aurora",
   "metadata": {},
   "source": [
    "Great, we now have a readable string representation of our data."
   ]
  },
  {
   "cell_type": "markdown",
   "id": "electronic-briefs",
   "metadata": {},
   "source": [
    "### Length using `__len__`\n",
    "\n",
    "We can find the number of rows in a Pandas dataframe using the `len` function. "
   ]
  },
  {
   "cell_type": "code",
   "execution_count": 70,
   "id": "religious-correspondence",
   "metadata": {},
   "outputs": [
    {
     "data": {
      "text/html": [
       "<div>\n",
       "<style scoped>\n",
       "    .dataframe tbody tr th:only-of-type {\n",
       "        vertical-align: middle;\n",
       "    }\n",
       "\n",
       "    .dataframe tbody tr th {\n",
       "        vertical-align: top;\n",
       "    }\n",
       "\n",
       "    .dataframe thead th {\n",
       "        text-align: right;\n",
       "    }\n",
       "</style>\n",
       "<table border=\"1\" class=\"dataframe\">\n",
       "  <thead>\n",
       "    <tr style=\"text-align: right;\">\n",
       "      <th></th>\n",
       "      <th>Artist</th>\n",
       "      <th>Genre</th>\n",
       "      <th>Listeners</th>\n",
       "    </tr>\n",
       "  </thead>\n",
       "  <tbody>\n",
       "    <tr>\n",
       "      <th>0</th>\n",
       "      <td>Billie Holiday</td>\n",
       "      <td>Jazz</td>\n",
       "      <td>130000</td>\n",
       "    </tr>\n",
       "    <tr>\n",
       "      <th>1</th>\n",
       "      <td>Jimi Hendrix</td>\n",
       "      <td>Rock</td>\n",
       "      <td>270000</td>\n",
       "    </tr>\n",
       "    <tr>\n",
       "      <th>2</th>\n",
       "      <td>Miles Davis</td>\n",
       "      <td>Jazz</td>\n",
       "      <td>150000</td>\n",
       "    </tr>\n",
       "    <tr>\n",
       "      <th>3</th>\n",
       "      <td>SIA</td>\n",
       "      <td>Pop</td>\n",
       "      <td>200000</td>\n",
       "    </tr>\n",
       "  </tbody>\n",
       "</table>\n",
       "</div>"
      ],
      "text/plain": [
       "           Artist Genre  Listeners\n",
       "0  Billie Holiday  Jazz     130000\n",
       "1    Jimi Hendrix  Rock     270000\n",
       "2     Miles Davis  Jazz     150000\n",
       "3             SIA   Pop     200000"
      ]
     },
     "execution_count": 70,
     "metadata": {},
     "output_type": "execute_result"
    }
   ],
   "source": [
    "pandas_df"
   ]
  },
  {
   "cell_type": "code",
   "execution_count": 71,
   "id": "moved-respect",
   "metadata": {},
   "outputs": [
    {
     "data": {
      "text/plain": [
       "4"
      ]
     },
     "execution_count": 71,
     "metadata": {},
     "output_type": "execute_result"
    }
   ],
   "source": [
    "len(pandas_df)"
   ]
  },
  {
   "cell_type": "markdown",
   "id": "passive-ensemble",
   "metadata": {},
   "source": [
    "However, our implementation of `DataFrame` does not support this."
   ]
  },
  {
   "cell_type": "code",
   "execution_count": 72,
   "id": "important-notification",
   "metadata": {},
   "outputs": [
    {
     "ename": "TypeError",
     "evalue": "object of type 'DataFrame' has no len()",
     "output_type": "error",
     "traceback": [
      "\u001b[0;31m---------------------------------------------------------------------------\u001b[0m",
      "\u001b[0;31mTypeError\u001b[0m                                 Traceback (most recent call last)",
      "\u001b[0;32m<ipython-input-72-7ab65c3f4961>\u001b[0m in \u001b[0;36m<module>\u001b[0;34m\u001b[0m\n\u001b[0;32m----> 1\u001b[0;31m \u001b[0mlen\u001b[0m\u001b[0;34m(\u001b[0m\u001b[0mdf14\u001b[0m\u001b[0;34m)\u001b[0m\u001b[0;34m\u001b[0m\u001b[0;34m\u001b[0m\u001b[0m\n\u001b[0m",
      "\u001b[0;31mTypeError\u001b[0m: object of type 'DataFrame' has no len()"
     ]
    }
   ],
   "source": [
    "len(df14)"
   ]
  },
  {
   "cell_type": "markdown",
   "id": "respected-myanmar",
   "metadata": {},
   "source": [
    "To support usage with the `len` function, we can define the `__len__` method."
   ]
  },
  {
   "cell_type": "code",
   "execution_count": 73,
   "id": "legendary-grill",
   "metadata": {},
   "outputs": [],
   "source": [
    "from copy import deepcopy\n",
    "from tabulate import tabulate\n",
    "\n",
    "class DataFrame:\n",
    "    def __init__(self, data):\n",
    "        self.data = data\n",
    "        self.columns = list(data.keys())\n",
    "        \n",
    "    def get_column(self, col_name):\n",
    "        return self.data[col_name]\n",
    "    \n",
    "    def get_row(self, i):\n",
    "        result = {}\n",
    "        for col in self.columns:\n",
    "            result[col] = self.data[col][i]\n",
    "        return result\n",
    "    \n",
    "    def copy(self):\n",
    "        data_copy = copy.deepcopy(self.data)\n",
    "        return DataFrame(data_copy)\n",
    "    \n",
    "    def __repr__(self):\n",
    "        return tabulate(self.data, self.columns, 'pretty')\n",
    "    \n",
    "    def __str__(self):\n",
    "        return tabulate(self.data, self.columns, 'pretty')\n",
    "    \n",
    "    def __len__(self):\n",
    "        return len(self.data[self.columns[0]])"
   ]
  },
  {
   "cell_type": "code",
   "execution_count": 74,
   "id": "conscious-europe",
   "metadata": {},
   "outputs": [],
   "source": [
    "df15 = DataFrame(artists_data)"
   ]
  },
  {
   "cell_type": "code",
   "execution_count": 75,
   "id": "central-arlington",
   "metadata": {},
   "outputs": [
    {
     "data": {
      "text/plain": [
       "4"
      ]
     },
     "execution_count": 75,
     "metadata": {},
     "output_type": "execute_result"
    }
   ],
   "source": [
    "len(df15)"
   ]
  },
  {
   "cell_type": "markdown",
   "id": "widespread-institute",
   "metadata": {},
   "source": [
    "Note that not every class you define would need to support the `len` method."
   ]
  },
  {
   "cell_type": "markdown",
   "id": "headed-basketball",
   "metadata": {},
   "source": [
    "### `__getitem__` and  `__setitem__`\n",
    "\n",
    "While we do have a method `get_column` to retrieve values in a column from our custom data frames, Pandas dataframes allow doing this easily using the indexing notation."
   ]
  },
  {
   "cell_type": "code",
   "execution_count": 76,
   "id": "female-antigua",
   "metadata": {},
   "outputs": [],
   "source": [
    "df16 = DataFrame(artists_data)"
   ]
  },
  {
   "cell_type": "code",
   "execution_count": 77,
   "id": "divided-message",
   "metadata": {},
   "outputs": [
    {
     "data": {
      "text/plain": [
       "['Billie Holiday', 'Jimi Hendrix', 'Miles Davis', 'SIA']"
      ]
     },
     "execution_count": 77,
     "metadata": {},
     "output_type": "execute_result"
    }
   ],
   "source": [
    "df16.get_column('Artist')"
   ]
  },
  {
   "cell_type": "code",
   "execution_count": 78,
   "id": "received-filename",
   "metadata": {},
   "outputs": [
    {
     "data": {
      "text/plain": [
       "0    Billie Holiday\n",
       "1      Jimi Hendrix\n",
       "2       Miles Davis\n",
       "3               SIA\n",
       "Name: Artist, dtype: object"
      ]
     },
     "execution_count": 78,
     "metadata": {},
     "output_type": "execute_result"
    }
   ],
   "source": [
    "pandas_df['Artist']"
   ]
  },
  {
   "cell_type": "code",
   "execution_count": 79,
   "id": "julian-springer",
   "metadata": {},
   "outputs": [
    {
     "ename": "TypeError",
     "evalue": "'DataFrame' object is not subscriptable",
     "output_type": "error",
     "traceback": [
      "\u001b[0;31m---------------------------------------------------------------------------\u001b[0m",
      "\u001b[0;31mTypeError\u001b[0m                                 Traceback (most recent call last)",
      "\u001b[0;32m<ipython-input-79-1c276ec7b696>\u001b[0m in \u001b[0;36m<module>\u001b[0;34m\u001b[0m\n\u001b[0;32m----> 1\u001b[0;31m \u001b[0mdf16\u001b[0m\u001b[0;34m[\u001b[0m\u001b[0;34m'Artist'\u001b[0m\u001b[0;34m]\u001b[0m\u001b[0;34m\u001b[0m\u001b[0;34m\u001b[0m\u001b[0m\n\u001b[0m",
      "\u001b[0;31mTypeError\u001b[0m: 'DataFrame' object is not subscriptable"
     ]
    }
   ],
   "source": [
    "df16['Artist']"
   ]
  },
  {
   "cell_type": "markdown",
   "id": "traditional-devil",
   "metadata": {},
   "source": [
    "Further, pandas dataframes also allow creating new columns using the indexing notation."
   ]
  },
  {
   "cell_type": "code",
   "execution_count": 80,
   "id": "manual-tooth",
   "metadata": {},
   "outputs": [
    {
     "data": {
      "text/html": [
       "<div>\n",
       "<style scoped>\n",
       "    .dataframe tbody tr th:only-of-type {\n",
       "        vertical-align: middle;\n",
       "    }\n",
       "\n",
       "    .dataframe tbody tr th {\n",
       "        vertical-align: top;\n",
       "    }\n",
       "\n",
       "    .dataframe thead th {\n",
       "        text-align: right;\n",
       "    }\n",
       "</style>\n",
       "<table border=\"1\" class=\"dataframe\">\n",
       "  <thead>\n",
       "    <tr style=\"text-align: right;\">\n",
       "      <th></th>\n",
       "      <th>Artist</th>\n",
       "      <th>Genre</th>\n",
       "      <th>Listeners</th>\n",
       "    </tr>\n",
       "  </thead>\n",
       "  <tbody>\n",
       "    <tr>\n",
       "      <th>0</th>\n",
       "      <td>Billie Holiday</td>\n",
       "      <td>Jazz</td>\n",
       "      <td>130000</td>\n",
       "    </tr>\n",
       "    <tr>\n",
       "      <th>1</th>\n",
       "      <td>Jimi Hendrix</td>\n",
       "      <td>Rock</td>\n",
       "      <td>270000</td>\n",
       "    </tr>\n",
       "    <tr>\n",
       "      <th>2</th>\n",
       "      <td>Miles Davis</td>\n",
       "      <td>Jazz</td>\n",
       "      <td>150000</td>\n",
       "    </tr>\n",
       "    <tr>\n",
       "      <th>3</th>\n",
       "      <td>SIA</td>\n",
       "      <td>Pop</td>\n",
       "      <td>200000</td>\n",
       "    </tr>\n",
       "  </tbody>\n",
       "</table>\n",
       "</div>"
      ],
      "text/plain": [
       "           Artist Genre  Listeners\n",
       "0  Billie Holiday  Jazz     130000\n",
       "1    Jimi Hendrix  Rock     270000\n",
       "2     Miles Davis  Jazz     150000\n",
       "3             SIA   Pop     200000"
      ]
     },
     "execution_count": 80,
     "metadata": {},
     "output_type": "execute_result"
    }
   ],
   "source": [
    "pandas_df2 = pandas_df.copy()\n",
    "pandas_df2"
   ]
  },
  {
   "cell_type": "code",
   "execution_count": 81,
   "id": "automotive-finding",
   "metadata": {},
   "outputs": [],
   "source": [
    "sales = [20000, 31000, 24000, 27000]"
   ]
  },
  {
   "cell_type": "code",
   "execution_count": 82,
   "id": "soviet-excellence",
   "metadata": {},
   "outputs": [],
   "source": [
    "pandas_df2['Sales'] = sales"
   ]
  },
  {
   "cell_type": "code",
   "execution_count": 83,
   "id": "figured-response",
   "metadata": {},
   "outputs": [
    {
     "data": {
      "text/html": [
       "<div>\n",
       "<style scoped>\n",
       "    .dataframe tbody tr th:only-of-type {\n",
       "        vertical-align: middle;\n",
       "    }\n",
       "\n",
       "    .dataframe tbody tr th {\n",
       "        vertical-align: top;\n",
       "    }\n",
       "\n",
       "    .dataframe thead th {\n",
       "        text-align: right;\n",
       "    }\n",
       "</style>\n",
       "<table border=\"1\" class=\"dataframe\">\n",
       "  <thead>\n",
       "    <tr style=\"text-align: right;\">\n",
       "      <th></th>\n",
       "      <th>Artist</th>\n",
       "      <th>Genre</th>\n",
       "      <th>Listeners</th>\n",
       "    </tr>\n",
       "  </thead>\n",
       "  <tbody>\n",
       "    <tr>\n",
       "      <th>0</th>\n",
       "      <td>Billie Holiday</td>\n",
       "      <td>Jazz</td>\n",
       "      <td>130000</td>\n",
       "    </tr>\n",
       "    <tr>\n",
       "      <th>1</th>\n",
       "      <td>Jimi Hendrix</td>\n",
       "      <td>Rock</td>\n",
       "      <td>270000</td>\n",
       "    </tr>\n",
       "    <tr>\n",
       "      <th>2</th>\n",
       "      <td>Miles Davis</td>\n",
       "      <td>Jazz</td>\n",
       "      <td>150000</td>\n",
       "    </tr>\n",
       "    <tr>\n",
       "      <th>3</th>\n",
       "      <td>SIA</td>\n",
       "      <td>Pop</td>\n",
       "      <td>200000</td>\n",
       "    </tr>\n",
       "  </tbody>\n",
       "</table>\n",
       "</div>"
      ],
      "text/plain": [
       "           Artist Genre  Listeners\n",
       "0  Billie Holiday  Jazz     130000\n",
       "1    Jimi Hendrix  Rock     270000\n",
       "2     Miles Davis  Jazz     150000\n",
       "3             SIA   Pop     200000"
      ]
     },
     "execution_count": 83,
     "metadata": {},
     "output_type": "execute_result"
    }
   ],
   "source": [
    "pandas_df"
   ]
  },
  {
   "cell_type": "code",
   "execution_count": 84,
   "id": "defensive-distinction",
   "metadata": {},
   "outputs": [
    {
     "ename": "TypeError",
     "evalue": "'DataFrame' object does not support item assignment",
     "output_type": "error",
     "traceback": [
      "\u001b[0;31m---------------------------------------------------------------------------\u001b[0m",
      "\u001b[0;31mTypeError\u001b[0m                                 Traceback (most recent call last)",
      "\u001b[0;32m<ipython-input-84-c2c11d7c4d36>\u001b[0m in \u001b[0;36m<module>\u001b[0;34m\u001b[0m\n\u001b[0;32m----> 1\u001b[0;31m \u001b[0mdf16\u001b[0m\u001b[0;34m[\u001b[0m\u001b[0;34m'Sales'\u001b[0m\u001b[0;34m]\u001b[0m \u001b[0;34m=\u001b[0m \u001b[0msales\u001b[0m\u001b[0;34m\u001b[0m\u001b[0;34m\u001b[0m\u001b[0m\n\u001b[0m",
      "\u001b[0;31mTypeError\u001b[0m: 'DataFrame' object does not support item assignment"
     ]
    }
   ],
   "source": [
    "df16['Sales'] = sales"
   ]
  },
  {
   "cell_type": "markdown",
   "id": "scientific-measure",
   "metadata": {},
   "source": [
    "To support the indexing notation for getting and creating columns, we can implement the `__getitem__` and `__setitem__` methods on our class."
   ]
  },
  {
   "cell_type": "code",
   "execution_count": 88,
   "id": "reliable-silly",
   "metadata": {},
   "outputs": [],
   "source": [
    "from copy import deepcopy\n",
    "from tabulate import tabulate\n",
    "\n",
    "class DataFrame:\n",
    "    def __init__(self, data):\n",
    "        self.data = deepcopy(data)\n",
    "        self.columns = list(data.keys())\n",
    "        \n",
    "    def __getitem__(self, col_name):\n",
    "        return self.data[col_name]\n",
    "    \n",
    "    def __setitem__(self, col_name, col_values):\n",
    "        self.data[col_name] = col_values\n",
    "        self.columns = list(self.data.keys())\n",
    "    \n",
    "    def get_row(self, i):\n",
    "        result = {}\n",
    "        for col in self.columns:\n",
    "            result[col] = self.data[col][i]\n",
    "        return result\n",
    "    \n",
    "    def copy(self):\n",
    "        data_copy = copy.deepcopy(self.data)\n",
    "        return DataFrame(data_copy)\n",
    "    \n",
    "    def __repr__(self):\n",
    "        return tabulate(self.data, self.columns, 'pretty')\n",
    "    \n",
    "    def __str__(self):\n",
    "        return tabulate(self.data, self.columns, 'pretty')\n",
    "    \n",
    "    def __len__(self):\n",
    "        return len(self.data[self.columns[0]])"
   ]
  },
  {
   "cell_type": "code",
   "execution_count": 89,
   "id": "familiar-possession",
   "metadata": {},
   "outputs": [],
   "source": [
    "df17 = DataFrame(artists_data)"
   ]
  },
  {
   "cell_type": "code",
   "execution_count": 90,
   "id": "protecting-disco",
   "metadata": {},
   "outputs": [
    {
     "data": {
      "text/plain": [
       "+----------------+-------+-----------+\n",
       "|     Artist     | Genre | Listeners |\n",
       "+----------------+-------+-----------+\n",
       "| Billie Holiday | Jazz  |  130000   |\n",
       "|  Jimi Hendrix  | Rock  |  270000   |\n",
       "|  Miles Davis   | Jazz  |  150000   |\n",
       "|      SIA       |  Pop  |  200000   |\n",
       "+----------------+-------+-----------+"
      ]
     },
     "execution_count": 90,
     "metadata": {},
     "output_type": "execute_result"
    }
   ],
   "source": [
    "df17"
   ]
  },
  {
   "cell_type": "code",
   "execution_count": 91,
   "id": "stupid-vertical",
   "metadata": {},
   "outputs": [
    {
     "data": {
      "text/plain": [
       "['Billie Holiday', 'Jimi Hendrix', 'Miles Davis', 'SIA']"
      ]
     },
     "execution_count": 91,
     "metadata": {},
     "output_type": "execute_result"
    }
   ],
   "source": [
    "df17['Artist']"
   ]
  },
  {
   "cell_type": "code",
   "execution_count": 92,
   "id": "independent-librarian",
   "metadata": {},
   "outputs": [],
   "source": [
    "df17['Sales'] = sales"
   ]
  },
  {
   "cell_type": "code",
   "execution_count": 93,
   "id": "continent-newman",
   "metadata": {},
   "outputs": [
    {
     "data": {
      "text/plain": [
       "+----------------+-------+-----------+-------+\n",
       "|     Artist     | Genre | Listeners | Sales |\n",
       "+----------------+-------+-----------+-------+\n",
       "| Billie Holiday | Jazz  |  130000   | 20000 |\n",
       "|  Jimi Hendrix  | Rock  |  270000   | 31000 |\n",
       "|  Miles Davis   | Jazz  |  150000   | 24000 |\n",
       "|      SIA       |  Pop  |  200000   | 27000 |\n",
       "+----------------+-------+-----------+-------+"
      ]
     },
     "execution_count": 93,
     "metadata": {},
     "output_type": "execute_result"
    }
   ],
   "source": [
    "df17"
   ]
  },
  {
   "cell_type": "markdown",
   "id": "catholic-restaurant",
   "metadata": {},
   "source": [
    "We now have a way to access, add and modify columns in our dataframe."
   ]
  },
  {
   "cell_type": "markdown",
   "id": "played-phoenix",
   "metadata": {},
   "source": [
    "### `__iter__`\n",
    "\n",
    "Pandas dataframe also support iteration, and can be used in `for` loops. Each iteration of the the loop, we get access to one column of the dataframe. "
   ]
  },
  {
   "cell_type": "code",
   "execution_count": 94,
   "id": "blocked-ethernet",
   "metadata": {},
   "outputs": [
    {
     "name": "stdout",
     "output_type": "stream",
     "text": [
      "Artist\n",
      "Genre\n",
      "Listeners\n"
     ]
    }
   ],
   "source": [
    "for x in pandas_df:\n",
    "    print(x)"
   ]
  },
  {
   "cell_type": "code",
   "execution_count": 95,
   "id": "short-championship",
   "metadata": {},
   "outputs": [
    {
     "ename": "KeyError",
     "evalue": "0",
     "output_type": "error",
     "traceback": [
      "\u001b[0;31m---------------------------------------------------------------------------\u001b[0m",
      "\u001b[0;31mKeyError\u001b[0m                                  Traceback (most recent call last)",
      "\u001b[0;32m<ipython-input-95-ed0eb8d1e195>\u001b[0m in \u001b[0;36m<module>\u001b[0;34m\u001b[0m\n\u001b[0;32m----> 1\u001b[0;31m \u001b[0;32mfor\u001b[0m \u001b[0mx\u001b[0m \u001b[0;32min\u001b[0m \u001b[0mdf17\u001b[0m\u001b[0;34m:\u001b[0m\u001b[0;34m\u001b[0m\u001b[0;34m\u001b[0m\u001b[0m\n\u001b[0m\u001b[1;32m      2\u001b[0m     \u001b[0mprint\u001b[0m\u001b[0;34m(\u001b[0m\u001b[0mx\u001b[0m\u001b[0;34m)\u001b[0m\u001b[0;34m\u001b[0m\u001b[0;34m\u001b[0m\u001b[0m\n",
      "\u001b[0;32m<ipython-input-88-3dd7e0d01270>\u001b[0m in \u001b[0;36m__getitem__\u001b[0;34m(self, col_name)\u001b[0m\n\u001b[1;32m      8\u001b[0m \u001b[0;34m\u001b[0m\u001b[0m\n\u001b[1;32m      9\u001b[0m     \u001b[0;32mdef\u001b[0m \u001b[0m__getitem__\u001b[0m\u001b[0;34m(\u001b[0m\u001b[0mself\u001b[0m\u001b[0;34m,\u001b[0m \u001b[0mcol_name\u001b[0m\u001b[0;34m)\u001b[0m\u001b[0;34m:\u001b[0m\u001b[0;34m\u001b[0m\u001b[0;34m\u001b[0m\u001b[0m\n\u001b[0;32m---> 10\u001b[0;31m         \u001b[0;32mreturn\u001b[0m \u001b[0mself\u001b[0m\u001b[0;34m.\u001b[0m\u001b[0mdata\u001b[0m\u001b[0;34m[\u001b[0m\u001b[0mcol_name\u001b[0m\u001b[0;34m]\u001b[0m\u001b[0;34m\u001b[0m\u001b[0;34m\u001b[0m\u001b[0m\n\u001b[0m\u001b[1;32m     11\u001b[0m \u001b[0;34m\u001b[0m\u001b[0m\n\u001b[1;32m     12\u001b[0m     \u001b[0;32mdef\u001b[0m \u001b[0m__setitem__\u001b[0m\u001b[0;34m(\u001b[0m\u001b[0mself\u001b[0m\u001b[0;34m,\u001b[0m \u001b[0mcol_name\u001b[0m\u001b[0;34m,\u001b[0m \u001b[0mcol_values\u001b[0m\u001b[0;34m)\u001b[0m\u001b[0;34m:\u001b[0m\u001b[0;34m\u001b[0m\u001b[0;34m\u001b[0m\u001b[0m\n",
      "\u001b[0;31mKeyError\u001b[0m: 0"
     ]
    }
   ],
   "source": [
    "for x in df17:\n",
    "    print(x)"
   ]
  },
  {
   "cell_type": "markdown",
   "id": "invalid-delhi",
   "metadata": {},
   "source": [
    "To support iteration for custom classes, we can implement the `__iter__` method."
   ]
  },
  {
   "cell_type": "code",
   "execution_count": 96,
   "id": "banned-field",
   "metadata": {},
   "outputs": [],
   "source": [
    "from copy import deepcopy\n",
    "from tabulate import tabulate\n",
    "\n",
    "class DataFrame:\n",
    "    def __init__(self, data):\n",
    "        self.data = deepcopy(data)\n",
    "        self.columns = list(data.keys())\n",
    "        \n",
    "    def __getitem__(self, col_name):\n",
    "        return self.data[col_name]\n",
    "    \n",
    "    def __setitem__(self, col_name, col_values):\n",
    "        self.data[col_name] = col_values\n",
    "        self.columns = list(self.data.keys())\n",
    "    \n",
    "    def get_row(self, i):\n",
    "        result = {}\n",
    "        for col in self.columns:\n",
    "            result[col] = self.data[col][i]\n",
    "        return result\n",
    "    \n",
    "    def copy(self):\n",
    "        data_copy = copy.deepcopy(self.data)\n",
    "        return DataFrame(data_copy)\n",
    "    \n",
    "    def __repr__(self):\n",
    "        return tabulate(self.data, self.columns, 'pretty')\n",
    "    \n",
    "    def __str__(self):\n",
    "        return tabulate(self.data, self.columns, 'pretty')\n",
    "    \n",
    "    def __len__(self):\n",
    "        return len(self.data[self.columns[0]])\n",
    "    \n",
    "    def __iter__(self):\n",
    "        for col in self.columns:\n",
    "            yield col"
   ]
  },
  {
   "cell_type": "markdown",
   "id": "classified-effects",
   "metadata": {},
   "source": [
    "Note the use of the `yield` keyword, instead of `return`. This converts the function into a \"generator\" which returns a new value each time it is invoked."
   ]
  },
  {
   "cell_type": "code",
   "execution_count": 97,
   "id": "mediterranean-click",
   "metadata": {},
   "outputs": [],
   "source": [
    "df18 = DataFrame(artists_data)"
   ]
  },
  {
   "cell_type": "code",
   "execution_count": 98,
   "id": "transparent-elephant",
   "metadata": {},
   "outputs": [
    {
     "name": "stdout",
     "output_type": "stream",
     "text": [
      "Artist\n",
      "Genre\n",
      "Listeners\n"
     ]
    }
   ],
   "source": [
    "for x in df18:\n",
    "    print(x)"
   ]
  },
  {
   "cell_type": "markdown",
   "id": "based-chance",
   "metadata": {},
   "source": [
    "We can now iterate over our dataframe using a `for` loop.\n",
    "\n",
    "You can find a full list of \"dunder\" methods and their usage here: https://holycoders.com/python-dunder-special-methods/ . Keep in mind that only some dunder methods are relevant for any given class, and you needn't implement all (or any) of them for every class your create."
   ]
  },
  {
   "cell_type": "markdown",
   "id": "single-devon",
   "metadata": {},
   "source": [
    "Let's save our work before continuing."
   ]
  },
  {
   "cell_type": "code",
   "execution_count": null,
   "id": "minute-cancellation",
   "metadata": {},
   "outputs": [],
   "source": [
    "jovian.commit()"
   ]
  },
  {
   "cell_type": "markdown",
   "id": "hungarian-technical",
   "metadata": {},
   "source": [
    "## Getters, setters, static methods and class methods\n",
    "\n",
    "One of the issues with our implementation is that we can't reliably rename the columns of a dataframe, like we can in Pandas."
   ]
  },
  {
   "cell_type": "code",
   "execution_count": 99,
   "id": "suitable-meditation",
   "metadata": {},
   "outputs": [
    {
     "data": {
      "text/html": [
       "<div>\n",
       "<style scoped>\n",
       "    .dataframe tbody tr th:only-of-type {\n",
       "        vertical-align: middle;\n",
       "    }\n",
       "\n",
       "    .dataframe tbody tr th {\n",
       "        vertical-align: top;\n",
       "    }\n",
       "\n",
       "    .dataframe thead th {\n",
       "        text-align: right;\n",
       "    }\n",
       "</style>\n",
       "<table border=\"1\" class=\"dataframe\">\n",
       "  <thead>\n",
       "    <tr style=\"text-align: right;\">\n",
       "      <th></th>\n",
       "      <th>Artist</th>\n",
       "      <th>Genre</th>\n",
       "      <th>Listeners</th>\n",
       "    </tr>\n",
       "  </thead>\n",
       "  <tbody>\n",
       "    <tr>\n",
       "      <th>0</th>\n",
       "      <td>Billie Holiday</td>\n",
       "      <td>Jazz</td>\n",
       "      <td>130000</td>\n",
       "    </tr>\n",
       "    <tr>\n",
       "      <th>1</th>\n",
       "      <td>Jimi Hendrix</td>\n",
       "      <td>Rock</td>\n",
       "      <td>270000</td>\n",
       "    </tr>\n",
       "    <tr>\n",
       "      <th>2</th>\n",
       "      <td>Miles Davis</td>\n",
       "      <td>Jazz</td>\n",
       "      <td>150000</td>\n",
       "    </tr>\n",
       "    <tr>\n",
       "      <th>3</th>\n",
       "      <td>SIA</td>\n",
       "      <td>Pop</td>\n",
       "      <td>200000</td>\n",
       "    </tr>\n",
       "  </tbody>\n",
       "</table>\n",
       "</div>"
      ],
      "text/plain": [
       "           Artist Genre  Listeners\n",
       "0  Billie Holiday  Jazz     130000\n",
       "1    Jimi Hendrix  Rock     270000\n",
       "2     Miles Davis  Jazz     150000\n",
       "3             SIA   Pop     200000"
      ]
     },
     "execution_count": 99,
     "metadata": {},
     "output_type": "execute_result"
    }
   ],
   "source": [
    "pandas_df2 = pandas_df.copy()\n",
    "pandas_df2"
   ]
  },
  {
   "cell_type": "code",
   "execution_count": 102,
   "id": "charitable-association",
   "metadata": {},
   "outputs": [
    {
     "data": {
      "text/html": [
       "<div>\n",
       "<style scoped>\n",
       "    .dataframe tbody tr th:only-of-type {\n",
       "        vertical-align: middle;\n",
       "    }\n",
       "\n",
       "    .dataframe tbody tr th {\n",
       "        vertical-align: top;\n",
       "    }\n",
       "\n",
       "    .dataframe thead th {\n",
       "        text-align: right;\n",
       "    }\n",
       "</style>\n",
       "<table border=\"1\" class=\"dataframe\">\n",
       "  <thead>\n",
       "    <tr style=\"text-align: right;\">\n",
       "      <th></th>\n",
       "      <th>Singer</th>\n",
       "      <th>Category</th>\n",
       "      <th>Listeners</th>\n",
       "    </tr>\n",
       "  </thead>\n",
       "  <tbody>\n",
       "    <tr>\n",
       "      <th>0</th>\n",
       "      <td>Billie Holiday</td>\n",
       "      <td>Jazz</td>\n",
       "      <td>130000</td>\n",
       "    </tr>\n",
       "    <tr>\n",
       "      <th>1</th>\n",
       "      <td>Jimi Hendrix</td>\n",
       "      <td>Rock</td>\n",
       "      <td>270000</td>\n",
       "    </tr>\n",
       "    <tr>\n",
       "      <th>2</th>\n",
       "      <td>Miles Davis</td>\n",
       "      <td>Jazz</td>\n",
       "      <td>150000</td>\n",
       "    </tr>\n",
       "    <tr>\n",
       "      <th>3</th>\n",
       "      <td>SIA</td>\n",
       "      <td>Pop</td>\n",
       "      <td>200000</td>\n",
       "    </tr>\n",
       "  </tbody>\n",
       "</table>\n",
       "</div>"
      ],
      "text/plain": [
       "           Singer Category  Listeners\n",
       "0  Billie Holiday     Jazz     130000\n",
       "1    Jimi Hendrix     Rock     270000\n",
       "2     Miles Davis     Jazz     150000\n",
       "3             SIA      Pop     200000"
      ]
     },
     "execution_count": 102,
     "metadata": {},
     "output_type": "execute_result"
    }
   ],
   "source": [
    "pandas_df2.columns = ['Singer', 'Category', 'Listeners']\n",
    "pandas_df2"
   ]
  },
  {
   "cell_type": "code",
   "execution_count": 103,
   "id": "right-rouge",
   "metadata": {},
   "outputs": [
    {
     "data": {
      "text/plain": [
       "0    Billie Holiday\n",
       "1      Jimi Hendrix\n",
       "2       Miles Davis\n",
       "3               SIA\n",
       "Name: Singer, dtype: object"
      ]
     },
     "execution_count": 103,
     "metadata": {},
     "output_type": "execute_result"
    }
   ],
   "source": [
    "pandas_df2['Singer']"
   ]
  },
  {
   "cell_type": "code",
   "execution_count": 104,
   "id": "institutional-render",
   "metadata": {},
   "outputs": [],
   "source": [
    "df19 = DataFrame(artists_data)"
   ]
  },
  {
   "cell_type": "code",
   "execution_count": 105,
   "id": "graphic-squad",
   "metadata": {},
   "outputs": [
    {
     "data": {
      "text/plain": [
       "+----------------+----------+-----------+\n",
       "|     Singer     | Category | Listeners |\n",
       "+----------------+----------+-----------+\n",
       "| Billie Holiday |   Jazz   |  130000   |\n",
       "|  Jimi Hendrix  |   Rock   |  270000   |\n",
       "|  Miles Davis   |   Jazz   |  150000   |\n",
       "|      SIA       |   Pop    |  200000   |\n",
       "+----------------+----------+-----------+"
      ]
     },
     "execution_count": 105,
     "metadata": {},
     "output_type": "execute_result"
    }
   ],
   "source": [
    "df19.columns = ['Singer', 'Category', 'Listeners']\n",
    "df19"
   ]
  },
  {
   "cell_type": "code",
   "execution_count": 106,
   "id": "antique-administration",
   "metadata": {},
   "outputs": [
    {
     "ename": "KeyError",
     "evalue": "'Singer'",
     "output_type": "error",
     "traceback": [
      "\u001b[0;31m---------------------------------------------------------------------------\u001b[0m",
      "\u001b[0;31mKeyError\u001b[0m                                  Traceback (most recent call last)",
      "\u001b[0;32m<ipython-input-106-122239cdb9d5>\u001b[0m in \u001b[0;36m<module>\u001b[0;34m\u001b[0m\n\u001b[0;32m----> 1\u001b[0;31m \u001b[0mdf19\u001b[0m\u001b[0;34m[\u001b[0m\u001b[0;34m'Singer'\u001b[0m\u001b[0;34m]\u001b[0m\u001b[0;34m\u001b[0m\u001b[0;34m\u001b[0m\u001b[0m\n\u001b[0m",
      "\u001b[0;32m<ipython-input-96-64dd20934739>\u001b[0m in \u001b[0;36m__getitem__\u001b[0;34m(self, col_name)\u001b[0m\n\u001b[1;32m      8\u001b[0m \u001b[0;34m\u001b[0m\u001b[0m\n\u001b[1;32m      9\u001b[0m     \u001b[0;32mdef\u001b[0m \u001b[0m__getitem__\u001b[0m\u001b[0;34m(\u001b[0m\u001b[0mself\u001b[0m\u001b[0;34m,\u001b[0m \u001b[0mcol_name\u001b[0m\u001b[0;34m)\u001b[0m\u001b[0;34m:\u001b[0m\u001b[0;34m\u001b[0m\u001b[0;34m\u001b[0m\u001b[0m\n\u001b[0;32m---> 10\u001b[0;31m         \u001b[0;32mreturn\u001b[0m \u001b[0mself\u001b[0m\u001b[0;34m.\u001b[0m\u001b[0mdata\u001b[0m\u001b[0;34m[\u001b[0m\u001b[0mcol_name\u001b[0m\u001b[0;34m]\u001b[0m\u001b[0;34m\u001b[0m\u001b[0;34m\u001b[0m\u001b[0m\n\u001b[0m\u001b[1;32m     11\u001b[0m \u001b[0;34m\u001b[0m\u001b[0m\n\u001b[1;32m     12\u001b[0m     \u001b[0;32mdef\u001b[0m \u001b[0m__setitem__\u001b[0m\u001b[0;34m(\u001b[0m\u001b[0mself\u001b[0m\u001b[0;34m,\u001b[0m \u001b[0mcol_name\u001b[0m\u001b[0;34m,\u001b[0m \u001b[0mcol_values\u001b[0m\u001b[0;34m)\u001b[0m\u001b[0;34m:\u001b[0m\u001b[0;34m\u001b[0m\u001b[0;34m\u001b[0m\u001b[0m\n",
      "\u001b[0;31mKeyError\u001b[0m: 'Singer'"
     ]
    }
   ],
   "source": [
    "df19['Singer']"
   ]
  },
  {
   "cell_type": "markdown",
   "id": "economic-designer",
   "metadata": {},
   "source": [
    "This error occurs because the key in the internal dict are not yet modified."
   ]
  },
  {
   "cell_type": "code",
   "execution_count": 107,
   "id": "graduate-cradle",
   "metadata": {},
   "outputs": [
    {
     "data": {
      "text/plain": [
       "{'Artist': ['Billie Holiday', 'Jimi Hendrix', 'Miles Davis', 'SIA'],\n",
       " 'Genre': ['Jazz', 'Rock', 'Jazz', 'Pop'],\n",
       " 'Listeners': [130000, 270000, 150000, 200000]}"
      ]
     },
     "execution_count": 107,
     "metadata": {},
     "output_type": "execute_result"
    }
   ],
   "source": [
    "df19.data"
   ]
  },
  {
   "cell_type": "markdown",
   "id": "serious-disease",
   "metadata": {},
   "source": [
    "We can solve this issue by defining two functions for the `column` property: a \"getter\" and a \"setter\""
   ]
  },
  {
   "cell_type": "code",
   "execution_count": 113,
   "id": "technological-small",
   "metadata": {},
   "outputs": [],
   "source": [
    "from copy import deepcopy\n",
    "from tabulate import tabulate\n",
    "\n",
    "class DataFrame:\n",
    "    def __init__(self, data):\n",
    "        self.data = deepcopy(data)\n",
    "        \n",
    "    @property\n",
    "    def columns(self):\n",
    "        return list(self.data.keys())\n",
    "    \n",
    "    @columns.setter\n",
    "    def columns(self, new_cols):\n",
    "        result = {}\n",
    "        for old_col, new_col in zip(self.columns, new_cols):\n",
    "            result[new_col] = self.data[old_col]\n",
    "        self.data = result\n",
    "        \n",
    "    def __getitem__(self, col_name):\n",
    "        return self.data[col_name]\n",
    "    \n",
    "    def __setitem__(self, col_name, col_values):\n",
    "        self.data[col_name] = col_values\n",
    "    \n",
    "    def get_row(self, i):\n",
    "        result = {}\n",
    "        for col in self.columns:\n",
    "            result[col] = self.data[col][i]\n",
    "        return result\n",
    "    \n",
    "    def copy(self):\n",
    "        data_copy = copy.deepcopy(self.data)\n",
    "        return DataFrame(data_copy)\n",
    "    \n",
    "    def __repr__(self):\n",
    "        return tabulate(self.data, self.columns, 'pretty')\n",
    "    \n",
    "    def __str__(self):\n",
    "        return tabulate(self.data, self.columns, 'pretty')\n",
    "    \n",
    "    def __len__(self):\n",
    "        return len(self.data[self.columns[0]])\n",
    "    \n",
    "    def __iter__(self):\n",
    "        for col in self.columns:\n",
    "            yield col"
   ]
  },
  {
   "cell_type": "code",
   "execution_count": 114,
   "id": "pressed-watts",
   "metadata": {},
   "outputs": [],
   "source": [
    "df20 = DataFrame(artists_data)"
   ]
  },
  {
   "cell_type": "code",
   "execution_count": 115,
   "id": "respiratory-skiing",
   "metadata": {},
   "outputs": [
    {
     "data": {
      "text/plain": [
       "+----------------+-------+-----------+\n",
       "|     Artist     | Genre | Listeners |\n",
       "+----------------+-------+-----------+\n",
       "| Billie Holiday | Jazz  |  130000   |\n",
       "|  Jimi Hendrix  | Rock  |  270000   |\n",
       "|  Miles Davis   | Jazz  |  150000   |\n",
       "|      SIA       |  Pop  |  200000   |\n",
       "+----------------+-------+-----------+"
      ]
     },
     "execution_count": 115,
     "metadata": {},
     "output_type": "execute_result"
    }
   ],
   "source": [
    "df20"
   ]
  },
  {
   "cell_type": "code",
   "execution_count": 116,
   "id": "solved-shock",
   "metadata": {},
   "outputs": [
    {
     "data": {
      "text/plain": [
       "['Artist', 'Genre', 'Listeners']"
      ]
     },
     "execution_count": 116,
     "metadata": {},
     "output_type": "execute_result"
    }
   ],
   "source": [
    "df20.columns"
   ]
  },
  {
   "cell_type": "code",
   "execution_count": 117,
   "id": "individual-encoding",
   "metadata": {},
   "outputs": [],
   "source": [
    "df20.columns = ['Singer', 'Category', 'Listeners']"
   ]
  },
  {
   "cell_type": "code",
   "execution_count": 118,
   "id": "toxic-policy",
   "metadata": {},
   "outputs": [
    {
     "data": {
      "text/plain": [
       "+----------------+----------+-----------+\n",
       "|     Singer     | Category | Listeners |\n",
       "+----------------+----------+-----------+\n",
       "| Billie Holiday |   Jazz   |  130000   |\n",
       "|  Jimi Hendrix  |   Rock   |  270000   |\n",
       "|  Miles Davis   |   Jazz   |  150000   |\n",
       "|      SIA       |   Pop    |  200000   |\n",
       "+----------------+----------+-----------+"
      ]
     },
     "execution_count": 118,
     "metadata": {},
     "output_type": "execute_result"
    }
   ],
   "source": [
    "df20"
   ]
  },
  {
   "cell_type": "code",
   "execution_count": 119,
   "id": "average-revision",
   "metadata": {},
   "outputs": [
    {
     "data": {
      "text/plain": [
       "{'Singer': ['Billie Holiday', 'Jimi Hendrix', 'Miles Davis', 'SIA'],\n",
       " 'Category': ['Jazz', 'Rock', 'Jazz', 'Pop'],\n",
       " 'Listeners': [130000, 270000, 150000, 200000]}"
      ]
     },
     "execution_count": 119,
     "metadata": {},
     "output_type": "execute_result"
    }
   ],
   "source": [
    "df20.data"
   ]
  },
  {
   "cell_type": "code",
   "execution_count": 120,
   "id": "clean-satellite",
   "metadata": {},
   "outputs": [
    {
     "data": {
      "text/plain": [
       "['Billie Holiday', 'Jimi Hendrix', 'Miles Davis', 'SIA']"
      ]
     },
     "execution_count": 120,
     "metadata": {},
     "output_type": "execute_result"
    }
   ],
   "source": [
    "df20['Singer']"
   ]
  },
  {
   "cell_type": "markdown",
   "id": "indirect-harris",
   "metadata": {},
   "source": [
    "### Static Methods\n",
    "\n",
    "We can also define methods in a class which are not bound to any specific object and can be used directly from the class."
   ]
  },
  {
   "cell_type": "code",
   "execution_count": 124,
   "id": "given-wagner",
   "metadata": {},
   "outputs": [],
   "source": [
    "from copy import deepcopy\n",
    "from tabulate import tabulate\n",
    "\n",
    "class DataFrame:\n",
    "    @staticmethod\n",
    "    def is_valid(data_dict):\n",
    "        \"\"\"Checks if a dictionary is in a valid format to create a dataframe\"\"\"\n",
    "        if not isinstance(data_dict, dict):\n",
    "            return False\n",
    "        cols = list(data_dict.keys())\n",
    "        if len(cols) == 0:\n",
    "            return False\n",
    "        for col in cols:\n",
    "            values = data_dict[col]\n",
    "            if not isinstance(values, list):\n",
    "                return False\n",
    "            if len(values) != len(data_dict[cols[0]]):\n",
    "                return False\n",
    "        return True\n",
    "    \n",
    "    def __init__(self, data):\n",
    "        self.data = deepcopy(data)\n",
    "        \n",
    "    @property\n",
    "    def columns(self):\n",
    "        return list(self.data.keys())\n",
    "    \n",
    "    @columns.setter\n",
    "    def columns(self, new_cols):\n",
    "        result = {}\n",
    "        for old_col, new_col in zip(self.columns, new_cols):\n",
    "            result[new_col] = self.data[old_col]\n",
    "        self.data = result\n",
    "        \n",
    "    def __getitem__(self, col_name):\n",
    "        return self.data[col_name]\n",
    "    \n",
    "    def __setitem__(self, col_name, col_values):\n",
    "        self.data[col_name] = col_values\n",
    "    \n",
    "    def get_row(self, i):\n",
    "        result = {}\n",
    "        for col in self.columns:\n",
    "            result[col] = self.data[col][i]\n",
    "        return result\n",
    "    \n",
    "    def copy(self):\n",
    "        data_copy = copy.deepcopy(self.data)\n",
    "        return DataFrame(data_copy)\n",
    "    \n",
    "    def __repr__(self):\n",
    "        return tabulate(self.data, self.columns, 'pretty')\n",
    "    \n",
    "    def __str__(self):\n",
    "        return tabulate(self.data, self.columns, 'pretty')\n",
    "    \n",
    "    def __len__(self):\n",
    "        return len(self.data[self.columns[0]])\n",
    "    \n",
    "    def __iter__(self):\n",
    "        for col in self.columns:\n",
    "            yield col"
   ]
  },
  {
   "cell_type": "code",
   "execution_count": 125,
   "id": "visible-threat",
   "metadata": {},
   "outputs": [
    {
     "data": {
      "text/plain": [
       "False"
      ]
     },
     "execution_count": 125,
     "metadata": {},
     "output_type": "execute_result"
    }
   ],
   "source": [
    "DataFrame.is_valid([])"
   ]
  },
  {
   "cell_type": "code",
   "execution_count": 127,
   "id": "daily-trust",
   "metadata": {},
   "outputs": [
    {
     "data": {
      "text/plain": [
       "False"
      ]
     },
     "execution_count": 127,
     "metadata": {},
     "output_type": "execute_result"
    }
   ],
   "source": [
    "DataFrame.is_valid({})"
   ]
  },
  {
   "cell_type": "code",
   "execution_count": 128,
   "id": "aquatic-honey",
   "metadata": {},
   "outputs": [
    {
     "data": {
      "text/plain": [
       "False"
      ]
     },
     "execution_count": 128,
     "metadata": {},
     "output_type": "execute_result"
    }
   ],
   "source": [
    "DataFrame.is_valid({'a': 1, 'b': 2})"
   ]
  },
  {
   "cell_type": "code",
   "execution_count": 129,
   "id": "popular-flashing",
   "metadata": {},
   "outputs": [
    {
     "data": {
      "text/plain": [
       "False"
      ]
     },
     "execution_count": 129,
     "metadata": {},
     "output_type": "execute_result"
    }
   ],
   "source": [
    "DataFrame.is_valid({'a': [1], 'b': [2, 3]})"
   ]
  },
  {
   "cell_type": "code",
   "execution_count": 130,
   "id": "colored-dubai",
   "metadata": {
    "scrolled": true
   },
   "outputs": [
    {
     "data": {
      "text/plain": [
       "True"
      ]
     },
     "execution_count": 130,
     "metadata": {},
     "output_type": "execute_result"
    }
   ],
   "source": [
    "DataFrame.is_valid({'a': [1, 4], 'b': [2, 3]})"
   ]
  },
  {
   "cell_type": "code",
   "execution_count": 132,
   "id": "egyptian-speaker",
   "metadata": {},
   "outputs": [
    {
     "data": {
      "text/plain": [
       "True"
      ]
     },
     "execution_count": 132,
     "metadata": {},
     "output_type": "execute_result"
    }
   ],
   "source": [
    "DataFrame.is_valid(artists_data)"
   ]
  },
  {
   "cell_type": "markdown",
   "id": "controversial-factor",
   "metadata": {},
   "source": [
    "### Class Method\n",
    "\n",
    "Another special type of method is a classmethod, which receives the class constructor as the first argument, and is often used to create alternate ways of creating an object.\n",
    "\n",
    "As an example, let's define a class method `read_json`, which can read data from a JSON file. Along with this, let's also add a normal method `to_json`."
   ]
  },
  {
   "cell_type": "code",
   "execution_count": 176,
   "id": "latter-roulette",
   "metadata": {},
   "outputs": [],
   "source": [
    "import json\n",
    "from copy import deepcopy\n",
    "from tabulate import tabulate\n",
    "\n",
    "class DataFrame:\n",
    "    @staticmethod\n",
    "    def is_valid(data_dict):\n",
    "        \"\"\"Checks if a dictionary is in a valid format to create a dataframe\"\"\"\n",
    "        if not isinstance(data_dict, dict):\n",
    "            return False\n",
    "        cols = list(data_dict.keys())\n",
    "        if len(cols) == 0:\n",
    "            return False\n",
    "        for col in cols:\n",
    "            values = data_dict[col]\n",
    "            if not isinstance(values, list):\n",
    "                return False\n",
    "            if len(values) != len(data_dict[cols[0]]):\n",
    "                return False\n",
    "        return True\n",
    "    \n",
    "    @classmethod\n",
    "    def read_json(cls, filename):\n",
    "        with open(filename, 'r') as f:\n",
    "            data = json.loads(f.read())\n",
    "        if DataFrame.is_valid(data):\n",
    "            return cls(data)\n",
    "        else:\n",
    "            raise Exception('Invalid data in file ' + filename)\n",
    "    \n",
    "    def to_json(self, filename):\n",
    "        with open(filename, 'w') as f:\n",
    "            f.write(json.dumps(self.data))\n",
    "    \n",
    "    def __init__(self, data):\n",
    "        self.data = deepcopy(data)\n",
    "        \n",
    "    @property\n",
    "    def columns(self):\n",
    "        return list(self.data.keys())\n",
    "    \n",
    "    @columns.setter\n",
    "    def columns(self, new_cols):\n",
    "        result = {}\n",
    "        for old_col, new_col in zip(self.columns, new_cols):\n",
    "            result[new_col] = self.data[old_col]\n",
    "        self.data = result\n",
    "        \n",
    "    def __getitem__(self, col_name):\n",
    "        return self.data[col_name]\n",
    "    \n",
    "    def __setitem__(self, col_name, col_values):\n",
    "        self.data[col_name] = col_values\n",
    "    \n",
    "    def get_row(self, i):\n",
    "        result = {}\n",
    "        for col in self.columns:\n",
    "            result[col] = self.data[col][i]\n",
    "        return result\n",
    "    \n",
    "    def copy(self):\n",
    "        data_copy = copy.deepcopy(self.data)\n",
    "        return DataFrame(data_copy)\n",
    "    \n",
    "    def __repr__(self):\n",
    "        return tabulate(self.data, self.columns, 'pretty')\n",
    "    \n",
    "    def __str__(self):\n",
    "        return tabulate(self.data, self.columns, 'pretty')\n",
    "    \n",
    "    def __len__(self):\n",
    "        return len(self.data[self.columns[0]])\n",
    "    \n",
    "    def __iter__(self):\n",
    "        for col in self.columns:\n",
    "            yield col"
   ]
  },
  {
   "cell_type": "code",
   "execution_count": 177,
   "id": "dated-substance",
   "metadata": {},
   "outputs": [],
   "source": [
    "with open('artists.json', 'w') as f:\n",
    "    f.write(json.dumps(artists_data))"
   ]
  },
  {
   "cell_type": "code",
   "execution_count": 178,
   "id": "arbitrary-probability",
   "metadata": {},
   "outputs": [
    {
     "name": "stdout",
     "output_type": "stream",
     "text": [
      "{\"Artist\": [\"Billie Holiday\", \"Jimi Hendrix\", \"Miles Davis\", \"SIA\"], \"Genre\": [\"Jazz\", \"Rock\", \"Jazz\", \"Pop\"], \"Listeners\": [130000, 270000, 150000, 200000]}"
     ]
    }
   ],
   "source": [
    "!cat artists.json"
   ]
  },
  {
   "cell_type": "code",
   "execution_count": 179,
   "id": "existing-helmet",
   "metadata": {},
   "outputs": [],
   "source": [
    "df = DataFrame.read_json('artists.json')"
   ]
  },
  {
   "cell_type": "code",
   "execution_count": 180,
   "id": "compact-living",
   "metadata": {
    "scrolled": false
   },
   "outputs": [
    {
     "data": {
      "text/plain": [
       "+----------------+-------+-----------+\n",
       "|     Artist     | Genre | Listeners |\n",
       "+----------------+-------+-----------+\n",
       "| Billie Holiday | Jazz  |  130000   |\n",
       "|  Jimi Hendrix  | Rock  |  270000   |\n",
       "|  Miles Davis   | Jazz  |  150000   |\n",
       "|      SIA       |  Pop  |  200000   |\n",
       "+----------------+-------+-----------+"
      ]
     },
     "execution_count": 180,
     "metadata": {},
     "output_type": "execute_result"
    }
   ],
   "source": [
    "df"
   ]
  },
  {
   "cell_type": "code",
   "execution_count": 181,
   "id": "brazilian-separate",
   "metadata": {},
   "outputs": [],
   "source": [
    "df.to_json('artists2.json')"
   ]
  },
  {
   "cell_type": "code",
   "execution_count": 182,
   "id": "quick-cross",
   "metadata": {},
   "outputs": [
    {
     "name": "stdout",
     "output_type": "stream",
     "text": [
      "{\"Artist\": [\"Billie Holiday\", \"Jimi Hendrix\", \"Miles Davis\", \"SIA\"], \"Genre\": [\"Jazz\", \"Rock\", \"Jazz\", \"Pop\"], \"Listeners\": [130000, 270000, 150000, 200000]}"
     ]
    }
   ],
   "source": [
    "!cat artists2.json"
   ]
  },
  {
   "cell_type": "markdown",
   "id": "widespread-mounting",
   "metadata": {},
   "source": [
    "**Exercises**:\n",
    "\n",
    "1. Implement a class method `read_csv` and a normal method (also called instance method) `to_csv` to read and write from CSV files. You may find the `csvwriter` module useful.\n",
    "\n",
    "\n",
    "2. Recall than Pandas dataframes also allow accessing columns using the `.` notation e.g. `pandas_df.Artist`. Add support for this behaviour in our implementation of the dataframe. Hint: Use the `__getattr__` dunder method.\n",
    "\n",
    "\n",
    "3. Our current implementation does not support custom indexes. Implement two more classes `Index` and `Series`. An `Index` is simply a list of indices used within a dataframe. A `Series` encapsulate the values with a column and associates them with an `Index`. Study and replicate the functionality of the Pandas `Series` and `Index` classes.\n",
    "\n",
    "\n",
    "4. Implement other commonly used methods and properties of pandas dataframes. Compare the performance of your implementations with those of Pandas dataframes. What causes the performance difference.\n",
    "\n"
   ]
  },
  {
   "cell_type": "code",
   "execution_count": null,
   "id": "first-lotus",
   "metadata": {},
   "outputs": [],
   "source": []
  },
  {
   "cell_type": "markdown",
   "id": "prospective-injury",
   "metadata": {},
   "source": [
    "Let's save our work before continuing."
   ]
  },
  {
   "cell_type": "code",
   "execution_count": null,
   "id": "ideal-stress",
   "metadata": {},
   "outputs": [
    {
     "data": {
      "application/javascript": [
       "window.require && require([\"base/js/namespace\"],function(Jupyter){Jupyter.notebook.save_checkpoint()})"
      ],
      "text/plain": [
       "<IPython.core.display.Javascript object>"
      ]
     },
     "metadata": {},
     "output_type": "display_data"
    },
    {
     "name": "stdout",
     "output_type": "stream",
     "text": [
      "[jovian] Attempting to save notebook..\u001b[0m\n"
     ]
    }
   ],
   "source": [
    "jovian.commit()"
   ]
  },
  {
   "cell_type": "markdown",
   "id": "compliant-theorem",
   "metadata": {},
   "source": [
    "## Inheritance, overriding and abstract methods\n",
    "\n",
    "Classes in Python can extend other classes i.e. they can inherit properties and methods from other classes. Here's an example of inheritance using geometric shapes.\n",
    "\n",
    "![](https://i.imgur.com/BSCxOkG.png)"
   ]
  },
  {
   "cell_type": "code",
   "execution_count": 148,
   "id": "missing-psychiatry",
   "metadata": {},
   "outputs": [],
   "source": [
    "import math\n",
    "from abc import abstractmethod\n",
    "\n",
    "class Shape:\n",
    "    def __init__(self, name):\n",
    "        self.name = name\n",
    "        \n",
    "    def __repr__(self):\n",
    "        return \"Shape<{}>\".format(self.name)\n",
    "    \n",
    "    @abstractmethod\n",
    "    def area(self):\n",
    "        pass\n",
    "    \n",
    "    @abstractmethod\n",
    "    def perimeter(self):\n",
    "        pass\n",
    "    \n",
    "    @staticmethod\n",
    "    def compare(shape1, shape2):\n",
    "        return shape1.area() > shape2.area()\n",
    "\n",
    "class Circle(Shape):\n",
    "    def __init__(self, radius):\n",
    "        super().__init__('Circle')\n",
    "        self.radius = radius\n",
    "        \n",
    "    def area(self):\n",
    "        return self.radius * self.radius * math.pi\n",
    "    \n",
    "    def perimeter(self):\n",
    "        return self.radius * 2 * math.pi\n",
    "\n",
    "    \n",
    "class Polygon:\n",
    "    @abstractmethod\n",
    "    def sides(self):\n",
    "        pass\n",
    "    \n",
    "    def has_more_sides_than(self, other_polygon):\n",
    "        return self.sides() > other_polygon.sides()\n",
    "    \n",
    "    \n",
    "class Rectangle(Shape, Polygon):\n",
    "    def __init__(self, length, breadth):\n",
    "        super().__init__('Rectangle')\n",
    "        self.length = length\n",
    "        self.breadth = breadth\n",
    "        \n",
    "    def area(self):\n",
    "        return self.length * self.breadth\n",
    "    \n",
    "    def perimeter(self):\n",
    "        return 2 * (self.length + self.breadth)\n",
    "    \n",
    "    def sides(self):\n",
    "        return 4\n",
    "    \n",
    "\n",
    "class Triangle(Shape, Polygon):\n",
    "    def __init__(self, side1, side2, side3):\n",
    "        super().__init__('Triangle')\n",
    "        self.side1 = side1\n",
    "        self.side2 = side2\n",
    "        self.side3 = side3\n",
    "        \n",
    "    def perimeter(self):\n",
    "        return self.side1 + self.side2 + self.side3\n",
    "    \n",
    "    def area(self):\n",
    "        s = self.perimeter() / 2\n",
    "        return math.sqrt(s * (s - self.side1) * (s - self.side2) * (self.side3))\n",
    "    \n",
    "    def sides(self):\n",
    "        return 3\n",
    "    \n",
    "class Square(Rectangle):\n",
    "    def __init__(self, side):\n",
    "        super().__init__(side, side)\n",
    "        self.name = 'Square'\n",
    "    "
   ]
  },
  {
   "cell_type": "markdown",
   "id": "convenient-criterion",
   "metadata": {},
   "source": [
    "Let's create a circle and try using some of the methods."
   ]
  },
  {
   "cell_type": "code",
   "execution_count": 149,
   "id": "international-iraqi",
   "metadata": {},
   "outputs": [],
   "source": [
    "circle1 = Circle(4)"
   ]
  },
  {
   "cell_type": "code",
   "execution_count": 150,
   "id": "contained-arnold",
   "metadata": {},
   "outputs": [
    {
     "data": {
      "text/plain": [
       "Shape<Circle>"
      ]
     },
     "execution_count": 150,
     "metadata": {},
     "output_type": "execute_result"
    }
   ],
   "source": [
    "circle1"
   ]
  },
  {
   "cell_type": "code",
   "execution_count": 151,
   "id": "connected-london",
   "metadata": {},
   "outputs": [
    {
     "data": {
      "text/plain": [
       "__main__.Circle"
      ]
     },
     "execution_count": 151,
     "metadata": {},
     "output_type": "execute_result"
    }
   ],
   "source": [
    "type(circle1)"
   ]
  },
  {
   "cell_type": "code",
   "execution_count": 152,
   "id": "caroline-employer",
   "metadata": {},
   "outputs": [
    {
     "data": {
      "text/plain": [
       "True"
      ]
     },
     "execution_count": 152,
     "metadata": {},
     "output_type": "execute_result"
    }
   ],
   "source": [
    "isinstance(circle1, Shape)"
   ]
  },
  {
   "cell_type": "code",
   "execution_count": 153,
   "id": "stupid-shanghai",
   "metadata": {},
   "outputs": [
    {
     "data": {
      "text/plain": [
       "25.132741228718345"
      ]
     },
     "execution_count": 153,
     "metadata": {},
     "output_type": "execute_result"
    }
   ],
   "source": [
    "circle1.perimeter()"
   ]
  },
  {
   "cell_type": "code",
   "execution_count": 154,
   "id": "blocked-dancing",
   "metadata": {},
   "outputs": [
    {
     "data": {
      "text/plain": [
       "50.26548245743669"
      ]
     },
     "execution_count": 154,
     "metadata": {},
     "output_type": "execute_result"
    }
   ],
   "source": [
    "circle1.area()"
   ]
  },
  {
   "cell_type": "code",
   "execution_count": 155,
   "id": "cathedral-desktop",
   "metadata": {},
   "outputs": [],
   "source": [
    "circle2 = Circle(3)"
   ]
  },
  {
   "cell_type": "code",
   "execution_count": 156,
   "id": "bridal-integer",
   "metadata": {},
   "outputs": [
    {
     "data": {
      "text/plain": [
       "True"
      ]
     },
     "execution_count": 156,
     "metadata": {},
     "output_type": "execute_result"
    }
   ],
   "source": [
    "Shape.compare(circle1, circle2)"
   ]
  },
  {
   "cell_type": "markdown",
   "id": "chinese-orleans",
   "metadata": {},
   "source": [
    "Let's compare rectangles and triangles using methods from `Shape` and `Polygon`."
   ]
  },
  {
   "cell_type": "code",
   "execution_count": 157,
   "id": "breeding-librarian",
   "metadata": {},
   "outputs": [],
   "source": [
    "rect1 = Rectangle(4, 3)"
   ]
  },
  {
   "cell_type": "code",
   "execution_count": 158,
   "id": "unique-fairy",
   "metadata": {},
   "outputs": [
    {
     "data": {
      "text/plain": [
       "Shape<Rectangle>"
      ]
     },
     "execution_count": 158,
     "metadata": {},
     "output_type": "execute_result"
    }
   ],
   "source": [
    "rect1"
   ]
  },
  {
   "cell_type": "code",
   "execution_count": 159,
   "id": "hollywood-tennis",
   "metadata": {},
   "outputs": [
    {
     "data": {
      "text/plain": [
       "12"
      ]
     },
     "execution_count": 159,
     "metadata": {},
     "output_type": "execute_result"
    }
   ],
   "source": [
    "rect1.area()"
   ]
  },
  {
   "cell_type": "code",
   "execution_count": 160,
   "id": "arctic-nothing",
   "metadata": {},
   "outputs": [
    {
     "data": {
      "text/plain": [
       "14"
      ]
     },
     "execution_count": 160,
     "metadata": {},
     "output_type": "execute_result"
    }
   ],
   "source": [
    "rect1.perimeter()"
   ]
  },
  {
   "cell_type": "code",
   "execution_count": 161,
   "id": "modified-charm",
   "metadata": {},
   "outputs": [],
   "source": [
    "triangle1 = Triangle(2, 2, 3)"
   ]
  },
  {
   "cell_type": "code",
   "execution_count": 162,
   "id": "junior-infrared",
   "metadata": {},
   "outputs": [
    {
     "data": {
      "text/plain": [
       "4.860555523805895"
      ]
     },
     "execution_count": 162,
     "metadata": {},
     "output_type": "execute_result"
    }
   ],
   "source": [
    "triangle1.area()"
   ]
  },
  {
   "cell_type": "code",
   "execution_count": 163,
   "id": "unexpected-beijing",
   "metadata": {},
   "outputs": [
    {
     "data": {
      "text/plain": [
       "True"
      ]
     },
     "execution_count": 163,
     "metadata": {},
     "output_type": "execute_result"
    }
   ],
   "source": [
    "rect1.has_more_sides_than(triangle1)"
   ]
  },
  {
   "cell_type": "code",
   "execution_count": 164,
   "id": "impressed-witness",
   "metadata": {},
   "outputs": [
    {
     "data": {
      "text/plain": [
       "True"
      ]
     },
     "execution_count": 164,
     "metadata": {},
     "output_type": "execute_result"
    }
   ],
   "source": [
    "Shape.compare(rect1, triangle1)"
   ]
  },
  {
   "cell_type": "markdown",
   "id": "unlimited-syndication",
   "metadata": {},
   "source": [
    "Let's create a square. We can use methods from `Rectangle`, `Shape` and `Polygon` in a square."
   ]
  },
  {
   "cell_type": "code",
   "execution_count": 165,
   "id": "configured-smell",
   "metadata": {},
   "outputs": [],
   "source": [
    "square1 = Square(4)"
   ]
  },
  {
   "cell_type": "code",
   "execution_count": 166,
   "id": "comfortable-stevens",
   "metadata": {},
   "outputs": [
    {
     "data": {
      "text/plain": [
       "16"
      ]
     },
     "execution_count": 166,
     "metadata": {},
     "output_type": "execute_result"
    }
   ],
   "source": [
    "square1.area()"
   ]
  },
  {
   "cell_type": "code",
   "execution_count": 167,
   "id": "steady-julian",
   "metadata": {},
   "outputs": [
    {
     "data": {
      "text/plain": [
       "4"
      ]
     },
     "execution_count": 167,
     "metadata": {},
     "output_type": "execute_result"
    }
   ],
   "source": [
    "square1.sides()"
   ]
  },
  {
   "cell_type": "code",
   "execution_count": null,
   "id": "latest-discount",
   "metadata": {},
   "outputs": [],
   "source": []
  },
  {
   "cell_type": "markdown",
   "id": "olympic-grave",
   "metadata": {},
   "source": [
    "Let's save our work before continuing."
   ]
  },
  {
   "cell_type": "code",
   "execution_count": 169,
   "id": "chronic-offering",
   "metadata": {},
   "outputs": [
    {
     "data": {
      "application/javascript": [
       "window.require && require([\"base/js/namespace\"],function(Jupyter){Jupyter.notebook.save_checkpoint()})"
      ],
      "text/plain": [
       "<IPython.core.display.Javascript object>"
      ]
     },
     "metadata": {},
     "output_type": "display_data"
    },
    {
     "name": "stdout",
     "output_type": "stream",
     "text": [
      "[jovian] Attempting to save notebook..\u001b[0m\n",
      "[jovian] Updating notebook \"aakashns/python-classes-oop\" on https://jovian.ai/\u001b[0m\n",
      "[jovian] Uploading notebook..\u001b[0m\n",
      "[jovian] Capturing environment..\u001b[0m\n",
      "[jovian] Committed successfully! https://jovian.ai/aakashns/python-classes-oop\u001b[0m\n"
     ]
    },
    {
     "data": {
      "text/plain": [
       "'https://jovian.ai/aakashns/python-classes-oop'"
      ]
     },
     "execution_count": 169,
     "metadata": {},
     "output_type": "execute_result"
    }
   ],
   "source": [
    "jovian.commit()"
   ]
  },
  {
   "cell_type": "markdown",
   "id": "imposed-bulgaria",
   "metadata": {},
   "source": [
    "## Summary and Further Reading\n",
    "\n",
    "The following topics were covered in this tutorial:\n",
    "\n",
    "- Defining classes and creating objects\n",
    "- Class constructor, properties and methods\n",
    "- Implementing \"dunder\" methods for easier usage\n",
    "- Getters, setters, static methods & class methods\n",
    "- Inheritance, overriding and abstract methods\n",
    "\n",
    "Check out the following resources to learn more: \n",
    "\n",
    "- https://www.w3schools.com/python/python_classes.asp\n",
    "- https://dabeaz-course.github.io/practical-python/Notes/04_Classes_objects/01_Class.html\n",
    "- https://realpython.com/python3-object-oriented-programming/\n",
    "- https://dbader.org/blog/python-dunder-methods\n",
    "- https://realpython.com/python-super/"
   ]
  },
  {
   "cell_type": "code",
   "execution_count": null,
   "id": "disturbed-economy",
   "metadata": {},
   "outputs": [],
   "source": []
  }
 ],
 "metadata": {
  "kernelspec": {
   "display_name": "Python 3",
   "language": "python",
   "name": "python3"
  },
  "language_info": {
   "codemirror_mode": {
    "name": "ipython",
    "version": 3
   },
   "file_extension": ".py",
   "mimetype": "text/x-python",
   "name": "python",
   "nbconvert_exporter": "python",
   "pygments_lexer": "ipython3",
   "version": "3.6.13"
  }
 },
 "nbformat": 4,
 "nbformat_minor": 5
}
