{
 "cells": [
  {
   "cell_type": "markdown",
   "metadata": {},
   "source": [
    "# Dashboarding with Power BI\n",
    "\n",
    "![](https://i.imgur.com/M5zrBqo.jpg)"
   ]
  },
  {
   "cell_type": "markdown",
   "metadata": {},
   "source": [
    "This tutorial is a beginner-friendly introduction to Power BI that takes a practical approach to creating data models, analyzing the data & building visualization reports to understand the business better. "
   ]
  },
  {
   "cell_type": "markdown",
   "metadata": {},
   "source": [
    "This tutorial covers the following topics:\n",
    "\n",
    "- Introduction to BI tools & Microsoft Power BI\n",
    "- Downloading & installing Power BI Desktop\n",
    "- Understanding menu bars & side bars in Power BI\n",
    "- Creating relationships & columns/measures using DAX functions \n",
    "- Creating visualizations with styling & filters \n",
    "- Building & saving reports on Power BI\n",
    "- Exporting & sharing the Power BI reports"
   ]
  },
  {
   "cell_type": "markdown",
   "metadata": {},
   "source": [
    "## Introduction to BI Tools"
   ]
  },
  {
   "cell_type": "markdown",
   "metadata": {},
   "source": [
    "#### What are BI Tools? \n",
    "\n",
    "> BI (Business Intelligence) tools are used to collect, process, and analyze large amounts of structured and unstructured data. The tools can perform actions such as data mining, data visualization, performance management, analytics, reporting, and much more which help businesses in taking better decisions. \n",
    "\n",
    "<img src = \"https://i.imgur.com/HvUbIFL.png\" width=500>"
   ]
  },
  {
   "cell_type": "markdown",
   "metadata": {},
   "source": [
    "#### What is Power BI?\n",
    "\n",
    "\n",
    "> Power BI by Microsoft is a collection of software services, apps, and connectors that work together to turn your unrelated sources of data into coherent, visually immersive, and interactive insights. It is a business and data analytics software that enables analysts to process, analyze, and visualize large data to gain insights, draw conclusions, and share results in the form of reports and dashboards across various departments.\n",
    "\n",
    "<img src = \"https://i.imgur.com/pTATJCa.png\" width=500>"
   ]
  },
  {
   "cell_type": "markdown",
   "metadata": {},
   "source": [
    "## Installing Power BI"
   ]
  },
  {
   "cell_type": "markdown",
   "metadata": {},
   "source": [
    "Power BI is available in three forms:\n",
    "\n",
    "- A Windows desktop application called **Power BI Desktop**.\n",
    "   - Download the latest version of PowerBi Desktop here: https://powerbi.microsoft.com/en-us/downloads/\n",
    "   - Steps to install Power BI desktop: https://learn.microsoft.com/en-us/power-bi/fundamentals/desktop-get-the-desktop"
   ]
  },
  {
   "cell_type": "markdown",
   "metadata": {},
   "source": [
    "- An online software as a service (SaaS) service called the **Power BI service**.\n",
    "   - You need a Power BI Pro or Premium Per User (PPU) license to create content in Power BI. If you don't have a Power BI account, and plan on creating content, [sign up for a free Power BI Premium Per User 60 day trial](https://app.powerbi.com/signupredirect?pbi_source=web) before you begin. "
   ]
  },
  {
   "cell_type": "markdown",
   "metadata": {},
   "source": [
    "- **Power BI Mobile apps** for Windows, iOS, and Android devices."
   ]
  },
  {
   "cell_type": "markdown",
   "metadata": {},
   "source": [
    "<img src = \"https://learn.microsoft.com/en-us/power-bi/fundamentals/media/power-bi-overview/power-bi-overview-blocks.png\" width = 600>"
   ]
  },
  {
   "cell_type": "markdown",
   "metadata": {},
   "source": [
    "## Data Sources in Power BI\n",
    "\n",
    "> When you are exploring data within Power BI, by creating charts, dashboards or asking questions for example. The visualisations and answers you see are getting their underlying data from a dataset; this dataset comes from a data source & Power BI supports a vast range of data sources."
   ]
  },
  {
   "cell_type": "markdown",
   "metadata": {},
   "source": [
    "#### Data Sources in Power BI Desktop \n",
    "\n",
    "With Power BI Desktop, you can connect to data from many different sources. \n",
    "\n",
    "- The Get Data dialog box organizes data types in File, Database, Power Platform, Azure, Online Services, etc. \n",
    "- The File category provides the connection to Excel Workbook, Text/CSV, XML, JSON, PDF, Parquet, etc. \n",
    "- The Database category provides the data connections to SQL Server database, Access database, SQL Server Analysis Services database, Oracle database etc. \n",
    "\n",
    "Know more about Power BI Desktop data sources here: https://learn.microsoft.com/en-us/power-bi/connect-data/desktop-data-sources\n",
    "\n",
    "<img src =\"https://miro.medium.com/max/672/0*_uzfQdnYDBYbCgQO.png\">"
   ]
  },
  {
   "cell_type": "markdown",
   "metadata": {},
   "source": [
    "#### Data Sources in Power BI Service\n",
    "\n",
    "Power BI Service offers limited number of data sources & one needs to install the Power BI Desktop version to load any other types of data sources. Know more about Power BI service data sources here: https://learn.microsoft.com/en-us/power-bi/connect-data/service-get-data\n",
    "\n",
    "<img src = \"https://i.imgur.com/rJMJBR4.png\" width = 500> <img src = \"https://i.imgur.com/n4tXl2J.png\" width = 500>\n"
   ]
  },
  {
   "cell_type": "markdown",
   "metadata": {},
   "source": [
    "Here is the entire list of data sources that you can connect to Power BI: https://learn.microsoft.com/en-us/power-bi/connect-data/power-bi-data-sources"
   ]
  },
  {
   "cell_type": "markdown",
   "metadata": {},
   "source": [
    "## Problem Statement\n",
    "\n",
    "> Analyzing & creating a report using Power BI on Restaurant ratings in Mexico by real consumers from 2012, including additional information about each restaurant and their cuisines, and each consumer and their preferences.\n",
    "\n",
    "<img src ='https://i.imgur.com/zppFRbf.png' width=500>\n",
    "\n",
    "<b> Recommended Analysis </b>\n",
    "\n",
    "1. What can you learn from the highest rated restaurants? Do consumer preferences have an effect on ratings?\n",
    "\n",
    "2. What are the consumer demographics? Does this indicate a bias in the data sample?\n",
    "\n",
    "3. Are there any demand & supply gaps that you can exploit in the market?\n",
    "\n",
    "4. If you were to invest in a restaurant, which characteristics would you be looking for?\n",
    "\n",
    "Dataset link: https://docs.google.com/spreadsheets/d/1YVa8S9xgPOnNE7VzUchQLSmB0zpDLTt-FfPRz1oWANs/edit?usp=sharing\n"
   ]
  },
  {
   "cell_type": "markdown",
   "metadata": {},
   "source": [
    "## Importing Data\n",
    "\n",
    "> Importing data into Power BI is an essential step that sets the foundation for creating compelling visualizations and reports that help you unlock the full potential of your data.\n",
    "\n",
    "<img src = https://i.imgur.com/Lp3VISh.jpg >\n"
   ]
  },
  {
   "cell_type": "markdown",
   "metadata": {},
   "source": [
    "![](https://i.imgur.com/r5DLDNw.jpg)\n",
    "\n",
    "![](https://i.imgur.com/DTPiVD9.jpg)"
   ]
  },
  {
   "cell_type": "markdown",
   "metadata": {},
   "source": [
    "Steps to import data into Power BI:\n",
    "- Open Power BI and select \"Get Data\" from the Home tab.\n",
    "- Choose the data source you want to import from, such as Excel or CSV files, SQL databases, or web services.\n",
    "- Use the Query Editor to clean and transform the data as needed, such as removing duplicates, renaming columns, or changing data types.\n",
    "- Save the data and use it to create powerful visualizations and reports in Power BI."
   ]
  },
  {
   "cell_type": "markdown",
   "metadata": {},
   "source": [
    "## Page Layout\n",
    "\n",
    "<img src=\"https://i.imgur.com/dzWn3Ae.jpg\">\n",
    "\n",
    "The different parts of Power BI layout include:\n",
    "\n",
    "1. **<i>Navigation pane</i>**: This pane allows you to navigate between different areas of Power BI, such as the Home, Insert, Modeling, and Data tabs.\n",
    "\n",
    "2. **<i>Canvas</i>**: This is the main area where you create visualizations and design your report pages. You can drag and drop visualizations, images, text boxes, and other content onto the canvas.\n",
    "\n",
    "3. **<i>Pages pane</i>**: This pane allows you to manage the different pages in your report. You can add, delete, duplicate, and rename pages, and rearrange their order.\n",
    "\n",
    "4. **<i>Visualizations pane</i>**: This pane allows you to select and customize visualizations for your report. You can choose from a variety of chart types, tables, matrices, maps, and more.\n",
    "\n",
    "5. **<i>Fields pane</i>**: This pane displays the tables and fields in your data model, and allows you to drag and drop fields onto visualizations to create relationships and add data to your report.\n",
    "\n",
    "6. **<i>Filters pane</i>**: This pane allows you to filter your data and control what appears in your visualizations. You can add filters based on fields or custom expressions."
   ]
  },
  {
   "cell_type": "markdown",
   "metadata": {},
   "source": [
    "### File Tab\n",
    "\n",
    "> File tab in Power BI provides options for managing and accessing files and settings related to your Power BI account. It includes options for creating and saving new reports, importing and exporting data, and managing account settings such as workspace access and security.\n",
    "\n",
    "<img src = \"https://i.imgur.com/4uCb5qI.jpg\" width=500 height=300>"
   ]
  },
  {
   "cell_type": "markdown",
   "metadata": {},
   "source": [
    "### Home Tab\n",
    "\n",
    "> The Home tab is the default landing page when you open Power BI and provides access to a range of key features and tools that includes options for opening existing reports, creating new reports and dashboards, and accessing recent files and templates. \n",
    "\n",
    "<img src = \"https://i.imgur.com/0mTvbTJ.jpg\">\n"
   ]
  },
  {
   "cell_type": "markdown",
   "metadata": {},
   "source": [
    "### Insert Tab\n",
    "\n",
    "> The Insert tab provides a range of tools for adding visualizations, text boxes, and other types of content to your reports and dashboards that includes options for adding various types of charts and graphs, such as bar charts, pie charts, and scatter plots, as well as tables, matrices, and maps with customization & formatting \n",
    "\n",
    "<img src = \"https://i.imgur.com/7pa7wWh.jpg\">"
   ]
  },
  {
   "cell_type": "markdown",
   "metadata": {},
   "source": [
    "### Modeling Tab\n",
    "\n",
    "> The Modeling tab provides tools for creating relationships between tables, defining hierarchies, and creating calculated columns and measures that includes the \"Manage Relationships\" feature. It also includes the \"New Measure\" and \"New Column\" options, which allow you to create calculated measures and columns using the DAX formula language.\n",
    "\n",
    "<img src = \"https://i.imgur.com/4Cc3Lgz.jpg\">"
   ]
  },
  {
   "cell_type": "markdown",
   "metadata": {},
   "source": [
    "## Data Modelling\n",
    "> Data modeling is a critical component of creating effective data visualizations in Power BI. By modeling your data, you can create relationships between tables, perform calculations, and define hierarchies, which can enhance the effectiveness of your visualizations. Power BI provides a user-friendly interface that enables you to create data models easily.\n",
    "\n",
    "<img src=\"https://i.imgur.com/kzIYNvE.png\" width=500 height=500>"
   ]
  },
  {
   "cell_type": "markdown",
   "metadata": {},
   "source": [
    "### Creating relationships\n",
    "\n",
    "> Creating relationships between tables in Power BI is a crucial step in creating effective visualizations that incorporate data from multiple sources. By following the steps outlined below, you can create relationships that accurately reflect the underlying data and enhance the power of your visualizations.\n",
    "\n",
    "\n",
    "<img src= https://i.imgur.com/GOMy98z.jpg>"
   ]
  },
  {
   "cell_type": "markdown",
   "metadata": {},
   "source": [
    "Steps on creating relationships in Power BI:\n",
    "\n",
    "- To create a relationship in Power BI, you need a common column in two tables.\n",
    "- To create a new relationship, click on the \"Manage Relationships\" option in the Modeling tab and click \"New.\"\n",
    "- Choose the primary and foreign tables and the columns that will form the basis of the relationship.\n",
    "- Select the relationship type (one-to-one, one-to-many, or many-to-many) and set the cross filter direction.\n",
    "- Power BI allows you to create bidirectional relationships, and you can use them to create new visualizations that incorporate data from both tables."
   ]
  },
  {
   "cell_type": "markdown",
   "metadata": {},
   "source": [
    "### Creating new columns/measures/tables \n",
    "\n",
    "- A **new measure** is a calculation that aggregates data across multiple rows or tables. Measures are commonly used to perform calculations such as sums, averages, and percentages.\n",
    "\n",
    "- A **new column** is a calculated column that you can create by combining or transforming existing columns. Calculated columns can be used to create new dimensions, group data, or perform calculations based on multiple columns.\n",
    "\n",
    "- A **new table** is a table that you can create by combining data from multiple tables. New tables can be used to create custom hierarchies or to combine data that is stored in separate tables.\n",
    "\n",
    "<img src=https://i.imgur.com/TqJelg4.jpg >"
   ]
  },
  {
   "cell_type": "markdown",
   "metadata": {},
   "source": [
    "Steps on creating new columns in Power BI:\n",
    "- Power BI allows you to create new columns based on existing columns using the \"New Column\" feature.\n",
    "- To create a new column, select the table, click \"New Column,\" and define the expression using DAX formulas in the formula bar.\n",
    "- Calculated columns can be used to perform various calculations, such as concatenation, conversion of data types, and creation of new metrics based on existing data.\n",
    "- Conditional columns allow you to specify a condition that determines whether a value will be included in the new column and can be used to create flags, categories, or groupings based on specific criteria.\n",
    "- Once you have created a new column, it can be used in visualizations just like any other column in the table."
   ]
  },
  {
   "cell_type": "markdown",
   "metadata": {},
   "source": [
    "> **EXERCISE**: Remove duplicate entries from the restaurants table, if there are any."
   ]
  },
  {
   "cell_type": "markdown",
   "metadata": {},
   "source": [
    "## Creating Visualizations \n",
    "\n",
    "> Power BI enables users to create visualizations by selecting data and visualization types, customizing the appearance, and using features such as filtering and drill-down to gain insights. Visualizations help users identify trends, patterns, and outliers in data, facilitating informed decision-making.\n",
    "\n",
    "<img src=\"https://i.imgur.com/TOKnytO.jpg\">\n"
   ]
  },
  {
   "cell_type": "markdown",
   "metadata": {},
   "source": [
    "### Simple Graphs\n",
    "\n",
    "> Creating simple graphs in Power BI is a powerful way to gain insights into your data. By selecting the appropriate visualization type and customizing it to your needs, you can quickly identify trends and patterns that might not be immediately apparent in raw data.\n",
    "\n",
    "<img src =\"https://i.imgur.com/kPQ7MgH.jpg\">"
   ]
  },
  {
   "cell_type": "markdown",
   "metadata": {},
   "source": [
    "Steps on creating simple graphs in Power BI:\n",
    "\n",
    "- To create a simple graph, select the data you want to visualize in the \"Fields\" pane and drag it to the \"Values\" area of the visualization pane.\n",
    "- Select the type of graph you want to create from the \"Visualizations\" pane.\n",
    "- You can customize the appearance of your graph by selecting options from the \"Visualizations\" pane or using the formatting options in the \"Visualizations\" tab.\n",
    "- Power BI also allows you to add filters to your graphs, which can be used to highlight specific data points or exclude irrelevant data.\n",
    "- You can use drill-down or drill-through features in Power BI to view data in greater detail, allowing you to gain more insights from your visualizations."
   ]
  },
  {
   "cell_type": "markdown",
   "metadata": {},
   "source": [
    "> **EXERCISE**: What can you learn from the highest rated restaurants? Do consumer preferences have an effect on ratings?"
   ]
  },
  {
   "cell_type": "markdown",
   "metadata": {},
   "source": [
    "### Map Visualizations \n",
    "\n",
    "> Creating maps in Power BI can be a powerful way to visualize geographic data and gain insights into regional or local trends. By customizing your map and using advanced features, you can create engaging and informative visualizations that help you understand and communicate complex data.\n",
    "\n",
    "<img src = \"https://i.imgur.com/HtmDTu6.jpg\">"
   ]
  },
  {
   "cell_type": "markdown",
   "metadata": {},
   "source": [
    "Steps on creating maps in Power BI:\n",
    "\n",
    "- To create a map, you need to have a data source that includes geographic data, such as latitude and longitude coordinates, or region or country names.\n",
    "- In the \"Visualizations\" pane, select the \"Map\" visualization type.\n",
    "- Drag the geographic data field into the \"Location\" field well, and drag the data you want to visualize into the \"Values\" field well.\n",
    "- Customize your map by selecting different map styles, adding custom map layers, and using different visual encoding options such as color scales or data bars.\n",
    "- Power BI also provides advanced features for mapping, such as clustering, heat maps, and shape maps, which allow you to display data in more detail and with more precision.\n",
    "- You can also add drill-down functionality to your map, which allows you to zoom in and view data at a more granular level, such as by state or city."
   ]
  },
  {
   "cell_type": "markdown",
   "metadata": {},
   "source": [
    "> **EXERCISE**: What are the consumer demographics? Does this indicate a bias in the data sample?"
   ]
  },
  {
   "cell_type": "markdown",
   "metadata": {},
   "source": [
    "> **EXERCISE**: Add markers or icons to the map visualizations."
   ]
  },
  {
   "cell_type": "markdown",
   "metadata": {},
   "source": [
    "### Combined Visualizations\n",
    "\n",
    "> Combined visualizations in Power BI can be a powerful way to present multiple types of data in a clear and informative way. By customizing your combined visualizations, you can create engaging and impactful visuals that help you understand and communicate complex data.\n",
    "\n",
    "\n",
    "<img src = \"https://i.imgur.com/pFvz757.jpg\">"
   ]
  },
  {
   "cell_type": "markdown",
   "metadata": {},
   "source": [
    "Steps on creating combined visualizations in Power BI:\n",
    "\n",
    "- To create a combined visualization, start by selecting the data you want to visualize and selecting the appropriate visualization types from the \"Visualizations\" pane.\n",
    "- Once you have created the individual visuals, you can combine them by selecting the \"Visualizations\" tab in the right-hand pane and selecting the \"Combo chart\" option.\n",
    "- Customization options for combined visualizations include choosing different types of visualizations, adjusting the scale of the axis, and selecting different data series to display.\n",
    "- You can also use formatting options such as color, font size, and data labels to make your combined visualization more informative and engaging.\n",
    "- Power BI also provides advanced features for combined visualizations, such as the ability to add trend lines or reference lines to your chart, which can help you identify trends and outliers in your data more easily."
   ]
  },
  {
   "cell_type": "markdown",
   "metadata": {},
   "source": [
    "> **EXERCISE**: How is the price distributed across different restaurants? Is it anyhow related to the Rating of the restaurants? "
   ]
  },
  {
   "cell_type": "markdown",
   "metadata": {},
   "source": [
    "### Setting Up Drill Through\n",
    "\n",
    "> Drill through is a powerful feature in Power BI that allows you to create interactive reports by providing additional levels of detail for your data. With drill through, users can click on a data point in a visual, and then drill down to see more detailed information about that data point."
   ]
  },
  {
   "cell_type": "markdown",
   "metadata": {},
   "source": [
    "<img src=\"https://i.imgur.com/8OeiUuH.jpg\">\n",
    "\n",
    "<img src=\"https://i.imgur.com/eRGQq95.jpg\">"
   ]
  },
  {
   "cell_type": "markdown",
   "metadata": {},
   "source": [
    "Steps for setting up drill through in Power BI:\n",
    "\n",
    "- Create a report page with a visual that displays a summary of data.\n",
    "- Create a second report page that displays detailed data.\n",
    "- Select the visual on the first page that you want to enable drill through for and click on the \"Drillthrough\" button in the \"Visualizations\" pane.\n",
    "- Create a new drill through action by selecting the field to use as the drill through target and the second report page to display the detailed data."
   ]
  },
  {
   "cell_type": "markdown",
   "metadata": {},
   "source": [
    "## Building Reports\n",
    "\n",
    "> Building reports in Power BI can be a powerful way to present your data in a way that is clear and informative. By customizing your visuals, applying filters, and creating drill-down functionality, you can create engaging and impactful reports that help you understand and communicate complex data. \n"
   ]
  },
  {
   "cell_type": "markdown",
   "metadata": {},
   "source": [
    "<img src =\"https://i.imgur.com/dKiZDJR.jpg\">"
   ]
  },
  {
   "cell_type": "markdown",
   "metadata": {},
   "source": [
    "Steps on building reports in Power BI:\n",
    "\n",
    "- To build a report, start by selecting the data you want to visualize and choosing the appropriate visualization types from the \"Visualizations\" pane.\n",
    "- Arrange your visuals on the report canvas by dragging and dropping them into place. You can also resize and format your visuals to make them more engaging and informative.\n",
    "- Use the \"Filters\" pane to apply filters to your visuals, which allow you to narrow down the data displayed based on specific criteria.\n",
    "- Power BI also provides features for creating drill-down functionality in your reports, which allow you to view data at different levels of detail.\n",
    "- Once you have built your report, you can publish it to the Power BI service to share it with others. You can also schedule data refreshes to ensure that your data is up-to-date."
   ]
  },
  {
   "cell_type": "markdown",
   "metadata": {},
   "source": [
    "> **EXERCISE**: If you were to invest in a restaurant, which characteristics would you be looking for?"
   ]
  },
  {
   "cell_type": "markdown",
   "metadata": {},
   "source": [
    "## Sharing Reports\n",
    "\n",
    "> By leveraging the sharing and publishing features in Power BI, you can collaborate with others and ensure that your data insights are reaching the right audience. Whether sharing within your organization or externally, Power BI provides flexible options for sharing and managing your reports.\n",
    "\n",
    "<img src = \"https://i.imgur.com/HeHEedL.png\">"
   ]
  },
  {
   "cell_type": "markdown",
   "metadata": {},
   "source": [
    "Steps on sharing or publishing reports in Power BI:\n",
    "- Reports can be shared within your organization by granting access to specific individuals or groups or by publishing them to the Power BI service.\n",
    "- The Power BI service provides features for managing and organizing your reports, such as creating folders, setting up data refresh schedules, and monitoring usage statistics.\n",
    "- Reports can also be shared externally using the \"Publish to web\" feature, but it is important to be mindful of what data is being shared and who it is being shared with to avoid exposing sensitive information."
   ]
  },
  {
   "cell_type": "markdown",
   "metadata": {},
   "source": [
    "> **EXERCISES**: Download the Excel Workbook for the above dataset here: https://www.tableau.com/sites/default/files/convenience_store.xlsx . Load it into Power BI and answer the following questions:\n",
    ">\n",
    "> 1. What were the best and worst selling products? (also show product IDs)\n",
    "> 2. What was the contribution margin per product? (CM = Unit Price - Unit Cost)\n",
    "> 3. What were the sales revenue, profit and profit margin per category and product?\n",
    "> 4. Who were the most frequent customers?\n",
    "> 5. Who were the most profitable customers?"
   ]
  },
  {
   "cell_type": "markdown",
   "metadata": {},
   "source": [
    "## Summary"
   ]
  },
  {
   "cell_type": "markdown",
   "metadata": {},
   "source": [
    "The following topics are covered in this tutorial:\n",
    "\n",
    "- Introduction to BI tools & Microsoft Power BI\n",
    "- Downloading & installing Power BI Desktop\n",
    "- Understanding menu bars & side bars in Power BI\n",
    "- Creating relationships & columns/measures using DAX functions \n",
    "- Creating visualizations with styling & filters \n",
    "- Building & saving reports on Power BI\n",
    "- Exporting & sharing the Power BI reports"
   ]
  },
  {
   "cell_type": "markdown",
   "metadata": {},
   "source": [
    "## References"
   ]
  },
  {
   "cell_type": "markdown",
   "metadata": {},
   "source": [
    "- Power BI official Microsoft Tutorial: https://learn.microsoft.com/en-us/power-bi/fundamentals/desktop-getting-started\n",
    "- Avi Singh (Beginner to Pro): https://www.youtube.com/watch?v=AGrl-H87pRU\n",
    "- Dashboard Ideas & Inspirations: https://www.spec-india.com/blog/power-bi-dashboard-examples"
   ]
  }
 ],
 "metadata": {
  "kernelspec": {
   "display_name": "Python 3 (ipykernel)",
   "language": "python",
   "name": "python3"
  },
  "language_info": {
   "codemirror_mode": {
    "name": "ipython",
    "version": 3
   },
   "file_extension": ".py",
   "mimetype": "text/x-python",
   "name": "python",
   "nbconvert_exporter": "python",
   "pygments_lexer": "ipython3",
   "version": "3.9.7"
  }
 },
 "nbformat": 4,
 "nbformat_minor": 2
}
