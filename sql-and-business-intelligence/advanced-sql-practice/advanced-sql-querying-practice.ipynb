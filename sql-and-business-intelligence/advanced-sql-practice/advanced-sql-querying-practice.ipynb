{
 "cells": [
  {
   "cell_type": "markdown",
   "id": "0061dec5",
   "metadata": {},
   "source": [
    "# Assignment - Advanced SQL Querying Practice\n",
    "\n",
    "As you go through this notebook, you will find the symbol **???** in certain places. Your job is to replace the **???** with appropriate code or values, to ensure that the notebook runs properly end-to-end without errors. \n",
    "\n",
    "**Guidelines**\n",
    "\n",
    "1. Make sure to run all the code cells in order. Otherwise, you may get errors like `NameError` for undefined variables.\n",
    "2. Do not change variable names, delete cells, or disturb other existing code. It may cause problems during evaluation.\n",
    "3. In some cases, you may need to add some code cells or new statements before or after the line of code containing the **???**. \n",
    "4. Since you'll be using a temporary online service for code execution, save your work by pressing **cntrl+ s or cmd + s** at regular intervals.\n",
    "5. Review the \"Evaluation Criteria\" for the assignment carefully and make sure your submission meets all the criteria. \n",
    "7. It's okay to ask for help & discuss ideas on the discussions, but please don't post the full working code, to give everyone an opportunity to solve the assignment on their own.\n",
    "8. **Please make sure that the column names are same as in the screenshot under each question.**\n"
   ]
  },
  {
   "cell_type": "markdown",
   "id": "11675dea",
   "metadata": {},
   "source": [
    "## How to Run the Code and Save Your Work\n",
    "\n",
    "\n",
    "**Option 1: Running using free online resources (1-click, recommended):** The easiest way to start executing the code is to click the **Run** button at the top of this page and select **Run on Binder**. This will set up a cloud-based Jupyter notebook server and allow you to modify/execute the code.\n",
    "\n",
    "\n",
    "**Option 2: Running on your computer locally:** To run the code on your computer locally, you'll need to set up [Python](https://www.python.org), download the notebook and install the required libraries. Click the **Run** button at the top of this page, select the **Run Locally** option, and follow the instructions."
   ]
  },
  {
   "cell_type": "markdown",
   "id": "773ad479",
   "metadata": {},
   "source": [
    "## SQLite and Initial Setup\n",
    "\n",
    "Relational databases generally have two components:\n",
    "\n",
    "1. **Database Server/Engine**: A software package that manages databases and runs in the background, listening for SQL queries from authorized users E.g. MySQL server, Microsoft SQL server, Postgres etc.\n",
    "2. **Database Client**: A command-line tool or graphical user interface (GUI) to connect to the database server and run SQL queries. E.g. MySQL workbench, PgAdmin etc.\n",
    "\n",
    "The server and client can be on the same computer e.g. both on your laptop, or on different computers e.g. the database server can be running on the cloud and you can connect to it using a client installed on your computer.\n",
    "\n",
    "Most database servers/engines are designed to operate on databases containing large amounts of data (e.g. 100s of GBs) and to handle a very high volume of queries (e.g. thousands of queries per second). They typically require powerful hardware i.e. multi-core CPUs and large amounts of RAM.\n",
    "\n",
    "\n",
    "<img src=\"https://www.sqlite.org/images/sqlite370_banner.gif\" width=\"240\" style=\"margin-left:0\">\n",
    "\n",
    "In this assignment, however, we'll use a lightweight database engine called [SQLite](https://www.sqlite.org/index.html), which is well-suited for databases with small amounts of data and has very limited CPU & RAM requirements. Despite being limited in its capabilities, it is the [most widely used database engine in the world](https://www.sqlite.org/mostdeployed.html). SQLite is used by smartphone apps, web browsers, desktop applications, IoT devices etc. to store and manage data locally on the device. \n",
    "\n",
    "If you're running this assignment locally, you'll need to [download and install `sqlite3`](https://www.servermania.com/kb/articles/install-sqlite/) on your computer. `sqlite3` is already installed on Binder. You can verify that you have `sqlite3` installed by running the following command to show the version of SQLite you have installed:"
   ]
  },
  {
   "cell_type": "code",
   "execution_count": 1,
   "id": "893515e6",
   "metadata": {},
   "outputs": [
    {
     "name": "stdout",
     "output_type": "stream",
     "text": [
      "3.36.0 2021-06-18 18:36:39 5c9a6c06871cb9fe42814af9c039eb6da5427a6ec28f187af7ebfb62eafa66e5\r\n"
     ]
    }
   ],
   "source": [
    "!sqlite3 --version"
   ]
  },
  {
   "cell_type": "markdown",
   "id": "58e75bdb",
   "metadata": {},
   "source": [
    "Unlike other relational databases, SQLite doesn't have separate server and client packages. The `sqlite3` command line tool is all your need to create and interact with SQLite databases. The databases themselves are stored as files with the extension `.sqlite`. You can perform CRUD operations on the database simply by passing SQL queries using `sqlite3`.\n",
    "\n",
    "Here's a visual representation of how SQLite differs from other relational database servers ([source](https://devopedia.org/sqlite)):\n",
    "\n",
    "<img src=\"https://i.imgur.com/eC5Ieni.png\" width=\"640\">\n",
    "\n",
    "\n",
    "Note that a `.sqlite` file is different from a `.sql` file, which contains commands for creating tables and inserting data. The `.sqlite` file is the actual database where the data is stored in a binary tabular format for efficient querying and manipulation.\n",
    "\n",
    "In this assignment, we'll use the [Chinook open source database](https://github.com/lerocha/chinook-database). Let's begin by downloading the `.sqlite` file for the database containing all the required tables and the sample data. "
   ]
  },
  {
   "cell_type": "code",
   "execution_count": 2,
   "id": "5772bb8e",
   "metadata": {},
   "outputs": [],
   "source": [
    "from urllib.request import urlretrieve"
   ]
  },
  {
   "cell_type": "code",
   "execution_count": 3,
   "id": "26e9ab84",
   "metadata": {},
   "outputs": [],
   "source": [
    "db_url = 'https://github.com/lerocha/chinook-database/raw/master/ChinookDatabase/DataSources/Chinook_Sqlite.sqlite'"
   ]
  },
  {
   "cell_type": "code",
   "execution_count": 4,
   "id": "da5564dc",
   "metadata": {},
   "outputs": [
    {
     "data": {
      "text/plain": [
       "('chinook.sqlite', <http.client.HTTPMessage at 0x7fd7bd656b50>)"
      ]
     },
     "execution_count": 4,
     "metadata": {},
     "output_type": "execute_result"
    }
   ],
   "source": [
    "urlretrieve(db_url, 'chinook.sqlite')"
   ]
  },
  {
   "cell_type": "markdown",
   "id": "0b91815d",
   "metadata": {},
   "source": [
    "The database `chinook.sqlite` is now downloaded. To access and interact with the database by writing SQL queries directly within Jupyter, we'll use the [`ipython-sql`](https://pypi.org/project/ipython-sql/) library that provides the `%%sql` magic commands. It uses the [`sqlalchemy`](https://sqlalchemy.org) library behind the scenes to interact with the database."
   ]
  },
  {
   "cell_type": "code",
   "execution_count": 5,
   "id": "6b0821ba",
   "metadata": {},
   "outputs": [],
   "source": [
    "!pip install sqlalchemy ipython-sql --quiet --upgrade"
   ]
  },
  {
   "cell_type": "code",
   "execution_count": 6,
   "id": "990e419a",
   "metadata": {},
   "outputs": [],
   "source": [
    "%load_ext sql"
   ]
  },
  {
   "cell_type": "markdown",
   "id": "53c7ab01",
   "metadata": {},
   "source": [
    "We can now connect to the database using a [SQLAlchemy connection string](https://docs.sqlalchemy.org/en/14/core/engines.html). We'll use the `%%sql` Jupyter magic command."
   ]
  },
  {
   "cell_type": "code",
   "execution_count": 7,
   "id": "b05bd34a",
   "metadata": {},
   "outputs": [],
   "source": [
    "%%sql \n",
    "\n",
    "sqlite:///chinook.sqlite"
   ]
  },
  {
   "cell_type": "markdown",
   "id": "a61b9035",
   "metadata": {},
   "source": [
    "We are now connected to the database and we can start writing SQL queries."
   ]
  },
  {
   "cell_type": "markdown",
   "id": "381092ec",
   "metadata": {},
   "source": [
    "## Chinook Database Structure and Queries\n",
    "\n",
    "The Chinook database represents a digital media store, including tables for artists, albums, media tracks, invoices and customers. Here's an [Entity Relationship Diagram](https://www.guru99.com/er-diagram-tutorial-dbms.html) (ERD) showing the structure of the Chinook database:\n",
    "\n",
    "![](https://i.imgur.com/X1wM142.png)\n",
    "\n",
    "Let's begin by looking at the data from some of the tables in the database. We can write SQL queries directly within Jupyter code cells by including the magic command `%%sql` as the first line of the cell, indicating that contents of cell represent a SQL query."
   ]
  },
  {
   "cell_type": "code",
   "execution_count": 8,
   "id": "fd42beb5",
   "metadata": {},
   "outputs": [
    {
     "name": "stdout",
     "output_type": "stream",
     "text": [
      " * sqlite:///chinook.sqlite\n",
      "Done.\n"
     ]
    },
    {
     "data": {
      "text/html": [
       "<table>\n",
       "    <tr>\n",
       "        <th>ArtistId</th>\n",
       "        <th>Name</th>\n",
       "    </tr>\n",
       "    <tr>\n",
       "        <td>1</td>\n",
       "        <td>AC/DC</td>\n",
       "    </tr>\n",
       "    <tr>\n",
       "        <td>2</td>\n",
       "        <td>Accept</td>\n",
       "    </tr>\n",
       "    <tr>\n",
       "        <td>3</td>\n",
       "        <td>Aerosmith</td>\n",
       "    </tr>\n",
       "    <tr>\n",
       "        <td>4</td>\n",
       "        <td>Alanis Morissette</td>\n",
       "    </tr>\n",
       "    <tr>\n",
       "        <td>5</td>\n",
       "        <td>Alice In Chains</td>\n",
       "    </tr>\n",
       "</table>"
      ],
      "text/plain": [
       "[(1, 'AC/DC'),\n",
       " (2, 'Accept'),\n",
       " (3, 'Aerosmith'),\n",
       " (4, 'Alanis Morissette'),\n",
       " (5, 'Alice In Chains')]"
      ]
     },
     "execution_count": 8,
     "metadata": {},
     "output_type": "execute_result"
    }
   ],
   "source": [
    "%%sql \n",
    "\n",
    "SELECT * FROM Artist LIMIT 5"
   ]
  },
  {
   "cell_type": "code",
   "execution_count": 9,
   "id": "01db14fa",
   "metadata": {},
   "outputs": [
    {
     "name": "stdout",
     "output_type": "stream",
     "text": [
      " * sqlite:///chinook.sqlite\n",
      "Done.\n"
     ]
    },
    {
     "data": {
      "text/html": [
       "<table>\n",
       "    <tr>\n",
       "        <th>AlbumId</th>\n",
       "        <th>Title</th>\n",
       "        <th>ArtistId</th>\n",
       "    </tr>\n",
       "    <tr>\n",
       "        <td>1</td>\n",
       "        <td>For Those About To Rock We Salute You</td>\n",
       "        <td>1</td>\n",
       "    </tr>\n",
       "    <tr>\n",
       "        <td>2</td>\n",
       "        <td>Balls to the Wall</td>\n",
       "        <td>2</td>\n",
       "    </tr>\n",
       "    <tr>\n",
       "        <td>3</td>\n",
       "        <td>Restless and Wild</td>\n",
       "        <td>2</td>\n",
       "    </tr>\n",
       "    <tr>\n",
       "        <td>4</td>\n",
       "        <td>Let There Be Rock</td>\n",
       "        <td>1</td>\n",
       "    </tr>\n",
       "    <tr>\n",
       "        <td>5</td>\n",
       "        <td>Big Ones</td>\n",
       "        <td>3</td>\n",
       "    </tr>\n",
       "</table>"
      ],
      "text/plain": [
       "[(1, 'For Those About To Rock We Salute You', 1),\n",
       " (2, 'Balls to the Wall', 2),\n",
       " (3, 'Restless and Wild', 2),\n",
       " (4, 'Let There Be Rock', 1),\n",
       " (5, 'Big Ones', 3)]"
      ]
     },
     "execution_count": 9,
     "metadata": {},
     "output_type": "execute_result"
    }
   ],
   "source": [
    "%%sql \n",
    "\n",
    "SELECT * FROM Album LIMIT 5"
   ]
  },
  {
   "cell_type": "markdown",
   "id": "abaf2c17",
   "metadata": {},
   "source": [
    "## Window Function Syntax\n",
    "\n",
    "> **QUESTION 1**: Write a SQL query to give the tracks in every album sequential track numbers. If an album has 9 tracks, the track number should be from 1 to 9. The output should display albumid, trackname, trackid, tracknumber."
   ]
  },
  {
   "cell_type": "markdown",
   "id": "9779ff30",
   "metadata": {},
   "source": [
    "![](https://i.imgur.com/PAS6vg2.png)"
   ]
  },
  {
   "cell_type": "code",
   "execution_count": null,
   "id": "51d29692",
   "metadata": {},
   "outputs": [],
   "source": [
    "%%sql\n",
    "\n",
    "???"
   ]
  },
  {
   "cell_type": "code",
   "execution_count": 14,
   "id": "afb826ad",
   "metadata": {},
   "outputs": [],
   "source": [
    "# USED FOR EVALUATION. DON'T MODIFY/DELETE/MOVE THIS CELL! \n",
    "ans1 = _"
   ]
  },
  {
   "cell_type": "code",
   "execution_count": null,
   "id": "e4bc0176",
   "metadata": {},
   "outputs": [],
   "source": []
  },
  {
   "cell_type": "markdown",
   "id": "b68aff7c",
   "metadata": {},
   "source": [
    "## Ranking Functions\n",
    "\n",
    "> **QUESTION 2**: Write a SQL query to rank all the albums based on highest number of tracks. The output should display albumid, album title, TotalTracks & AlbumRank.\n",
    "\n",
    "*Note:* If two albums have same number of total tracks, they should be assigned the same rank and the consecutive rank must be skipped. Please see the expected output for better understanding."
   ]
  },
  {
   "cell_type": "markdown",
   "id": "f2008536",
   "metadata": {},
   "source": [
    "![](https://i.imgur.com/JLpFhCn.png)"
   ]
  },
  {
   "cell_type": "code",
   "execution_count": null,
   "id": "6e319dad",
   "metadata": {},
   "outputs": [],
   "source": [
    "%%sql\n",
    "\n",
    "???"
   ]
  },
  {
   "cell_type": "code",
   "execution_count": 17,
   "id": "8bf424fb",
   "metadata": {},
   "outputs": [],
   "source": [
    "# DON'T MODIFY THIS CELL! IT IS USED FOR EVALUATION.\n",
    "ans2 = _"
   ]
  },
  {
   "cell_type": "code",
   "execution_count": null,
   "id": "389f8a77",
   "metadata": {},
   "outputs": [],
   "source": []
  },
  {
   "cell_type": "markdown",
   "id": "f8304597",
   "metadata": {},
   "source": [
    "## Date Functions"
   ]
  },
  {
   "cell_type": "markdown",
   "id": "4f18e293",
   "metadata": {},
   "source": [
    "> **QUESTION 3**: Write a SQL query to list employees hired after the year 2001 & before the year 2003 with their full names, employeeId & the date of hiring. \n",
    ">\n",
    "> *Note*: SQLite doesn't support the `YEAR` function. Instead use `strftime(\"%Y\", Invoice.InvoiceDate)` to extract the year from the column `InvoiceDate` as a string. [Learn more.](https://www.w3resource.com/sqlite/sqlite-strftime.php)\n",
    ">\n",
    "> _Hint_: First try to write down a step-by-step solution to the problem in plain English, and then try to convert it to a SQL query. Use the empty cells below to experiment with intermediate queries."
   ]
  },
  {
   "cell_type": "markdown",
   "id": "49c419e0",
   "metadata": {},
   "source": [
    "![](https://i.imgur.com/lFMJBA3.png)"
   ]
  },
  {
   "cell_type": "code",
   "execution_count": null,
   "id": "092276b8",
   "metadata": {},
   "outputs": [],
   "source": [
    "%%sql\n",
    "\n",
    "???"
   ]
  },
  {
   "cell_type": "code",
   "execution_count": 22,
   "id": "a4038805",
   "metadata": {},
   "outputs": [],
   "source": [
    "# DON'T MODIFY THIS CELL! IT IS USED FOR EVALUATION.\n",
    "ans3 = _"
   ]
  },
  {
   "cell_type": "code",
   "execution_count": null,
   "id": "ddf7b456",
   "metadata": {},
   "outputs": [],
   "source": []
  },
  {
   "cell_type": "markdown",
   "id": "5c7928d2",
   "metadata": {},
   "source": [
    "> **QUESTION 4**: Write a SQL query to show the invoice id, invoice date, year, month number, and month day for invoices Billed to Germany from the year '2010' to '2012' in the increasing order of Invoice date. \n",
    ">\n",
    "> *Note*: SQLite doesn't support the `YEAR` function. Instead use `strftime(\"%Y\", Invoice.InvoiceDate)` to extract the year from the column `InvoiceDate` as a string. [Learn more.](https://www.w3resource.com/sqlite/sqlite-strftime.php)"
   ]
  },
  {
   "cell_type": "markdown",
   "id": "93f519b9",
   "metadata": {},
   "source": [
    "![](https://i.imgur.com/LlR7aMA.png)"
   ]
  },
  {
   "cell_type": "code",
   "execution_count": null,
   "id": "b3858c4d",
   "metadata": {},
   "outputs": [],
   "source": [
    "%%sql\n",
    "\n",
    "???"
   ]
  },
  {
   "cell_type": "code",
   "execution_count": 20,
   "id": "d17d866c",
   "metadata": {},
   "outputs": [],
   "source": [
    "# DON'T MODIFY THIS CELL! IT IS USED FOR EVALUATION.\n",
    "ans4 = _"
   ]
  },
  {
   "cell_type": "code",
   "execution_count": null,
   "id": "8bf7ffd7",
   "metadata": {},
   "outputs": [],
   "source": []
  },
  {
   "cell_type": "markdown",
   "id": "f7d84cf1",
   "metadata": {},
   "source": [
    "## Group By & Having\n",
    "\n",
    "> **Question 5**: Write a SQL query to display Albums from the genres 'Rock' and 'Jazz' containing more than 10 tracks. Show the total number of tracks, Album Id, Album Title, and the Genre for the albums that fall in above criteria."
   ]
  },
  {
   "cell_type": "markdown",
   "id": "3c63d6ae",
   "metadata": {},
   "source": [
    "![](https://i.imgur.com/LHU0iWJ.png)"
   ]
  },
  {
   "cell_type": "code",
   "execution_count": null,
   "id": "79bebe3c",
   "metadata": {},
   "outputs": [],
   "source": [
    "%%sql\n",
    "\n",
    "???"
   ]
  },
  {
   "cell_type": "code",
   "execution_count": null,
   "id": "03b3de6b",
   "metadata": {},
   "outputs": [],
   "source": [
    "# DON'T MODIFY OR MOVE THIS CELL! IT IS USED FOR EVALUATION.\n",
    "ans5 = _"
   ]
  },
  {
   "cell_type": "code",
   "execution_count": null,
   "id": "23247ef8",
   "metadata": {},
   "outputs": [],
   "source": []
  },
  {
   "cell_type": "markdown",
   "id": "8edea03a",
   "metadata": {},
   "source": [
    "## Aggregate Functions\n",
    "\n"
   ]
  },
  {
   "cell_type": "markdown",
   "id": "cfde49e1",
   "metadata": {},
   "source": [
    ">  **Question 6**: Write a SQL query to display each invoice amount as the fraction of the total sales from the billing city. Show the InvoiceId, billing city name, invoice total, and invoice total as a fraction of city total. Round all numbers to 2 decimal places.\n",
    "\n"
   ]
  },
  {
   "cell_type": "markdown",
   "id": "0b6ac6c4",
   "metadata": {},
   "source": [
    "![](https://i.imgur.com/dAXN3oZ.png)"
   ]
  },
  {
   "cell_type": "code",
   "execution_count": null,
   "id": "8e5cdac5",
   "metadata": {},
   "outputs": [],
   "source": [
    "%%sql\n",
    "\n",
    "???"
   ]
  },
  {
   "cell_type": "code",
   "execution_count": null,
   "id": "8ff6d53e",
   "metadata": {},
   "outputs": [],
   "source": [
    "# DON'T MODIFY OR MOVE THIS CELL! IT IS USED FOR EVALUATION.\n",
    "ans6 = _"
   ]
  },
  {
   "cell_type": "code",
   "execution_count": null,
   "id": "0e3ab13e",
   "metadata": {},
   "outputs": [],
   "source": []
  },
  {
   "cell_type": "markdown",
   "id": "81d4e20a",
   "metadata": {},
   "source": [
    "> **QUESTION 7**: Write a SQL query to calculate and display the running total of song seconds by album. Output should contain song name, albumid, album name, song seconds & the running total.\n",
    "\n"
   ]
  },
  {
   "cell_type": "markdown",
   "id": "367d5db6",
   "metadata": {},
   "source": [
    "![](https://i.imgur.com/pTXA1Wc.png)"
   ]
  },
  {
   "cell_type": "code",
   "execution_count": null,
   "id": "cdc1a996",
   "metadata": {},
   "outputs": [],
   "source": [
    "%%sql\n",
    "\n",
    "???"
   ]
  },
  {
   "cell_type": "code",
   "execution_count": null,
   "id": "8eee7817",
   "metadata": {},
   "outputs": [],
   "source": [
    "# DON'T MODIFY OR MOVE THIS CELL! IT IS USED FOR EVALUATION.\n",
    "ans7 = _"
   ]
  },
  {
   "cell_type": "code",
   "execution_count": null,
   "id": "7400ee38",
   "metadata": {},
   "outputs": [],
   "source": []
  },
  {
   "cell_type": "markdown",
   "id": "ceee0304",
   "metadata": {},
   "source": [
    "## Value Functions"
   ]
  },
  {
   "cell_type": "markdown",
   "id": "43e921ad",
   "metadata": {},
   "source": [
    "> **QUESTION 8**: Write a SQL query to calculate the monthly sales and percent change in sales for each month. Round all numbers to 2 decimal places.\n",
    "\n",
    "\n",
    "\n",
    "*Hint:* Use Invoice table\n",
    "\n"
   ]
  },
  {
   "cell_type": "markdown",
   "id": "87c49090",
   "metadata": {},
   "source": [
    "![](https://i.imgur.com/Kvm90mU.png)"
   ]
  },
  {
   "cell_type": "code",
   "execution_count": null,
   "id": "ffc93a2b",
   "metadata": {},
   "outputs": [],
   "source": [
    "%%sql\n",
    "\n",
    "???"
   ]
  },
  {
   "cell_type": "code",
   "execution_count": null,
   "id": "92b65bf5",
   "metadata": {},
   "outputs": [],
   "source": [
    "# DON'T MODIFY OR MOVE THIS CELL! IT IS USED FOR EVALUATION.\n",
    "ans8 = _"
   ]
  },
  {
   "cell_type": "code",
   "execution_count": null,
   "id": "499e88a5",
   "metadata": {},
   "outputs": [],
   "source": []
  },
  {
   "cell_type": "markdown",
   "id": "962574cd",
   "metadata": {},
   "source": [
    "## Advanced SQL Clauses"
   ]
  },
  {
   "cell_type": "markdown",
   "id": "3055b41e",
   "metadata": {},
   "source": [
    "> **QUESTION 9**: Write a SQL query to calculate the average payment made by each customer. The result should contain top 10 customers with First Name, Last Name, Country & Average Payment. Round all numbers to 2 decimal places.\n",
    "\n",
    "*Hint*: Create a CTE with the name `AvgPayment` to write the above query\n"
   ]
  },
  {
   "cell_type": "markdown",
   "id": "549a39b7",
   "metadata": {},
   "source": [
    "![](https://i.imgur.com/cqrpBtm.png)"
   ]
  },
  {
   "cell_type": "code",
   "execution_count": null,
   "id": "df74adda",
   "metadata": {},
   "outputs": [],
   "source": [
    "%%sql\n",
    "\n",
    "???"
   ]
  },
  {
   "cell_type": "code",
   "execution_count": null,
   "id": "c90440e1",
   "metadata": {},
   "outputs": [],
   "source": [
    "# DON'T MODIFY OR MOVE THIS CELL! IT IS USED FOR EVALUATION.\n",
    "ans9 = _"
   ]
  },
  {
   "cell_type": "code",
   "execution_count": null,
   "id": "fa5bdcdb",
   "metadata": {},
   "outputs": [],
   "source": []
  },
  {
   "cell_type": "markdown",
   "id": "535ef5bc",
   "metadata": {},
   "source": [
    ">  **QUESTION 10**: Write a SQL query to calculate & display the year-wise total sales in the countries Ireland, Netherlands & Finland countries. Round all numbers to 2 decimal places.\n",
    "\n"
   ]
  },
  {
   "cell_type": "markdown",
   "id": "a0b7c1df",
   "metadata": {},
   "source": [
    "![](https://i.imgur.com/D2Qbh3s.png)"
   ]
  },
  {
   "cell_type": "code",
   "execution_count": null,
   "id": "dee62976",
   "metadata": {},
   "outputs": [],
   "source": [
    "%%sql\n",
    "\n",
    "???"
   ]
  },
  {
   "cell_type": "code",
   "execution_count": null,
   "id": "140f1ce8",
   "metadata": {},
   "outputs": [],
   "source": [
    "# DON'T MODIFY OR MOVE THIS CELL! IT IS USED FOR EVALUATION.\n",
    "ans10 = _"
   ]
  },
  {
   "cell_type": "markdown",
   "id": "5eb41123",
   "metadata": {},
   "source": [
    "## LeetCode Problems"
   ]
  },
  {
   "cell_type": "markdown",
   "id": "9050738e",
   "metadata": {},
   "source": [
    "### [Problem 1672](https://leetcode.com/problems/richest-customer-wealth/) - Richest Customer Wealth\n",
    "\n",
    "You are given an `m x n` integer grid `accounts` where `accounts[i][j]` is the amount of money the `i​​​​​​​​​​​th​​​​` customer has in the `j​​​​​​​​​​​th​​​​` bank. Return the <b>*wealth*</b> that the richest customer has.\n",
    "\n",
    "A customer's **wealth** is the amount of money they have in all their bank accounts. The richest customer is the customer that has the maximum **wealth.**\n",
    "\n"
   ]
  },
  {
   "cell_type": "markdown",
   "id": "482579b9",
   "metadata": {},
   "source": [
    "Example 1:\n",
    "```\n",
    "Input: accounts = [[1,2,3],[3,2,1]]\n",
    "Output: 6\n",
    "Explanation:\n",
    "1st customer has wealth = 1 + 2 + 3 = 6\n",
    "2nd customer has wealth = 3 + 2 + 1 = 6\n",
    "Both customers are considered the richest with a wealth of 6 each, so return 6.\n",
    "```\n",
    "Example 2:\n",
    "```\n",
    "Input: accounts = [[1,5],[7,3],[3,5]]\n",
    "Output: 10\n",
    "Explanation: \n",
    "1st customer has wealth = 6\n",
    "2nd customer has wealth = 10 \n",
    "3rd customer has wealth = 8\n",
    "The 2nd customer is the richest with a wealth of 10.\n",
    "```\n",
    "Example 3:\n",
    "```\n",
    "Input: accounts = [[2,8,7],[7,1,3],[1,9,5]]\n",
    "Output: 17\n",
    "```\n",
    "\n",
    "Constraints:\n",
    "```\n",
    "m == accounts.length\n",
    "n == accounts[i].length\n",
    "1 <= m, n <= 50\n",
    "1 <= accounts[i][j] <= 100\n",
    "```"
   ]
  },
  {
   "cell_type": "code",
   "execution_count": 1,
   "id": "ddd3eb80",
   "metadata": {},
   "outputs": [],
   "source": [
    "def maximumWealth(accounts):\n",
    "    ???"
   ]
  },
  {
   "cell_type": "code",
   "execution_count": null,
   "id": "ef6cce38",
   "metadata": {},
   "outputs": [],
   "source": [
    "# DON'T MODIFY OR MOVE THIS CELL! IT IS USED FOR EVALUATION.\n",
    "ans1672 = _"
   ]
  },
  {
   "cell_type": "markdown",
   "id": "99fbf712",
   "metadata": {},
   "source": [
    "### [Problem 371](https://leetcode.com/problems/sum-of-two-integers/) - Sum of Two Integers\n",
    "\n",
    "Given two integers `a` and `b`, return the *sum of the two integers without using the operators `+` and `-`.*"
   ]
  },
  {
   "cell_type": "markdown",
   "id": "4968a26d",
   "metadata": {},
   "source": [
    "Example 1:\n",
    "```\n",
    "Input: a = 1, b = 2\n",
    "Output: 3\n",
    "```\n",
    "Example 2:\n",
    "```\n",
    "Input: a = 2, b = 3\n",
    "Output: 5\n",
    "``` \n",
    "\n",
    "Constraints:\n",
    "```\n",
    "-1000 <= a, b <= 1000\n",
    "```"
   ]
  },
  {
   "cell_type": "code",
   "execution_count": null,
   "id": "dfa5fcb9",
   "metadata": {},
   "outputs": [],
   "source": [
    "def getSum(a, b):\n",
    "    ???"
   ]
  },
  {
   "cell_type": "code",
   "execution_count": null,
   "id": "609afcd1",
   "metadata": {},
   "outputs": [],
   "source": [
    "# DON'T MODIFY OR MOVE THIS CELL! IT IS USED FOR EVALUATION.\n",
    "ans371 = _"
   ]
  },
  {
   "cell_type": "markdown",
   "id": "3a6a80b3",
   "metadata": {},
   "source": [
    "## Make a Submission\n",
    "\n",
    "To make a submission, you can submit your Jovian notebook link on the assignment page.\n",
    "\n",
    "You can make any number of submissions. Only your final submission will be considered for grading.\n",
    "\n",
    "Here are some more optional questions you can try solving: https://github.com/LucasMcL/15-sql_queries_02-chinook"
   ]
  }
 ],
 "metadata": {
  "kernelspec": {
   "display_name": "Python 3 (ipykernel)",
   "language": "python",
   "name": "python3"
  },
  "language_info": {
   "codemirror_mode": {
    "name": "ipython",
    "version": 3
   },
   "file_extension": ".py",
   "mimetype": "text/x-python",
   "name": "python",
   "nbconvert_exporter": "python",
   "pygments_lexer": "ipython3",
   "version": "3.9.7"
  }
 },
 "nbformat": 4,
 "nbformat_minor": 5
}
