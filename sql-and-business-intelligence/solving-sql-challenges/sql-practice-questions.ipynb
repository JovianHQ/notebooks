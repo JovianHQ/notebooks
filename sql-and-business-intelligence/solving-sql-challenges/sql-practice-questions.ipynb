{
 "cells": [
  {
   "cell_type": "markdown",
   "metadata": {},
   "source": [
    "# SQL Practice Questions\n",
    "\n",
    "![](https://resources.biginterview.com/wp-content/uploads/2014/09/sql-interview-questions.png)"
   ]
  },
  {
   "cell_type": "markdown",
   "metadata": {},
   "source": [
    "SQL is an essential language used for managing relational databases. We have curated 30 SQL practice questions of varying difficulty levels to help individuals improve their SQL coding skills. These questions are designed to test your knowledge of SQL syntax and help you practice writing effective SQL queries that retrieve, filter, and sort data from a database.\n",
    "\n",
    "By practicing these SQL practice questions, you can gain a better understanding of SQL syntax, build a strong foundation in SQL, and prepare for job interviews, coding challenges, or real-world projects that involve working with databases. With a range of questions designed to challenge individuals at every level, these SQL practice questions are an excellent way to improve your SQL skills and become a more proficient SQL coder."
   ]
  },
  {
   "cell_type": "code",
   "execution_count": 1,
   "metadata": {},
   "outputs": [],
   "source": [
    "import pandas as pd\n",
    "from IPython.display import HTML"
   ]
  },
  {
   "cell_type": "code",
   "execution_count": 2,
   "metadata": {},
   "outputs": [],
   "source": [
    "pd.set_option('display.max_colwidth', None)"
   ]
  },
  {
   "cell_type": "code",
   "execution_count": 3,
   "metadata": {},
   "outputs": [],
   "source": [
    "df = pd.read_csv('sql-practice-sheet.csv')"
   ]
  },
  {
   "cell_type": "code",
   "execution_count": 4,
   "metadata": {},
   "outputs": [],
   "source": [
    "sql_df = HTML(df.to_html(render_links=True, escape=False))"
   ]
  },
  {
   "cell_type": "code",
   "execution_count": 5,
   "metadata": {},
   "outputs": [
    {
     "data": {
      "text/html": [
       "<table border=\"1\" class=\"dataframe\">\n",
       "  <thead>\n",
       "    <tr style=\"text-align: right;\">\n",
       "      <th></th>\n",
       "      <th>Problem</th>\n",
       "      <th>URLS</th>\n",
       "    </tr>\n",
       "  </thead>\n",
       "  <tbody>\n",
       "    <tr>\n",
       "      <th>0</th>\n",
       "      <td>Revising the SELECT query</td>\n",
       "      <td><a href=\"https://www.hackerrank.com/challenges/revising-the-select-query?isFullScreen=true\" target=\"_blank\">https://www.hackerrank.com/challenges/revising-the-select-query?isFullScreen=true</a></td>\n",
       "    </tr>\n",
       "    <tr>\n",
       "      <th>1</th>\n",
       "      <td>Revising the SELECT query 2</td>\n",
       "      <td><a href=\"https://www.hackerrank.com/challenges/revising-the-select-query-2?isFullScreen=true\" target=\"_blank\">https://www.hackerrank.com/challenges/revising-the-select-query-2?isFullScreen=true</a></td>\n",
       "    </tr>\n",
       "    <tr>\n",
       "      <th>2</th>\n",
       "      <td>SELECT all</td>\n",
       "      <td><a href=\"https://www.hackerrank.com/challenges/select-all-sql?isFullScreen=true\" target=\"_blank\">https://www.hackerrank.com/challenges/select-all-sql?isFullScreen=true</a></td>\n",
       "    </tr>\n",
       "    <tr>\n",
       "      <th>3</th>\n",
       "      <td>SELECT By ID</td>\n",
       "      <td><a href=\"https://www.hackerrank.com/challenges/select-by-id?isFullScreen=true\" target=\"_blank\">https://www.hackerrank.com/challenges/select-by-id?isFullScreen=true</a></td>\n",
       "    </tr>\n",
       "    <tr>\n",
       "      <th>4</th>\n",
       "      <td>Japanese Cities' Attributes</td>\n",
       "      <td><a href=\"https://www.hackerrank.com/challenges/japanese-cities-attributes?isFullScreen=true\" target=\"_blank\">https://www.hackerrank.com/challenges/japanese-cities-attributes?isFullScreen=true</a></td>\n",
       "    </tr>\n",
       "    <tr>\n",
       "      <th>5</th>\n",
       "      <td>Japanese Cities' Names</td>\n",
       "      <td><a href=\"https://www.hackerrank.com/challenges/japanese-cities-name?isFullScreen=true\" target=\"_blank\">https://www.hackerrank.com/challenges/japanese-cities-name?isFullScreen=true</a></td>\n",
       "    </tr>\n",
       "    <tr>\n",
       "      <th>6</th>\n",
       "      <td>Weather Observation Station</td>\n",
       "      <td><a href=\"https://www.hackerrank.com/challenges/weather-observation-station-1?isFullScreen=true\" target=\"_blank\">https://www.hackerrank.com/challenges/weather-observation-station-1?isFullScreen=true</a></td>\n",
       "    </tr>\n",
       "    <tr>\n",
       "      <th>7</th>\n",
       "      <td>Duplicate Emails</td>\n",
       "      <td><a href=\"https://leetcode.com/problems/duplicate-emails/\" target=\"_blank\">https://leetcode.com/problems/duplicate-emails/</a></td>\n",
       "    </tr>\n",
       "    <tr>\n",
       "      <th>8</th>\n",
       "      <td>Customer Placing the Largest Number of Orders</td>\n",
       "      <td><a href=\"https://leetcode.com/problems/customer-placing-the-largest-number-of-orders/\" target=\"_blank\">https://leetcode.com/problems/customer-placing-the-largest-number-of-orders/</a></td>\n",
       "    </tr>\n",
       "    <tr>\n",
       "      <th>9</th>\n",
       "      <td>Actors & Directors</td>\n",
       "      <td><a href=\"https://leetcode.com/problems/actors-and-directors-who-cooperated-at-least-three-times/\" target=\"_blank\">https://leetcode.com/problems/actors-and-directors-who-cooperated-at-least-three-times/</a></td>\n",
       "    </tr>\n",
       "    <tr>\n",
       "      <th>10</th>\n",
       "      <td>Sales Analysis iii</td>\n",
       "      <td><a href=\"https://leetcode.com/problems/sales-analysis-iii/\" target=\"_blank\">https://leetcode.com/problems/sales-analysis-iii/</a></td>\n",
       "    </tr>\n",
       "    <tr>\n",
       "      <th>11</th>\n",
       "      <td>Top Travellers</td>\n",
       "      <td><a href=\"https://leetcode.com/problems/top-travellers/\" target=\"_blank\">https://leetcode.com/problems/top-travellers/</a></td>\n",
       "    </tr>\n",
       "    <tr>\n",
       "      <th>12</th>\n",
       "      <td>Customer Details</td>\n",
       "      <td><a href=\"https://platform.stratascratch.com/coding/9891-customer-details?code_type=3\" target=\"_blank\">https://platform.stratascratch.com/coding/9891-customer-details?code_type=3</a></td>\n",
       "    </tr>\n",
       "    <tr>\n",
       "      <th>13</th>\n",
       "      <td>Salaries Differences</td>\n",
       "      <td><a href=\"https://platform.stratascratch.com/coding/10308-salaries-differences?code_type=3\" target=\"_blank\">https://platform.stratascratch.com/coding/10308-salaries-differences?code_type=3</a></td>\n",
       "    </tr>\n",
       "    <tr>\n",
       "      <th>14</th>\n",
       "      <td>Occupations</td>\n",
       "      <td><a href=\"https://www.hackerrank.com/challenges/occupations/problem\" target=\"_blank\">https://www.hackerrank.com/challenges/occupations/problem</a></td>\n",
       "    </tr>\n",
       "    <tr>\n",
       "      <th>15</th>\n",
       "      <td>New Companies</td>\n",
       "      <td><a href=\"https://www.hackerrank.com/challenges/the-company/problem?isFullScreen=true\" target=\"_blank\">https://www.hackerrank.com/challenges/the-company/problem?isFullScreen=true</a></td>\n",
       "    </tr>\n",
       "    <tr>\n",
       "      <th>16</th>\n",
       "      <td>Weather Observation Station 20</td>\n",
       "      <td><a href=\"https://www.hackerrank.com/challenges/weather-observation-station-20/problem?isFullScreen=true\" target=\"_blank\">https://www.hackerrank.com/challenges/weather-observation-station-20/problem?isFullScreen=true</a></td>\n",
       "    </tr>\n",
       "    <tr>\n",
       "      <th>17</th>\n",
       "      <td>Placements</td>\n",
       "      <td><a href=\"https://www.hackerrank.com/challenges/placements/problem?isFullScreen=true\" target=\"_blank\">https://www.hackerrank.com/challenges/placements/problem?isFullScreen=true</a></td>\n",
       "    </tr>\n",
       "    <tr>\n",
       "      <th>18</th>\n",
       "      <td>Weather Observation Station 18</td>\n",
       "      <td><a href=\"https://www.hackerrank.com/challenges/weather-observation-station-18?isFullScreen=true\" target=\"_blank\">https://www.hackerrank.com/challenges/weather-observation-station-18?isFullScreen=true</a></td>\n",
       "    </tr>\n",
       "    <tr>\n",
       "      <th>19</th>\n",
       "      <td>Weather Observation Station 19</td>\n",
       "      <td><a href=\"https://www.hackerrank.com/challenges/weather-observation-station-19?isFullScreen=true\" target=\"_blank\">https://www.hackerrank.com/challenges/weather-observation-station-19?isFullScreen=true</a></td>\n",
       "    </tr>\n",
       "    <tr>\n",
       "      <th>20</th>\n",
       "      <td>Contest Leaderboard</td>\n",
       "      <td><a href=\"https://www.hackerrank.com/challenges/contest-leaderboard?isFullScreen=true\" target=\"_blank\">https://www.hackerrank.com/challenges/contest-leaderboard?isFullScreen=true</a></td>\n",
       "    </tr>\n",
       "    <tr>\n",
       "      <th>21</th>\n",
       "      <td>English, German, French, Spanish</td>\n",
       "      <td><a href=\"https://platform.stratascratch.com/coding/9668-english-german-french-spanish-speakers?code_type=3\" target=\"_blank\">https://platform.stratascratch.com/coding/9668-english-german-french-spanish-speakers?code_type=3</a></td>\n",
       "    </tr>\n",
       "    <tr>\n",
       "      <th>22</th>\n",
       "      <td>Department Top Three Salaries</td>\n",
       "      <td><a href=\"https://leetcode.com/problems/department-top-three-salaries/\" target=\"_blank\">https://leetcode.com/problems/department-top-three-salaries/</a></td>\n",
       "    </tr>\n",
       "    <tr>\n",
       "      <th>23</th>\n",
       "      <td>Top Percentile Fraud</td>\n",
       "      <td><a href=\"https://platform.stratascratch.com/coding/10303-top-percentile-fraud?python=&code_type=3\" target=\"_blank\">https://platform.stratascratch.com/coding/10303-top-percentile-fraud?python=&code_type=3</a></td>\n",
       "    </tr>\n",
       "    <tr>\n",
       "      <th>24</th>\n",
       "      <td>Monthly Percentage Difference</td>\n",
       "      <td><a href=\"https://platform.stratascratch.com/coding/10319-monthly-percentage-difference?code_type=3\" target=\"_blank\">https://platform.stratascratch.com/coding/10319-monthly-percentage-difference?code_type=3</a></td>\n",
       "    </tr>\n",
       "    <tr>\n",
       "      <th>25</th>\n",
       "      <td>Distance Per Dollar</td>\n",
       "      <td><a href=\"https://platform.stratascratch.com/coding/10302-distance-per-dollar?code_type=3\" target=\"_blank\">https://platform.stratascratch.com/coding/10302-distance-per-dollar?code_type=3</a></td>\n",
       "    </tr>\n",
       "    <tr>\n",
       "      <th>26</th>\n",
       "      <td>Popularity Percentage</td>\n",
       "      <td><a href=\"https://platform.stratascratch.com/coding/10284-popularity-percentage?code_type=3\" target=\"_blank\">https://platform.stratascratch.com/coding/10284-popularity-percentage?code_type=3</a></td>\n",
       "    </tr>\n",
       "    <tr>\n",
       "      <th>27</th>\n",
       "      <td>Interviews</td>\n",
       "      <td><a href=\"https://www.hackerrank.com/challenges/interviews/problem\" target=\"_blank\">https://www.hackerrank.com/challenges/interviews/problem</a></td>\n",
       "    </tr>\n",
       "    <tr>\n",
       "      <th>28</th>\n",
       "      <td>15 Days of Learning SQL</td>\n",
       "      <td><a href=\"https://www.hackerrank.com/challenges/15-days-of-learning-sql/problem\" target=\"_blank\">https://www.hackerrank.com/challenges/15-days-of-learning-sql/problem</a></td>\n",
       "    </tr>\n",
       "  </tbody>\n",
       "</table>"
      ],
      "text/plain": [
       "<IPython.core.display.HTML object>"
      ]
     },
     "execution_count": 5,
     "metadata": {},
     "output_type": "execute_result"
    }
   ],
   "source": [
    "sql_df"
   ]
  }
 ],
 "metadata": {
  "kernelspec": {
   "display_name": "Python 3 (ipykernel)",
   "language": "python",
   "name": "python3"
  },
  "language_info": {
   "codemirror_mode": {
    "name": "ipython",
    "version": 3
   },
   "file_extension": ".py",
   "mimetype": "text/x-python",
   "name": "python",
   "nbconvert_exporter": "python",
   "pygments_lexer": "ipython3",
   "version": "3.9.7"
  }
 },
 "nbformat": 4,
 "nbformat_minor": 2
}
