{
 "cells": [
  {
   "cell_type": "markdown",
   "id": "powered-officer",
   "metadata": {},
   "source": [
    "# Assignment - Relational Databases and SQL Practice\n",
    "\n",
    "This assignment is a part of the [Zero to Data Science Bootcamp by Jovian](https://zerotodatascience.com)\n",
    "\n",
    "As you go through this notebook, you will find a **???** in certain places. Your job is to replace the **???** with appropriate code or values, to ensure that the notebook runs properly end-to-end and your machine learning model is trained properly without errors. \n",
    "\n",
    "**Guidelines**\n",
    "\n",
    "1. Make sure to run all the code cells in order. Otherwise, you may get errors like `NameError` for undefined variables.\n",
    "2. Do not change variable names, delete cells, or disturb other existing code. It may cause problems during evaluation.\n",
    "3. In some cases, you may need to add some code cells or new statements before or after the line of code containing the **???**. \n",
    "4. Since you'll be using a temporary online service for code execution, save your work by running `jovian.commit` at regular intervals.\n",
    "5. Review the \"Evaluation Criteria\" for the assignment carefully and make sure your submission meets all the criteria.\n",
    "6. Questions marked **(Optional)** will not be considered for evaluation and can be skipped. They are for your learning.\n",
    "7. It's okay to ask for help & discuss ideas on the [Slack Group](https://zerotodatascience.com), but please don't post full working code, to give everyone an opportunity to solve the assignment on their own.\n",
    "\n",
    "\n",
    "**Important Links**:\n",
    "\n",
    "- Make a submission here: TODO\n",
    "- Review the following notebooks:\n",
    "    - TODO\n",
    "    - TODO\n",
    "\n",
    "\n"
   ]
  },
  {
   "cell_type": "markdown",
   "id": "catholic-greensboro",
   "metadata": {},
   "source": [
    "## How to Run the Code and Save Your Work\n",
    "\n",
    "\n",
    "**Option 1: Running using free online resources (1-click, recommended):** The easiest way to start executing the code is to click the **Run** button at the top of this page and select **Run on Binder**. This will set up a cloud-based Jupyter notebook server and allow you to modify/execute the code.\n",
    "\n",
    "\n",
    "**Option 2: Running on your computer locally:** To run the code on your computer locally, you'll need to set up [Python](https://www.python.org), download the notebook and install the required libraries. Click the **Run** button at the top of this page, select the **Run Locally** option, and follow the instructions.\n",
    "\n",
    "**Saving your work**: You can save a snapshot of the assignment to your [Jovian](https://jovian.ai) profile, so that you can access it later and continue your work. Keep saving your work by running `jovian.commit` from time to time."
   ]
  },
  {
   "cell_type": "code",
   "execution_count": 1,
   "id": "reported-manitoba",
   "metadata": {},
   "outputs": [],
   "source": [
    "!pip install jovian --upgrade --quiet"
   ]
  },
  {
   "cell_type": "code",
   "execution_count": 2,
   "id": "upset-tension",
   "metadata": {},
   "outputs": [],
   "source": [
    "import jovian"
   ]
  },
  {
   "cell_type": "code",
   "execution_count": 3,
   "id": "competitive-small",
   "metadata": {},
   "outputs": [
    {
     "data": {
      "application/javascript": [
       "window.require && require([\"base/js/namespace\"],function(Jupyter){Jupyter.notebook.save_checkpoint()})"
      ],
      "text/plain": [
       "<IPython.core.display.Javascript object>"
      ]
     },
     "metadata": {},
     "output_type": "display_data"
    },
    {
     "name": "stdout",
     "output_type": "stream",
     "text": [
      "[jovian] Updating notebook \"aakashns/sql-practice-assignment\" on https://jovian.ai/\u001b[0m\n",
      "[jovian] Committed successfully! https://jovian.ai/aakashns/sql-practice-assignment\u001b[0m\n"
     ]
    },
    {
     "data": {
      "text/plain": [
       "'https://jovian.ai/aakashns/sql-practice-assignment'"
      ]
     },
     "execution_count": 3,
     "metadata": {},
     "output_type": "execute_result"
    }
   ],
   "source": [
    "jovian.commit(project='sql-practice-assignment', privacy='secret')"
   ]
  },
  {
   "cell_type": "markdown",
   "id": "proprietary-trail",
   "metadata": {},
   "source": [
    "## SQLite and Initial Setup\n",
    "\n",
    "Relational databases generally have two components:\n",
    "\n",
    "1. **Database Server/Engine**: A software package that manages databases and runs in the background, listening for SQL queries from authorized users E.g. MySQL server, Microsoft SQL server, Postgres etc.\n",
    "2. **Database Client**: A command-line tool or graphical user interface (GUI) to connect to the database server and run SQL queries. E.g. MySQL workbench, PgAdmin etc.\n",
    "\n",
    "The server and client can be on the same computer e.g. both on your laptop, or on different computers e.g. the database server can be running on the cloud and you can connect to it using a client installed on your computer.\n",
    "\n",
    "Most database servers/engines are designed to operate on databases containing large amounts of data (e.g. 100s of GBs) and to handle a very high volume of queries (e.g. thousands of queries per second). They typically require powerful hardware i.e. multi-core CPUs and large amounts of RAM.\n",
    "\n",
    "In this assignment, however, we'll use a lightweight database engine called [SQLite](https://www.sqlite.org/index.html), which is well-suited for tiny databases with small amounts of data. Despite being limited in its capabilities, it is the [most widely used database engine in the world](https://www.sqlite.org/mostdeployed.html) because it is used by smartphone apps, web browsers and desktop applications to store and manage data locally on the device. \n",
    "\n",
    "If you're running this assignment locally, you'll need to [download and install `sqlite3`](https://www.servermania.com/kb/articles/install-sqlite/) on your computer. `sqlite3` is already installed on Binder. You can verify that you have `sqlite3` installed by running:"
   ]
  },
  {
   "cell_type": "code",
   "execution_count": 4,
   "id": "printable-sandwich",
   "metadata": {},
   "outputs": [
    {
     "name": "stdout",
     "output_type": "stream",
     "text": [
      "3.36.0 2021-06-18 18:36:39 5c9a6c06871cb9fe42814af9c039eb6da5427a6ec28f187af7ebfb62eafa66e5\r\n"
     ]
    }
   ],
   "source": [
    "!sqlite3 --version"
   ]
  },
  {
   "cell_type": "markdown",
   "id": "genetic-royal",
   "metadata": {},
   "source": [
    "Unlike other relational databases, SQLite doesn't have separate server and client packages. The `sqlite3` command line tool is all your need to create and interact with SQLite databases. The databases themselves are stored as files with the extension `.sqlite`. You can perform CRUD operations on the database simply by passing SQL queries using `sqlite3`.\n",
    "\n",
    "Here's a visual representation of how SQLite differs from other relational database servers ([source](https://devopedia.org/sqlite)):\n",
    "\n",
    "<img src=\"https://i.imgur.com/eC5Ieni.png\" width=\"640\">\n",
    "\n",
    "\n",
    "Note that an `.sqlite` file is different from a `.sql` file, which contains commands for creating tables and inserting data. The `.sqlite` file is the actual database itself, where the data is stored in an binary tabular format for efficient querying.\n",
    "\n",
    "In this assignment, we'll use the [Chinook open source database](https://github.com/lerocha/chinook-database). Let's begin by downloading the `.sqlite` file for the database containing all the required tables and the sample data. "
   ]
  },
  {
   "cell_type": "code",
   "execution_count": 5,
   "id": "affiliated-navigator",
   "metadata": {},
   "outputs": [],
   "source": [
    "from urllib.request import urlretrieve"
   ]
  },
  {
   "cell_type": "code",
   "execution_count": 6,
   "id": "mental-holmes",
   "metadata": {},
   "outputs": [],
   "source": [
    "db_url = 'https://github.com/lerocha/chinook-database/raw/master/ChinookDatabase/DataSources/Chinook_Sqlite.sqlite'"
   ]
  },
  {
   "cell_type": "code",
   "execution_count": 7,
   "id": "pediatric-monthly",
   "metadata": {},
   "outputs": [
    {
     "data": {
      "text/plain": [
       "('chinook.sqlite', <http.client.HTTPMessage at 0x7f83b6c26320>)"
      ]
     },
     "execution_count": 7,
     "metadata": {},
     "output_type": "execute_result"
    }
   ],
   "source": [
    "urlretrieve(db_url, 'chinook.sqlite')"
   ]
  },
  {
   "cell_type": "markdown",
   "id": "governing-anthony",
   "metadata": {},
   "source": [
    "To access and interact with the database using SQL queries directly within Jupyter, we'll use the `ipython-sql` library that provides the `%%sql` magic commands."
   ]
  },
  {
   "cell_type": "code",
   "execution_count": 8,
   "id": "boolean-colombia",
   "metadata": {},
   "outputs": [],
   "source": [
    "!pip install sqlalchemy ipython-sql --quiet --upgrade"
   ]
  },
  {
   "cell_type": "code",
   "execution_count": 9,
   "id": "agricultural-ready",
   "metadata": {},
   "outputs": [],
   "source": [
    "%load_ext sql"
   ]
  },
  {
   "cell_type": "markdown",
   "id": "yellow-lafayette",
   "metadata": {},
   "source": [
    "We can now connect to the database using a connection string."
   ]
  },
  {
   "cell_type": "code",
   "execution_count": 18,
   "id": "confident-election",
   "metadata": {},
   "outputs": [],
   "source": [
    "%%sql \n",
    "\n",
    "sqlite:///chinook.sqlite"
   ]
  },
  {
   "cell_type": "markdown",
   "id": "charming-demonstration",
   "metadata": {},
   "source": [
    "We are now connected to the database and we can start writing SQL queries."
   ]
  },
  {
   "cell_type": "markdown",
   "id": "limited-signal",
   "metadata": {},
   "source": [
    "## Database Structure and Tables\n",
    "\n",
    "The Chinook database represents a digital media store, including tables for artists, albums, media tracks, invoices and customers. Here's the Entity Relationship Diagram (ERD) showing the structure of the Chinook database:\n",
    "\n",
    "![](https://i.imgur.com/X1wM142.png)\n",
    "\n",
    "Let's begin by looking at the data from some of the tables in the database. We can write SQL queries directly within Jupyter code cells by including the magic command `%%sql` as the first line of the cell, indicating that contents of cell represent a SQL query."
   ]
  },
  {
   "cell_type": "markdown",
   "id": "entitled-absorption",
   "metadata": {},
   "source": [
    "### Artist"
   ]
  },
  {
   "cell_type": "code",
   "execution_count": 44,
   "id": "parallel-purple",
   "metadata": {},
   "outputs": [
    {
     "name": "stdout",
     "output_type": "stream",
     "text": [
      "   sqlite:///chinook.db\n",
      " * sqlite:///chinook.sqlite\n",
      "Done.\n"
     ]
    },
    {
     "data": {
      "text/html": [
       "<table>\n",
       "    <tr>\n",
       "        <th>ArtistId</th>\n",
       "        <th>Name</th>\n",
       "    </tr>\n",
       "    <tr>\n",
       "        <td>1</td>\n",
       "        <td>AC/DC</td>\n",
       "    </tr>\n",
       "    <tr>\n",
       "        <td>2</td>\n",
       "        <td>Accept</td>\n",
       "    </tr>\n",
       "    <tr>\n",
       "        <td>3</td>\n",
       "        <td>Aerosmith</td>\n",
       "    </tr>\n",
       "    <tr>\n",
       "        <td>4</td>\n",
       "        <td>Alanis Morissette</td>\n",
       "    </tr>\n",
       "    <tr>\n",
       "        <td>5</td>\n",
       "        <td>Alice In Chains</td>\n",
       "    </tr>\n",
       "</table>"
      ],
      "text/plain": [
       "[(1, 'AC/DC'),\n",
       " (2, 'Accept'),\n",
       " (3, 'Aerosmith'),\n",
       " (4, 'Alanis Morissette'),\n",
       " (5, 'Alice In Chains')]"
      ]
     },
     "execution_count": 44,
     "metadata": {},
     "output_type": "execute_result"
    }
   ],
   "source": [
    "%%sql \n",
    "\n",
    "SELECT * FROM Artist LIMIT 5"
   ]
  },
  {
   "cell_type": "markdown",
   "id": "primary-party",
   "metadata": {},
   "source": [
    "### Album"
   ]
  },
  {
   "cell_type": "code",
   "execution_count": 20,
   "id": "modified-mining",
   "metadata": {},
   "outputs": [
    {
     "name": "stdout",
     "output_type": "stream",
     "text": [
      "   sqlite:///chinook.db\n",
      " * sqlite:///chinook.sqlite\n",
      "Done.\n"
     ]
    },
    {
     "data": {
      "text/html": [
       "<table>\n",
       "    <tr>\n",
       "        <th>AlbumId</th>\n",
       "        <th>Title</th>\n",
       "        <th>ArtistId</th>\n",
       "    </tr>\n",
       "    <tr>\n",
       "        <td>1</td>\n",
       "        <td>For Those About To Rock We Salute You</td>\n",
       "        <td>1</td>\n",
       "    </tr>\n",
       "    <tr>\n",
       "        <td>2</td>\n",
       "        <td>Balls to the Wall</td>\n",
       "        <td>2</td>\n",
       "    </tr>\n",
       "    <tr>\n",
       "        <td>3</td>\n",
       "        <td>Restless and Wild</td>\n",
       "        <td>2</td>\n",
       "    </tr>\n",
       "    <tr>\n",
       "        <td>4</td>\n",
       "        <td>Let There Be Rock</td>\n",
       "        <td>1</td>\n",
       "    </tr>\n",
       "    <tr>\n",
       "        <td>5</td>\n",
       "        <td>Big Ones</td>\n",
       "        <td>3</td>\n",
       "    </tr>\n",
       "</table>"
      ],
      "text/plain": [
       "[(1, 'For Those About To Rock We Salute You', 1),\n",
       " (2, 'Balls to the Wall', 2),\n",
       " (3, 'Restless and Wild', 2),\n",
       " (4, 'Let There Be Rock', 1),\n",
       " (5, 'Big Ones', 3)]"
      ]
     },
     "execution_count": 20,
     "metadata": {},
     "output_type": "execute_result"
    }
   ],
   "source": [
    "%%sql \n",
    "\n",
    "SELECT * FROM Album LIMIT 5"
   ]
  },
  {
   "cell_type": "markdown",
   "id": "juvenile-protein",
   "metadata": {},
   "source": [
    "### Track\n"
   ]
  },
  {
   "cell_type": "markdown",
   "id": "large-belle",
   "metadata": {},
   "source": [
    "> **QUESTION 1**: Write a SQL query to show the first 10 rows from the table `Track` sorted in alphabetical order. Replace the `???` in the cell below with your answer."
   ]
  },
  {
   "cell_type": "code",
   "execution_count": null,
   "id": "foreign-douglas",
   "metadata": {},
   "outputs": [],
   "source": [
    "%%sql\n",
    "\n",
    "???"
   ]
  },
  {
   "cell_type": "code",
   "execution_count": 63,
   "id": "incomplete-tourist",
   "metadata": {},
   "outputs": [],
   "source": [
    "# DON'T MODIFY OR DELETE THIS CELL!\n",
    "ans1 = _"
   ]
  },
  {
   "cell_type": "markdown",
   "id": "exposed-wealth",
   "metadata": {},
   "source": [
    "(OPTIONAL) Write a SQL query to show the _next 10_ rows from `Tracks`."
   ]
  },
  {
   "cell_type": "code",
   "execution_count": null,
   "id": "collected-activation",
   "metadata": {},
   "outputs": [],
   "source": []
  },
  {
   "cell_type": "code",
   "execution_count": null,
   "id": "received-contributor",
   "metadata": {},
   "outputs": [],
   "source": []
  },
  {
   "cell_type": "markdown",
   "id": "hearing-great",
   "metadata": {},
   "source": [
    "(OPTIONAL) Write SQL queries in the cells below to explore the first few rows of each table in the database."
   ]
  },
  {
   "cell_type": "code",
   "execution_count": null,
   "id": "loved-flour",
   "metadata": {},
   "outputs": [],
   "source": []
  },
  {
   "cell_type": "code",
   "execution_count": null,
   "id": "proof-system",
   "metadata": {},
   "outputs": [],
   "source": []
  },
  {
   "cell_type": "markdown",
   "id": "polar-roller",
   "metadata": {},
   "source": [
    "Let's save our work before continuing."
   ]
  },
  {
   "cell_type": "code",
   "execution_count": null,
   "id": "inner-prescription",
   "metadata": {},
   "outputs": [
    {
     "data": {
      "application/javascript": [
       "window.require && require([\"base/js/namespace\"],function(Jupyter){Jupyter.notebook.save_checkpoint()})"
      ],
      "text/plain": [
       "<IPython.core.display.Javascript object>"
      ]
     },
     "metadata": {},
     "output_type": "display_data"
    }
   ],
   "source": [
    "jovian.commit()"
   ]
  },
  {
   "cell_type": "markdown",
   "id": "lightweight-donor",
   "metadata": {},
   "source": [
    "> **QUESTION 3**: ???"
   ]
  },
  {
   "cell_type": "code",
   "execution_count": null,
   "id": "settled-manchester",
   "metadata": {},
   "outputs": [],
   "source": [
    "%%sql\n",
    "\n",
    "???"
   ]
  },
  {
   "cell_type": "code",
   "execution_count": null,
   "id": "lasting-michael",
   "metadata": {},
   "outputs": [],
   "source": [
    "# DON'T MODIFY THIS CELL! IT IS USED FOR EVALUATION.\n",
    "ans1 = _"
   ]
  },
  {
   "cell_type": "code",
   "execution_count": null,
   "id": "liked-value",
   "metadata": {},
   "outputs": [],
   "source": []
  },
  {
   "cell_type": "code",
   "execution_count": null,
   "id": "quiet-tablet",
   "metadata": {},
   "outputs": [],
   "source": []
  },
  {
   "cell_type": "markdown",
   "id": "promising-pathology",
   "metadata": {},
   "source": [
    "Let's save our work before continuing."
   ]
  },
  {
   "cell_type": "code",
   "execution_count": null,
   "id": "amazing-carter",
   "metadata": {},
   "outputs": [],
   "source": [
    "jovian.commit()"
   ]
  },
  {
   "cell_type": "markdown",
   "id": "lovely-heaven",
   "metadata": {},
   "source": [
    "> **QUESTION 4**: ???"
   ]
  },
  {
   "cell_type": "code",
   "execution_count": null,
   "id": "consolidated-advocacy",
   "metadata": {},
   "outputs": [],
   "source": [
    "%%sql\n",
    "\n",
    "???"
   ]
  },
  {
   "cell_type": "code",
   "execution_count": null,
   "id": "figured-protocol",
   "metadata": {},
   "outputs": [],
   "source": [
    "# DON'T MODIFY THIS CELL! IT IS USED FOR EVALUATION.\n",
    "ans1 = _"
   ]
  },
  {
   "cell_type": "code",
   "execution_count": null,
   "id": "liable-michael",
   "metadata": {},
   "outputs": [],
   "source": []
  },
  {
   "cell_type": "code",
   "execution_count": null,
   "id": "cleared-garlic",
   "metadata": {},
   "outputs": [],
   "source": []
  },
  {
   "cell_type": "markdown",
   "id": "apart-detroit",
   "metadata": {},
   "source": [
    "Let's save our work before continuing."
   ]
  },
  {
   "cell_type": "code",
   "execution_count": null,
   "id": "oriental-darkness",
   "metadata": {},
   "outputs": [],
   "source": [
    "jovian.commit()"
   ]
  },
  {
   "cell_type": "markdown",
   "id": "promising-cooperation",
   "metadata": {},
   "source": [
    "> **QUESTION 5**: ???"
   ]
  },
  {
   "cell_type": "code",
   "execution_count": null,
   "id": "unlimited-sodium",
   "metadata": {},
   "outputs": [],
   "source": [
    "%%sql\n",
    "\n",
    "???"
   ]
  },
  {
   "cell_type": "code",
   "execution_count": null,
   "id": "framed-sheep",
   "metadata": {},
   "outputs": [],
   "source": [
    "# DON'T MODIFY THIS CELL! IT IS USED FOR EVALUATION.\n",
    "ans1 = _"
   ]
  },
  {
   "cell_type": "code",
   "execution_count": null,
   "id": "signal-least",
   "metadata": {},
   "outputs": [],
   "source": []
  },
  {
   "cell_type": "code",
   "execution_count": null,
   "id": "adjustable-excess",
   "metadata": {},
   "outputs": [],
   "source": []
  },
  {
   "cell_type": "markdown",
   "id": "literary-saying",
   "metadata": {},
   "source": [
    "Let's save our work before continuing."
   ]
  },
  {
   "cell_type": "code",
   "execution_count": null,
   "id": "synthetic-shadow",
   "metadata": {},
   "outputs": [],
   "source": [
    "jovian.commit()"
   ]
  },
  {
   "cell_type": "markdown",
   "id": "electrical-syracuse",
   "metadata": {},
   "source": [
    "> **QUESTION 6**: "
   ]
  },
  {
   "cell_type": "code",
   "execution_count": null,
   "id": "knowing-pressure",
   "metadata": {},
   "outputs": [],
   "source": [
    "%%sql\n",
    "\n",
    "???"
   ]
  },
  {
   "cell_type": "code",
   "execution_count": null,
   "id": "solar-grammar",
   "metadata": {},
   "outputs": [],
   "source": [
    "# DON'T MODIFY THIS CELL! IT IS USED FOR EVALUATION.\n",
    "ans1 = _"
   ]
  },
  {
   "cell_type": "code",
   "execution_count": null,
   "id": "fatal-savannah",
   "metadata": {},
   "outputs": [],
   "source": []
  },
  {
   "cell_type": "code",
   "execution_count": null,
   "id": "indie-threshold",
   "metadata": {},
   "outputs": [],
   "source": []
  },
  {
   "cell_type": "markdown",
   "id": "white-curtis",
   "metadata": {},
   "source": [
    "Let's save our work before continuing."
   ]
  },
  {
   "cell_type": "code",
   "execution_count": null,
   "id": "overall-ecology",
   "metadata": {},
   "outputs": [],
   "source": [
    "jovian.commit()"
   ]
  },
  {
   "cell_type": "markdown",
   "id": "manual-bangkok",
   "metadata": {},
   "source": [
    "> **QUESTION 7**: List the largest single invoice generated for every customer in the year 2012, ordered by the transaction value (highest to lowest). Order the list by the invoice total."
   ]
  },
  {
   "cell_type": "code",
   "execution_count": null,
   "id": "tropical-workplace",
   "metadata": {},
   "outputs": [],
   "source": [
    "%%sql\n",
    "\n",
    "???"
   ]
  },
  {
   "cell_type": "code",
   "execution_count": null,
   "id": "attached-killer",
   "metadata": {},
   "outputs": [],
   "source": [
    "# DON'T MODIFY OR MOVE THIS CELL! IT IS USED FOR EVALUATION.\n",
    "ans1 = _"
   ]
  },
  {
   "cell_type": "code",
   "execution_count": null,
   "id": "compliant-shopping",
   "metadata": {},
   "outputs": [],
   "source": []
  },
  {
   "cell_type": "code",
   "execution_count": null,
   "id": "baking-ceremony",
   "metadata": {},
   "outputs": [],
   "source": []
  },
  {
   "cell_type": "markdown",
   "id": "subtle-voltage",
   "metadata": {},
   "source": [
    "Let's save our work before continuing."
   ]
  },
  {
   "cell_type": "code",
   "execution_count": null,
   "id": "royal-culture",
   "metadata": {},
   "outputs": [],
   "source": [
    "jovian.commit()"
   ]
  },
  {
   "cell_type": "markdown",
   "id": "exceptional-drawing",
   "metadata": {},
   "source": [
    "> **QUESTION 8**: Write a SQL query to show the total number of albums and average number of tracks per album for every artist. The result should include the artist ID, artist's name, total albums and average number of tracks per album."
   ]
  },
  {
   "cell_type": "code",
   "execution_count": null,
   "id": "neither-execution",
   "metadata": {},
   "outputs": [],
   "source": [
    "%%sql\n",
    "\n",
    "???"
   ]
  },
  {
   "cell_type": "code",
   "execution_count": null,
   "id": "expired-meditation",
   "metadata": {},
   "outputs": [],
   "source": [
    "# DON'T MODIFY OR MOVE THIS CELL! IT IS USED FOR EVALUATION.\n",
    "ans1 = _"
   ]
  },
  {
   "cell_type": "code",
   "execution_count": null,
   "id": "preceding-legislature",
   "metadata": {},
   "outputs": [],
   "source": []
  },
  {
   "cell_type": "code",
   "execution_count": null,
   "id": "affected-national",
   "metadata": {},
   "outputs": [],
   "source": []
  },
  {
   "cell_type": "markdown",
   "id": "going-warner",
   "metadata": {},
   "source": [
    "Let's save our work before continuing."
   ]
  },
  {
   "cell_type": "code",
   "execution_count": null,
   "id": "imperial-finnish",
   "metadata": {},
   "outputs": [],
   "source": [
    "jovian.commit()"
   ]
  },
  {
   "cell_type": "markdown",
   "id": "optical-degree",
   "metadata": {},
   "source": [
    "> **QUESTION 9**: Write a SQL query"
   ]
  },
  {
   "cell_type": "code",
   "execution_count": null,
   "id": "committed-guide",
   "metadata": {},
   "outputs": [],
   "source": [
    "%%sql\n",
    "\n",
    "???"
   ]
  },
  {
   "cell_type": "code",
   "execution_count": null,
   "id": "precious-musical",
   "metadata": {},
   "outputs": [],
   "source": [
    "# DON'T MODIFY OR MOVE THIS CELL! IT IS USED FOR EVALUATION.\n",
    "ans1 = _"
   ]
  },
  {
   "cell_type": "code",
   "execution_count": null,
   "id": "fossil-capitol",
   "metadata": {},
   "outputs": [],
   "source": []
  },
  {
   "cell_type": "code",
   "execution_count": null,
   "id": "charming-design",
   "metadata": {},
   "outputs": [],
   "source": []
  },
  {
   "cell_type": "markdown",
   "id": "herbal-train",
   "metadata": {},
   "source": [
    "Let's save our work before continuing."
   ]
  },
  {
   "cell_type": "code",
   "execution_count": null,
   "id": "inappropriate-discipline",
   "metadata": {},
   "outputs": [],
   "source": [
    "jovian.commit()"
   ]
  },
  {
   "cell_type": "markdown",
   "id": "exclusive-angola",
   "metadata": {},
   "source": [
    "> **QUESTION 10**: Write a SQL query to display the top 10 highest selling tracks in 2012. The result should contain the track ID, track name and the number of sales of the track in 2012."
   ]
  },
  {
   "cell_type": "code",
   "execution_count": null,
   "id": "finished-spouse",
   "metadata": {},
   "outputs": [],
   "source": [
    "%%sql\n",
    "\n",
    "???"
   ]
  },
  {
   "cell_type": "code",
   "execution_count": null,
   "id": "wooden-electronics",
   "metadata": {},
   "outputs": [],
   "source": [
    "# DON'T MODIFY OR MOVE THIS CELL! IT IS USED FOR EVALUATION.\n",
    "ans1 = _"
   ]
  },
  {
   "cell_type": "markdown",
   "id": "vocational-american",
   "metadata": {},
   "source": [
    "Let's save our work before continuing."
   ]
  },
  {
   "cell_type": "code",
   "execution_count": null,
   "id": "green-cologne",
   "metadata": {},
   "outputs": [],
   "source": [
    "jovian.commit()"
   ]
  },
  {
   "cell_type": "code",
   "execution_count": null,
   "id": "becoming-liberty",
   "metadata": {},
   "outputs": [],
   "source": []
  },
  {
   "cell_type": "code",
   "execution_count": null,
   "id": "limited-evening",
   "metadata": {},
   "outputs": [],
   "source": []
  },
  {
   "cell_type": "code",
   "execution_count": 31,
   "id": "biblical-gather",
   "metadata": {},
   "outputs": [
    {
     "name": "stdout",
     "output_type": "stream",
     "text": [
      "   sqlite:///chinook.db\n",
      " * sqlite:///chinook.sqlite\n",
      "Done.\n"
     ]
    },
    {
     "data": {
      "text/html": [
       "<table>\n",
       "    <tr>\n",
       "        <th>ArtistId</th>\n",
       "        <th>Name</th>\n",
       "    </tr>\n",
       "    <tr>\n",
       "        <td>1</td>\n",
       "        <td>AC/DC</td>\n",
       "    </tr>\n",
       "    <tr>\n",
       "        <td>2</td>\n",
       "        <td>Accept</td>\n",
       "    </tr>\n",
       "    <tr>\n",
       "        <td>3</td>\n",
       "        <td>Aerosmith</td>\n",
       "    </tr>\n",
       "    <tr>\n",
       "        <td>4</td>\n",
       "        <td>Alanis Morissette</td>\n",
       "    </tr>\n",
       "    <tr>\n",
       "        <td>5</td>\n",
       "        <td>Alice In Chains</td>\n",
       "    </tr>\n",
       "    <tr>\n",
       "        <td>6</td>\n",
       "        <td>Antônio Carlos Jobim</td>\n",
       "    </tr>\n",
       "    <tr>\n",
       "        <td>7</td>\n",
       "        <td>Apocalyptica</td>\n",
       "    </tr>\n",
       "    <tr>\n",
       "        <td>8</td>\n",
       "        <td>Audioslave</td>\n",
       "    </tr>\n",
       "    <tr>\n",
       "        <td>9</td>\n",
       "        <td>BackBeat</td>\n",
       "    </tr>\n",
       "    <tr>\n",
       "        <td>10</td>\n",
       "        <td>Billy Cobham</td>\n",
       "    </tr>\n",
       "</table>"
      ],
      "text/plain": [
       "[(1, 'AC/DC'),\n",
       " (2, 'Accept'),\n",
       " (3, 'Aerosmith'),\n",
       " (4, 'Alanis Morissette'),\n",
       " (5, 'Alice In Chains'),\n",
       " (6, 'Antônio Carlos Jobim'),\n",
       " (7, 'Apocalyptica'),\n",
       " (8, 'Audioslave'),\n",
       " (9, 'BackBeat'),\n",
       " (10, 'Billy Cobham')]"
      ]
     },
     "execution_count": 31,
     "metadata": {},
     "output_type": "execute_result"
    }
   ],
   "source": [
    "%sql SELECT * FROM ARTIST LIMIT 10"
   ]
  },
  {
   "cell_type": "code",
   "execution_count": 42,
   "id": "aquatic-browse",
   "metadata": {},
   "outputs": [
    {
     "name": "stdout",
     "output_type": "stream",
     "text": [
      "   sqlite:///chinook.db\n",
      " * sqlite:///chinook.sqlite\n",
      "Done.\n"
     ]
    },
    {
     "data": {
      "text/html": [
       "<table>\n",
       "    <tr>\n",
       "        <th>COUNT(*)</th>\n",
       "    </tr>\n",
       "    <tr>\n",
       "        <td>3503</td>\n",
       "    </tr>\n",
       "</table>"
      ],
      "text/plain": [
       "[(3503,)]"
      ]
     },
     "execution_count": 42,
     "metadata": {},
     "output_type": "execute_result"
    }
   ],
   "source": [
    "%sql SELECT COUNT(*) FROM Track"
   ]
  },
  {
   "cell_type": "code",
   "execution_count": 28,
   "id": "attached-assist",
   "metadata": {},
   "outputs": [
    {
     "name": "stdout",
     "output_type": "stream",
     "text": [
      "   sqlite:///chinook.db\n",
      " * sqlite:///chinook.sqlite\n",
      "Done.\n"
     ]
    },
    {
     "data": {
      "text/html": [
       "<table>\n",
       "    <tr>\n",
       "        <th>TrackId</th>\n",
       "        <th>Name</th>\n",
       "        <th>AlbumId</th>\n",
       "        <th>MediaTypeId</th>\n",
       "        <th>GenreId</th>\n",
       "        <th>Composer</th>\n",
       "        <th>Milliseconds</th>\n",
       "        <th>Bytes</th>\n",
       "        <th>UnitPrice</th>\n",
       "    </tr>\n",
       "    <tr>\n",
       "        <td>1</td>\n",
       "        <td>For Those About To Rock (We Salute You)</td>\n",
       "        <td>1</td>\n",
       "        <td>1</td>\n",
       "        <td>1</td>\n",
       "        <td>Angus Young, Malcolm Young, Brian Johnson</td>\n",
       "        <td>343719</td>\n",
       "        <td>11170334</td>\n",
       "        <td>0.99</td>\n",
       "    </tr>\n",
       "    <tr>\n",
       "        <td>2</td>\n",
       "        <td>Balls to the Wall</td>\n",
       "        <td>2</td>\n",
       "        <td>2</td>\n",
       "        <td>1</td>\n",
       "        <td>None</td>\n",
       "        <td>342562</td>\n",
       "        <td>5510424</td>\n",
       "        <td>0.99</td>\n",
       "    </tr>\n",
       "    <tr>\n",
       "        <td>3</td>\n",
       "        <td>Fast As a Shark</td>\n",
       "        <td>3</td>\n",
       "        <td>2</td>\n",
       "        <td>1</td>\n",
       "        <td>F. Baltes, S. Kaufman, U. Dirkscneider &amp; W. Hoffman</td>\n",
       "        <td>230619</td>\n",
       "        <td>3990994</td>\n",
       "        <td>0.99</td>\n",
       "    </tr>\n",
       "    <tr>\n",
       "        <td>4</td>\n",
       "        <td>Restless and Wild</td>\n",
       "        <td>3</td>\n",
       "        <td>2</td>\n",
       "        <td>1</td>\n",
       "        <td>F. Baltes, R.A. Smith-Diesel, S. Kaufman, U. Dirkscneider &amp; W. Hoffman</td>\n",
       "        <td>252051</td>\n",
       "        <td>4331779</td>\n",
       "        <td>0.99</td>\n",
       "    </tr>\n",
       "    <tr>\n",
       "        <td>5</td>\n",
       "        <td>Princess of the Dawn</td>\n",
       "        <td>3</td>\n",
       "        <td>2</td>\n",
       "        <td>1</td>\n",
       "        <td>Deaffy &amp; R.A. Smith-Diesel</td>\n",
       "        <td>375418</td>\n",
       "        <td>6290521</td>\n",
       "        <td>0.99</td>\n",
       "    </tr>\n",
       "    <tr>\n",
       "        <td>6</td>\n",
       "        <td>Put The Finger On You</td>\n",
       "        <td>1</td>\n",
       "        <td>1</td>\n",
       "        <td>1</td>\n",
       "        <td>Angus Young, Malcolm Young, Brian Johnson</td>\n",
       "        <td>205662</td>\n",
       "        <td>6713451</td>\n",
       "        <td>0.99</td>\n",
       "    </tr>\n",
       "    <tr>\n",
       "        <td>7</td>\n",
       "        <td>Let&#x27;s Get It Up</td>\n",
       "        <td>1</td>\n",
       "        <td>1</td>\n",
       "        <td>1</td>\n",
       "        <td>Angus Young, Malcolm Young, Brian Johnson</td>\n",
       "        <td>233926</td>\n",
       "        <td>7636561</td>\n",
       "        <td>0.99</td>\n",
       "    </tr>\n",
       "    <tr>\n",
       "        <td>8</td>\n",
       "        <td>Inject The Venom</td>\n",
       "        <td>1</td>\n",
       "        <td>1</td>\n",
       "        <td>1</td>\n",
       "        <td>Angus Young, Malcolm Young, Brian Johnson</td>\n",
       "        <td>210834</td>\n",
       "        <td>6852860</td>\n",
       "        <td>0.99</td>\n",
       "    </tr>\n",
       "    <tr>\n",
       "        <td>9</td>\n",
       "        <td>Snowballed</td>\n",
       "        <td>1</td>\n",
       "        <td>1</td>\n",
       "        <td>1</td>\n",
       "        <td>Angus Young, Malcolm Young, Brian Johnson</td>\n",
       "        <td>203102</td>\n",
       "        <td>6599424</td>\n",
       "        <td>0.99</td>\n",
       "    </tr>\n",
       "    <tr>\n",
       "        <td>10</td>\n",
       "        <td>Evil Walks</td>\n",
       "        <td>1</td>\n",
       "        <td>1</td>\n",
       "        <td>1</td>\n",
       "        <td>Angus Young, Malcolm Young, Brian Johnson</td>\n",
       "        <td>263497</td>\n",
       "        <td>8611245</td>\n",
       "        <td>0.99</td>\n",
       "    </tr>\n",
       "</table>"
      ],
      "text/plain": [
       "[(1, 'For Those About To Rock (We Salute You)', 1, 1, 1, 'Angus Young, Malcolm Young, Brian Johnson', 343719, 11170334, 0.99),\n",
       " (2, 'Balls to the Wall', 2, 2, 1, None, 342562, 5510424, 0.99),\n",
       " (3, 'Fast As a Shark', 3, 2, 1, 'F. Baltes, S. Kaufman, U. Dirkscneider & W. Hoffman', 230619, 3990994, 0.99),\n",
       " (4, 'Restless and Wild', 3, 2, 1, 'F. Baltes, R.A. Smith-Diesel, S. Kaufman, U. Dirkscneider & W. Hoffman', 252051, 4331779, 0.99),\n",
       " (5, 'Princess of the Dawn', 3, 2, 1, 'Deaffy & R.A. Smith-Diesel', 375418, 6290521, 0.99),\n",
       " (6, 'Put The Finger On You', 1, 1, 1, 'Angus Young, Malcolm Young, Brian Johnson', 205662, 6713451, 0.99),\n",
       " (7, \"Let's Get It Up\", 1, 1, 1, 'Angus Young, Malcolm Young, Brian Johnson', 233926, 7636561, 0.99),\n",
       " (8, 'Inject The Venom', 1, 1, 1, 'Angus Young, Malcolm Young, Brian Johnson', 210834, 6852860, 0.99),\n",
       " (9, 'Snowballed', 1, 1, 1, 'Angus Young, Malcolm Young, Brian Johnson', 203102, 6599424, 0.99),\n",
       " (10, 'Evil Walks', 1, 1, 1, 'Angus Young, Malcolm Young, Brian Johnson', 263497, 8611245, 0.99)]"
      ]
     },
     "execution_count": 28,
     "metadata": {},
     "output_type": "execute_result"
    }
   ],
   "source": [
    "%sql SELECT * FROM TRACK LIMIT 10"
   ]
  },
  {
   "cell_type": "code",
   "execution_count": null,
   "id": "positive-valuable",
   "metadata": {},
   "outputs": [],
   "source": []
  },
  {
   "cell_type": "code",
   "execution_count": null,
   "id": "grave-venture",
   "metadata": {},
   "outputs": [],
   "source": []
  },
  {
   "cell_type": "markdown",
   "id": "developmental-premiere",
   "metadata": {},
   "source": [
    "> **QUESTION 10**: Write SQL queries to insert the following records into the database:\n",
    "> \n",
    "> 1. A new artist called \"Linkin Park\"\n",
    "> 2. A two new albums:\n",
    ">     1. Hybrid Theory\n",
    ">     2. Meteora\n",
    "> 3. Add 6 new tracks:\n",
    ">     1. Papercut\n",
    ">     2. In The End\n",
    ">     3. Crawling\n",
    ">     4. Somewhere I Belong\n",
    ">     5. Numb\n",
    ">     6. Breaking the Habit\n",
    ">\n",
    "> *Hint*: You need not provide a value for the ID (primary key) columns while inserting these rows, because the ID columns are marked as [AUTO INCREMENT](https://www.w3schools.com/sql/sql_autoincrement.asp) and will automatically be assigned the next available numeric value."
   ]
  },
  {
   "cell_type": "markdown",
   "id": "miniature-blend",
   "metadata": {},
   "source": [
    "Here's the query to insert a new artist:"
   ]
  },
  {
   "cell_type": "code",
   "execution_count": null,
   "id": "native-columbus",
   "metadata": {},
   "outputs": [],
   "source": [
    "%%sql\n",
    "\n",
    "INSERT INTO Artist (Name) VALUES (\"Linkin Park\")"
   ]
  },
  {
   "cell_type": "markdown",
   "id": "dominican-judge",
   "metadata": {},
   "source": [
    "Write the query to insert the new albums below:"
   ]
  },
  {
   "cell_type": "code",
   "execution_count": null,
   "id": "popular-battle",
   "metadata": {},
   "outputs": [],
   "source": [
    "%%sql\n",
    "\n",
    "???"
   ]
  },
  {
   "cell_type": "markdown",
   "id": "frozen-asbestos",
   "metadata": {},
   "source": [
    "Write the query to insert the new tracks below:"
   ]
  },
  {
   "cell_type": "code",
   "execution_count": null,
   "id": "plain-species",
   "metadata": {},
   "outputs": [],
   "source": [
    "%%sql\n",
    "\n",
    "???"
   ]
  },
  {
   "cell_type": "markdown",
   "id": "beneficial-virgin",
   "metadata": {},
   "source": [
    "Make sure to insert exactly one copy of each of the above records.  \n",
    "\n",
    "If the records were inserted properly, you should be able to retrieve them back using the following queries."
   ]
  },
  {
   "cell_type": "code",
   "execution_count": null,
   "id": "lyric-voice",
   "metadata": {},
   "outputs": [],
   "source": [
    "%%sql\n",
    "\n",
    "SELECT * FROM Artist WHERE"
   ]
  }
 ],
 "metadata": {
  "kernelspec": {
   "display_name": "Python 3",
   "language": "python",
   "name": "python3"
  },
  "language_info": {
   "codemirror_mode": {
    "name": "ipython",
    "version": 3
   },
   "file_extension": ".py",
   "mimetype": "text/x-python",
   "name": "python",
   "nbconvert_exporter": "python",
   "pygments_lexer": "ipython3",
   "version": "3.6.13"
  }
 },
 "nbformat": 4,
 "nbformat_minor": 5
}
