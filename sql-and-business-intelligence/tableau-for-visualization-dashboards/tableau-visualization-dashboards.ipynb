{
 "cells": [
  {
   "cell_type": "markdown",
   "id": "historical-benefit",
   "metadata": {},
   "source": [
    "# Data Visualization and Dashboards with Tableau\n",
    "\n",
    "This tutorial is a part of the [Zero to Data Science Bootcamp by Jovian](https://zerotodatascience.com)\n",
    "\n",
    "![](https://i.imgur.com/B6OPP6J.png)\n"
   ]
  },
  {
   "cell_type": "markdown",
   "id": "missing-print",
   "metadata": {},
   "source": [
    "[Tableau](https://tableau.com) is a GUI-based desktop application for analyzing & visualizing data. Tableau is often used by data analysts to create and publish real-time interactive online business intelligence dashboards that can be viewed and accessed by others within a company using just a web browser. [Power BI](https://powerbi.microsoft.com/en-us/), [Qlikview](https://www.qlik.com/us/), [Looker](https://looker.com/) and [Mode](https://mode.com/) are other tools that serve similar use cases.\n",
    "\n",
    "The following topics are covered in this tutorial:\n",
    "\n",
    "- Downloading and installing Tableau (Public, Desktop & Web)\n",
    "- Connecting Tableau to local files and remote data sources\n",
    "- Setting up data source (tables & relationships) for analysis\n",
    "- Creating interactive visualizations to answer questions about data\n",
    "- Creating interactive dashboard of interconnected visualizations\n",
    "- Publishing, viewing and sharing your dashboards online\n"
   ]
  },
  {
   "cell_type": "markdown",
   "id": "unavailable-nepal",
   "metadata": {},
   "source": [
    "## Downloading and Installing Tableau\n",
    "\n",
    "<img src=\"https://i.imgur.com/7yhoO77.jpg\" width=\"240\" style=\"margin-left:0\">\n",
    "\n",
    "Tableau is available is several forms:\n",
    "\n",
    "\n",
    "1. **Tableau Public**: A free desktop application that you can use to create visualizations and publish them online to your Tableau profile. Tableau Public is a great way to learn Tableau and create a public portfolio of your projects. Download it here: https://public.tableau.com\n",
    "\n",
    "\n",
    "2. **Tableau Desktop / Tableau Creator**: A paid desktop application with additional capabilities (private projects, connecting to remote data sources etc.). It is suitable for personal private use or for use within teams. Learn more: https://www.tableau.com/products/desktop \n",
    "\n",
    "\n",
    "3. **Tableau Online**: A paid browser-based application providing many of the features of Tableau Desktop, without requiring a download. Learn more: http://online.tableau.com/\n",
    "\n",
    "\n",
    "4. **Tableau Viewer**: A web-based application to view and interact with dashboards created or published using Tableau Desktop or Tableau Online. Learn more: https://www.tableau.com/products/viewer\n",
    "\n",
    "\n",
    "In this notebook we'll use [Tableau Public](http://public.tableau.com/), available as a desktop application for Windows and Mac. If you're using Linux, you can sign in to https://public.tableau.com and use the web-based interface for creating visualizations.\n"
   ]
  },
  {
   "cell_type": "markdown",
   "id": "palestinian-winner",
   "metadata": {},
   "source": [
    "## Connecting to Data Sources\n",
    "\n",
    "When you launch Tableau Public or Tableau Desktop, you'll see the following interface: \n",
    "\n",
    "<img src=\"https://i.imgur.com/vWnXKSh.png\" width=\"720\">\n",
    "\n"
   ]
  },
  {
   "cell_type": "markdown",
   "id": "affiliated-habitat",
   "metadata": {},
   "source": [
    "Before you can create a visualization in Tableau, you'll need to connect to data source. Tableau can be connected to the following data sources:\n",
    "\n",
    "\n",
    "*  **Microsoft Excel Workbooks**: Just select the \"Microsoft Excel\" option to open up an Excel workbook for visualization using Tableau.\n",
    "\n",
    "\n",
    "*  **Text Files (CSV/JSON/PDF/Spatial)**: Select the appropriate file type and open up the file from your filesystem\n",
    "\n",
    "\n",
    "*  **Relational Databases (SQL)** (not available on Tableau Public): Provide the credentials to connect the SQL server (hostname, port, username and password). \n",
    "\n",
    "\n",
    "*  **Other Online Sources**: Tableau can be connected to 100+ other data sources like Google Analytics, Google Sheets, Dropbox, Salesforce etc. Learn more: https://help.tableau.com/current/pro/desktop/en-us/exampleconnections_overview.htm"
   ]
  },
  {
   "cell_type": "markdown",
   "id": "corporate-vessel",
   "metadata": {},
   "source": [
    "### Superstore Sample Dataset\n",
    "\n",
    "In this tutorial, we'll use the Superstore sample dataset, containing mock data from supermarket with stores across the United States. It is available as an Excel Workbook. You can download the workbook here: https://www.dropbox.com/s/ngt5m0tycbyn6se/Sample%20-%20Superstore.xls?dl=1\n",
    "\n",
    "<img src=\"https://i.imgur.com/7tBLcAC.png\" width=\"720\">\n",
    "\n"
   ]
  },
  {
   "cell_type": "markdown",
   "id": "reverse-jackson",
   "metadata": {},
   "source": [
    "## Setting up a Data Source\n",
    "\n",
    "On the home page, select \"Connect\" > \"To a File\" > \"Microsoft Excel\" and open up the file \"Sample - Superstore.xls\" downloaded earlier to start using it as a data source. \n"
   ]
  },
  {
   "cell_type": "markdown",
   "id": "controversial-effect",
   "metadata": {},
   "source": [
    "### Data Source Page\n",
    "\n",
    "Once you connect to a data source, you'll see a Data Source Page, where you can select and browse the tables you wish to use for your analysis and define relationships between them.\n",
    "\n",
    "![](https://help.tableau.com/current/pro/desktop/en-us/Img/environ_workspace_datasource_page.png)\n",
    "\n",
    "\n",
    "**A. Left pane** - Displays the connected data source and other details about your data.\n",
    "\n",
    "**B. Canvas: logical layer** - The canvas opens with the logical layer, where you can create relationships between logical tables.\n",
    "\n",
    "**C. Canvas: physical layer** - Double-click a table in the logical layer to go to the physical layer of the canvas, where you can add joins and unions between tables.\n",
    "\n",
    "**D. Data grid** - Displays first 1,000 rows of the data contained in the Tableau data source.\n",
    "\n",
    "**E. Metadata grid** - Displays the fields in your data source as rows.\n",
    "\n",
    "\n",
    "Learn more about the different parts of the Data Source page here: https://help.tableau.com/current/pro/desktop/en-us/environment_datasource_page.htm"
   ]
  },
  {
   "cell_type": "markdown",
   "id": "retired-precipitation",
   "metadata": {},
   "source": [
    "### Setting up the Superstore Data Source\n",
    "\n",
    "Perform the following actions on the Data Source page:\n",
    "\n",
    "1. Drag the \"Orders\" table into the Canvas\n",
    "2. Browse and explore the data using the Data Grid (notice that data types are automatically identified)\n",
    "3. Drag the \"People\" table into the Canvas\n",
    "4. Verify that the relationship detected by Tableau is correct\n",
    "5. Drag the \"Returns\" table into the Canvas\n",
    "6. Verify that the relationship detected by Tableau is correct\n",
    "7. Rename the data source to \"Superstore\"\n",
    "\n",
    "You should end up with the following view in the canvas:\n",
    "\n",
    "<img src=\"https://i.imgur.com/fmUKRID.png\" width=\"480\">\n",
    "\n",
    "\n",
    "Finally, open the \"Sheet 1\" tab at the bottom left of the page to start visualizing the data."
   ]
  },
  {
   "cell_type": "markdown",
   "id": "physical-impact",
   "metadata": {},
   "source": [
    "### Sheet Workspace \n",
    "\n",
    "Tableau projects are stored as \"Workbooks\".  A workbook can connect to one or more data sources, and may contain one or more \"Sheets\", \"Dashboards\" and \"Stories\". Learn more about workbooks and sheets here: https://help.tableau.com/current/pro/desktop/en-us/environ_workbooksandsheets.htm\n",
    "\n",
    "Here's the structure of a Sheet's workspace:\n",
    "\n",
    "![](https://help.tableau.com/current/pro/desktop/en-us/Img/environ_workspace1.png)\n",
    "\n",
    "\n",
    "**A. Workbook name** - A workbook contains sheets. A sheet can be a worksheet, a dashboard, or a story. For more information, see Workbooks and Sheets.\n",
    "\n",
    "**B. Cards and shelves** - Drag fields to the cards and shelves in the workspace to add data to your view.\n",
    "\n",
    "**C. Toolbar** - Use the toolbar to access commands and analysis and navigation tools.\n",
    "\n",
    "**D. View** - This is the canvas in the workspace where you create a visualization (also referred to as a \"viz\").\n",
    "\n",
    "**E. Start Icon** - Click this icon to go to the Start page, where you can connect to data. For more information, see Start Page.\n",
    "\n",
    "**F. Side Bar** - In a worksheet, the side bar area contains the Data pane and the Analytics pane.\n",
    "\n",
    "**G. Data Source Tab** - Click this tab to go to the Data Source page and view your data. For more information, see Data Source Page.\n",
    "\n",
    "**H. Status Bar** - Displays information about the current view.\n",
    "\n",
    "**I. Sheet tabs** - Tabs represent each sheet in your workbook. This can include worksheets, dashboards, and stories. For more information, see Workbooks and Sheets.\n",
    "\n",
    "Learn more about the workspace and toolbar buttons here: https://help.tableau.com/current/pro/desktop/en-us/environment_workspace.htm"
   ]
  },
  {
   "attachments": {},
   "cell_type": "markdown",
   "id": "danish-precipitation",
   "metadata": {},
   "source": [
    "### Data Pane\n",
    "\n",
    "The data pane in the left sidebar shows all the columns (also known as fields) from all the tables:\n",
    "\n",
    "<img src=\"https://i.imgur.com/HPCIdSm.png\" width=\"160\" style=\"margin-left:0\">"
   ]
  },
  {
   "cell_type": "markdown",
   "id": "medieval-equivalent",
   "metadata": {},
   "source": [
    "Note the following:\n",
    "\n",
    "* Fields are grouped under table names\n",
    "* Fields are classified into dimensions (categorical data) and measures (numeric data)\n",
    "* There are also several autogenerated fields\n",
    "* Fields can also be organized into [folders](https://help.tableau.com/current/pro/desktop/en-us/datafields_dwfeatures.htm) and [hierarchies](https://help.tableau.com/current/pro/desktop/en-us/qs_hierarchies.htm).\n",
    "* You can hide fields that you do not plan to use.\n",
    "\n",
    "Learn more about the data pane here: https://help.tableau.com/current/pro/desktop/en-us/datafields_understanddatawindow.htm"
   ]
  },
  {
   "cell_type": "markdown",
   "id": "certified-delicious",
   "metadata": {},
   "source": [
    "> **EXERCISES** \n",
    "> \n",
    "> 1. Create a \"Product\" hierarchy with the fields Category, Subcategory and Product Name\n",
    "> 2. Create a \"Location\" hierarchy with the fields \"Country\", \"Region\", \"State\", \"City\" and \"Postal Code\"\n",
    "> 3. Hide the fields \"ProductID\", \"RowID\" and \"CustomerID\" from view.\n",
    "> 4. Group the fields \"Ship Date\" and \"Ship Mode\" into a folder called \"Shipping\"."
   ]
  },
  {
   "cell_type": "markdown",
   "id": "freelance-truth",
   "metadata": {},
   "source": [
    "## Creating Interactive Visualizations\n",
    "\n",
    "Every sheet in a Tableau workspaces contains one visualization or Viz. Tableau can be used to create several types of interactive visualizations: \n",
    "\n",
    "1. Line Charts\n",
    "\n",
    "2. Bar Charts\n",
    "\n",
    "3. Histograms\n",
    "\n",
    "4. Heatmaps\n",
    "\n",
    "5. Box Plots\n",
    "\n",
    "6. Scatter Plots\n",
    "\n",
    "7. Geographical maps\n",
    "\n",
    "8. Tree maps\n",
    "\n",
    "and many more...\n",
    "\n"
   ]
  },
  {
   "cell_type": "markdown",
   "id": "portable-cameroon",
   "metadata": {},
   "source": [
    "> **EXERCISE**: Try creating one chart from each type from the above list. Refer to this guide for inspiration: https://help.tableau.com/current/pro/desktop/en-us/what_chart_example.htm"
   ]
  },
  {
   "cell_type": "markdown",
   "id": "resistant-application",
   "metadata": {},
   "source": [
    "### Asking and Answering Questions\n",
    "\n",
    "The best way to create a chart in Tableau is to start by asking a question. Let's ask and answer a few questions about the data. These questions are taken from tutorials on Tableau's official website: \n",
    "- https://www.tableau.com/learn/training/20204\n",
    "- https://help.tableau.com/current/pro/desktop/en-us/gettingstarted_overview.htm\n",
    "\n",
    "Here's the approach we'll follow:\n",
    "\n",
    "1. Read the question and attempt to solve it on our own.\n",
    "2. Watch a short video tutorial explaining how to answer the question\n",
    "3. Replicate the steps on our own, from memory or by looking up online resources\n",
    "4. Try to solve a similar problem on our own.\n"
   ]
  },
  {
   "cell_type": "markdown",
   "id": "departmental-ecology",
   "metadata": {},
   "source": [
    "### What is the profit ratio in the different states?\n",
    "\n",
    "https://www.tableau.com/learn/tutorials/on-demand/getting-started-part5?playlist=296805\n",
    "\n",
    "We can visualize this on a map of the United States:\n",
    "\n",
    "![](https://i.imgur.com/EfOTxuG.png)\n",
    "\n",
    "\n",
    "Here's how you can create the above Viz:\n",
    "\n",
    "1. Rename \"Sheet 1\" to \"Profit Ratio by Geography\"\n",
    "2. Create a new calculated field called \"Profit Ratio\" with the formula `Sum([Profit])/Sum([Sales])` \n",
    "3. Select the \"State\" and \"Profit Ratio\" fields by holding down Control/Command\n",
    "4. Click on \"Show Me\" at the top right and select the colored map visualization\n",
    "5. Change the number format for \"Profit Ratio\" to percentage. \n",
    "6. Adjust the color palette of the map to \"Orange Blue Diverging\" with stepped colors and endpoints -0.5 and 0.5\n",
    "7. Drag \"Regions\" into the \"Filters\" card and select \"Show Filters\" to allow filtering by Region\n",
    "8. Add a filter for \"Profit Ratio\" and show the filter to allow filtering regions by profit ratio\n",
    "\n",
    "Learn more about formulas and calculated fields here: https://help.tableau.com/current/pro/desktop/en-us/calculations_calculatedfields.htm"
   ]
  },
  {
   "cell_type": "markdown",
   "id": "outdoor-governor",
   "metadata": {},
   "source": [
    "> **EXERCISE**: Come up with some other location-related questions and answer them by creating a map."
   ]
  },
  {
   "cell_type": "markdown",
   "id": "robust-parish",
   "metadata": {},
   "source": [
    "### What are the total month-wise sales (profitable and unprofitable) across different categories of products?\n",
    "\n",
    "https://www.tableau.com/learn/tutorials/on-demand/getting-started-part6?playlist=296805\n",
    "\n",
    "![](https://i.imgur.com/IIQSQ8H.png)\n",
    "\n",
    "Follow these steps to create the above viz:\n",
    "\n",
    "1. Create a new sheet and call it \"Sales by Category\"\n",
    "2. Select \"Order Date\" and \"Sales\" (using command) and create an area chart from \"Show Me\"\n",
    "4. Change the date level to \"Month & Year\" instead of just year\n",
    "6. Hide the axis labels \"Sales\" and \"Month of Order Date\" as they're self-explanatory\n",
    "7. Select the \"Order ID\" and \"Profit\" columns (using Command/Control) and create an LOD (level of detail) calculation field called \"Order Profitable?\" with the formula `{ FIXED [Order ID]: SUM([Profit]) } > 0`.\n",
    "8. Edit the Aliases for \"Order Profitable?\" to \"Unprofitable\" and \"Profitable\"\n",
    "9. Set a manual sort order for \"Order Profitable?\" to show \"Profitable\" above \"Unprofitable\"\n",
    "10. Drag \"Order Profitable?\" to the \"Color\" card to show a variation\n",
    "11. Drag \"Category\" into \"Rows\" before \"Order Date\" to create 3 charts, split by Category\n",
    "12. Format the tooltip with custom data and styles as shown below \n",
    "13. Add a Date Range filter for Order Dates and show the filter\n",
    "\n",
    "\n",
    "<img src=\"https://i.imgur.com/oDl0AOZ.png\" width=\"240\">\n",
    "\n",
    "\n",
    "Learn more about level of detail expressions here: https://help.tableau.com/current/pro/desktop/en-us/calculations_calculatedfields_lod.htm"
   ]
  },
  {
   "attachments": {},
   "cell_type": "markdown",
   "id": "editorial-turkish",
   "metadata": {},
   "source": [
    "> **EXERCISE**: What are the total month-wise sales (profitable and unprofitable) across different customer segments? HINT: Duplicate the sheet created above.\n",
    "> \n",
    "> <img src=\"https://i.imgur.com/vdMZlFt.png\" width=\"480\">"
   ]
  },
  {
   "attachments": {},
   "cell_type": "markdown",
   "id": "satellite-terry",
   "metadata": {},
   "source": [
    "### Key Performance Indicators\n",
    "\n",
    "https://www.tableau.com/learn/tutorials/on-demand/getting-started-part7?playlist=296805\n",
    "\n",
    "Let's compute the following key performance indicators for a given time range:\n",
    "\n",
    "1. Total Sales\n",
    "2. Total Profit\n",
    "3. Profit Ratio\n",
    "4. Profit Per Order\n",
    "5. Sales Per Customer\n",
    "6. Average Discount\n",
    "7. Quantity Sold\n",
    "\n",
    "We can create a \"Text Table\" to display the above data:\n",
    "\n",
    "<img src=\"https://i.imgur.com/TseLOv5.png\" width=\"640\">\n",
    "\n",
    "Follow these steps to create the above table:\n",
    "\n",
    "1. Create a new sheet called \"Key Performance Indicators\"\n",
    "2. Create a field \"Profit Per Order\" with the formula `SUM([Profit])/countd([Order])`\n",
    "3. Create a field \"Sales Per Customer\" with the appropriate formula\n",
    "4. Drag the \"Measure Names\" field into the Canvas\n",
    "5. Remove the measure you don't wish to see in the table\n",
    "6. Reorder the measures in the data source and select the appropriate aggregations\n",
    "7. Format each measure to show the numbers in the appropriate format\n",
    "8. Change the display type to \"Fit Width\" using the appropriate toolbar button\n",
    "\n",
    "Learn more about text tables here: https://help.tableau.com/current/pro/desktop/en-us/buildexamples_text.htm"
   ]
  },
  {
   "cell_type": "markdown",
   "id": "suspended-crisis",
   "metadata": {},
   "source": [
    "> **EXERCISE**: Come up with some other questions related to sales and answer them by creating visualizations."
   ]
  },
  {
   "attachments": {},
   "cell_type": "markdown",
   "id": "prerequisite-brazilian",
   "metadata": {},
   "source": [
    "### What is the profit ratio for cities in a given state?\n",
    "\n",
    "https://www.tableau.com/learn/tutorials/on-demand/getting-started-part8?playlist=296805\n",
    "\n",
    "![](https://i.imgur.com/kG5JmjP.png)\n",
    "\n",
    "\n",
    "Follow these steps to create the above viz:\n",
    "\n",
    "1. Create a sheet called \"Profit Ratio by City\"\n",
    "2. Use a bar chart to visualize the relationship between city and profit ratio\n",
    "3. Sort the values by increasing profit ratio (hover over the \"Profit Ratio\" axis title)\n",
    "4. Drag \"Profit Ratio\" to the \"Color\" shelf to also color the bars based on profit ratio. Apply the same color scale as applied for the Profit Ratio by Geography\n",
    "5. Show the Mark labels to see the profit ratio next to each bar\n",
    "6. Adjust the number format to show profit ratio as a percentage\n",
    "\n"
   ]
  },
  {
   "cell_type": "markdown",
   "id": "blank-trauma",
   "metadata": {},
   "source": [
    "### Embedding Visualizations in Other Sheets\n",
    "\n",
    "We can also embed this visualization into the tooltip of another visualization:\n",
    "\n",
    "<img src=\"https://i.imgur.com/vyufY9u.png\" width=\"480\">\n",
    "\n",
    "\n",
    "Follow these steps to emebed the city-wise profit ratio as tooltip within the state-wise profit ratio:\n",
    "\n",
    "1. Remove the \"Profit Ratio\" header by deselecting \"Show Header\" for \n",
    "1. Disable the tooltip so that nothing is shown when you hover over a bar.\n",
    "2. Open the \"Profit Ratio by Geography\" sheet and click on the \"Tooltip\" card\n",
    "3. Erase the default tooltip and insert the tooltip shown below (use the \"Insert\" dropdown)\n",
    "\n",
    "<img src=\"https://i.imgur.com/472j6Yh.png\" width=\"480\">"
   ]
  },
  {
   "cell_type": "markdown",
   "id": "dated-crystal",
   "metadata": {},
   "source": [
    "### Visualization View \n",
    "\n",
    "Here are the different components of the visualization view:\n",
    "\n",
    "![](https://help.tableau.com/current/pro/desktop/en-us/Img/view_parts3.png)\n",
    "\n",
    "**A. Field Labels** - The label of a discrete field added to the row or column shelf that describes the members of that field. For example, Category is a discrete field that contains three members; Furniture, Office Supplies and Technology.\n",
    "\n",
    "**B. Titles** - The name that you give your worksheet, dashboard, or story. Titles display automatically for worksheets and stories and you can turn them on to display them in your dashboards.\n",
    "\n",
    "**C. Marks** - The data that represents the intersection of the fields (dimensions and measures) included in your view. Marks can be represented using lines, bars, shapes, maps and so on.\n",
    "\n",
    "**D. Legends** - A key that describes how the data is encoded in your view. For example if you use shapes or colors in your view, the legend describes what each shape or color represents.\n",
    "\n",
    "**E. Axes** - Created when you add a measure (fields that contain quantitative, numerical information) to the view. By default, Tableau generates a continuous axis for this data.\n",
    "\n",
    "**F. Headers** - The member name of a field.\n",
    "\n",
    "**G. Captions** - Text that describes the data in the view. Captions can be automatically generated and can be toggled on and off.\n",
    "\n",
    "Learn more about the visualization view here: https://help.tableau.com/current/pro/desktop/en-us/view_parts.htm"
   ]
  },
  {
   "cell_type": "markdown",
   "id": "covered-divide",
   "metadata": {},
   "source": [
    "## Creating and Publishing Dashboards\n",
    "\n",
    "Let's create an \"Executive Overview\" dashboard showing information from all the above sheets:\n",
    "\n",
    "![](https://i.imgur.com/1U2in81.png)\n",
    "\n",
    "Follow these steps to create the dashboard:\n",
    "\n",
    "1. Create a new Dashboard from the bottom tab and name it \"Executive Overview\"\n",
    "2. Choose \"Automatic\" as the dashboard size so that it resizes based on the viewport.\n",
    "3. Select a \"Tiled\" layout for the dashboard and add a \"Vertical\" layout container.\n",
    "4. Add the Key Performance Indicators sheet inside the layout.\n",
    "5. Add a \"Horizontal\" layout container and add the \"Profit Ratio by Geography\" sheet inside it.\n",
    "6. Add another \"Horizontal\" sheet and add the \"Sales by Category\" and \"Sales by Geography\" sheets inside it.\n",
    "7. Use the Layout Pane to inspect the Item hierarchy and remove any items you don't wish to show e.g. \"Order Profitable\"\n",
    "8. Modify the settings for each filter to apply the filter to all worksheets. Reorder them as desired.\n",
    "9. Add a \"Filter Action\" to ensure that selecting a state selects filters the text table and area charts to show the data for that state only.\n",
    "10. Hide worksheet title for the \"Profit Ratio by Geography\" sheet.\n",
    "11. Edit titles to show dynamic text based on the selected state on the map.\n",
    "\n",
    "\n",
    "Filer Action for States:\n",
    "\n",
    "<img src=\"https://i.imgur.com/vriQPXS.png\" width=\"480\">\n",
    "\n",
    "\n",
    "You can now publish the dashboard \"File\" > \"Save to Tableau Public as..\". You'll then be able to view it online on your Tableau Public profile.\n",
    "\n",
    "Explore visualizations by other Tableau users at https://public.tableau.com/gallery"
   ]
  },
  {
   "cell_type": "markdown",
   "id": "artistic-thinking",
   "metadata": {},
   "source": [
    "## Working with Multiple Dataset and Tables\n",
    "\n",
    "Follow this tutorial: https://www.tableau.com/learn/tutorials/on-demand/relationships\n",
    "\n",
    "![](https://i.imgur.com/WluhWFV.png)"
   ]
  },
  {
   "cell_type": "markdown",
   "id": "determined-complaint",
   "metadata": {},
   "source": [
    "> **EXERCISES**: Download the Excel Workbook for the above dataset here: https://www.tableau.com/sites/default/files/convenience_store.xlsx . Load it into a Tableau workbook and answer the following questions:\n",
    "> \n",
    "> 1. What were the best and worst selling products? (also show product IDs)\n",
    "> 2. What was the contribution margin per product? (CM = Unit Price - Unit Cost)\n",
    "> 3. What were the sales revenue, profit and profit margin per category and product?\n",
    "> 4. Who were the most frequent customers?\n",
    "> 5. Who were the most profitable customers?"
   ]
  },
  {
   "cell_type": "markdown",
   "id": "graphic-scroll",
   "metadata": {},
   "source": [
    "## Summary and References\n",
    "\n",
    "The following topics are covered in this tutorial:\n",
    "\n",
    "- Downloading and installing Tableau (Public, Desktop & Web)\n",
    "- Connecting Tableau to local files and remote data sources\n",
    "- Setting up data source (tables & relationships) for analysis\n",
    "- Creating interactive visualizations to answer questions about data\n",
    "- Creating interactive dashboard of interconnected visualizations\n",
    "- Publishing, viewing and sharing your dashboards online\n",
    "\n",
    "\n",
    "Check out these resources to learn more:\n",
    "\n",
    "- https://www.tableau.com/learn/training/\n",
    "- https://help.tableau.com/current/pro/desktop/en-us/gettingstarted_overview.htm\n",
    "- https://public.tableau.com/gallery\n"
   ]
  },
  {
   "cell_type": "code",
   "execution_count": 1,
   "id": "quality-alabama",
   "metadata": {},
   "outputs": [],
   "source": [
    "import jovian"
   ]
  },
  {
   "cell_type": "code",
   "execution_count": null,
   "id": "passing-cocktail",
   "metadata": {},
   "outputs": [
    {
     "data": {
      "application/javascript": [
       "window.require && require([\"base/js/namespace\"],function(Jupyter){Jupyter.notebook.save_checkpoint()})"
      ],
      "text/plain": [
       "<IPython.core.display.Javascript object>"
      ]
     },
     "metadata": {},
     "output_type": "display_data"
    }
   ],
   "source": [
    "jovian.commit()"
   ]
  },
  {
   "cell_type": "code",
   "execution_count": null,
   "id": "dense-specialist",
   "metadata": {},
   "outputs": [],
   "source": []
  }
 ],
 "metadata": {
  "kernelspec": {
   "display_name": "Python 3",
   "language": "python",
   "name": "python3"
  },
  "language_info": {
   "codemirror_mode": {
    "name": "ipython",
    "version": 3
   },
   "file_extension": ".py",
   "mimetype": "text/x-python",
   "name": "python",
   "nbconvert_exporter": "python",
   "pygments_lexer": "ipython3",
   "version": "3.6.13"
  }
 },
 "nbformat": 4,
 "nbformat_minor": 5
}
