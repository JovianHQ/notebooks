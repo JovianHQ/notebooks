{
 "cells": [
  {
   "cell_type": "markdown",
   "id": "c37d2cc7",
   "metadata": {},
   "source": [
    "# Window Functions in SQL\n",
    "\n",
    "![](https://i.imgur.com/63oIWPU.png)"
   ]
  },
  {
   "cell_type": "markdown",
   "id": "9198b74c",
   "metadata": {},
   "source": [
    "The following topics are covered in this tutorial:\n",
    "\n",
    "- Aggregation vs Window Functions\n",
    "- Database & system setup\n",
    "- Problem solving approach\n",
    "- Window function basics\n",
    "- Aggregation, Ranking & Value functions\n",
    "- Advanced windowing "
   ]
  },
  {
   "cell_type": "markdown",
   "id": "d6576a40",
   "metadata": {},
   "source": [
    "Window functions in SQL are used to partition rows of a table into multiple \"windows\" to perform separate computation for each window that returns a new value for each row of the table.\n",
    "\n",
    "Windowing is a powerful and flexible feature of SQL which allows to perform many different kinds of operations & analysis which are not possible otherwise. \n"
   ]
  },
  {
   "cell_type": "markdown",
   "id": "2a2c3b77",
   "metadata": {},
   "source": [
    "## Aggregation vs Window Functions\n",
    "\n",
    "\n",
    "![](https://i.imgur.com/Z5RNWdC.png)\n",
    "\n",
    "Unlike grouping and aggregation functions, window functions do not combine input rows in to a single output row. Instead, each input row is retained in the output and a new value is added in each row which is computed using data from all the rows in the window. "
   ]
  },
  {
   "cell_type": "markdown",
   "id": "f9b29f01",
   "metadata": {},
   "source": [
    "## Database & System Setup\n"
   ]
  },
  {
   "cell_type": "markdown",
   "id": "20db6a3c",
   "metadata": {},
   "source": [
    "### Database Setup\n",
    "\n",
    "\n",
    "In this tutorial, we'll use the [Classic Models database](https://www.mysqltutorial.org/mysql-sample-database.aspx) from [the previous tutorial](https://jovian.ai/aakashns/relational-databases-and-sql). To set up the database locally with sample data:\n",
    "\n",
    "1. Download this [SQL file](https://raw.githubusercontent.com/harsha547/ClassicModels-Database-Queries/master/database.sql)\n",
    "2. In MySQL Workbench, click \"File\" > \"Open SQL Script\" to open the script;\n",
    "3. Execute the script to create and populate the database. \n",
    "\n",
    "Once executed, you should be able to view and browse tables in the \"Schema\" section of the sidebar. If you face an error, make sure you have MySQL server running. \n",
    "\n",
    "> Classic Models Inc. is a distributor of small scale models of cars, motorcycles, planes, ships trains etc. Products manufactured by Classic Models are sold in toy & gift stores around the world. Here's a small sample of their products ([source](https://tinytown.in/)):\n",
    ">\n",
    "> ![](https://i.imgur.com/9F9WbbA.png)\n",
    "> \n",
    "> Classic Models has offices around the world with dozens of employees. The customers of Classic Models are typically toy/gift stores. Each customer has a designated sales representative (an employee of Classic Models) they interact with. Customers typically place orders requesting several products in different quantities and pay for multiple orders at once via cheques.\n",
    "\n",
    "\n",
    "Here's the Entity Relationship Diagram (ERD) for the database:\n",
    "\n",
    "![](https://i.imgur.com/H6q1dAb.png)\n",
    "\n"
   ]
  },
  {
   "cell_type": "markdown",
   "id": "3ae73b3c",
   "metadata": {},
   "source": [
    "### Setting up MySQL Server Locally\n",
    "\n",
    "We'll use the MySQL server for this tutorial. Make sure to install the following on your computer:\n",
    "\n",
    "- MySQL server: https://dev.mysql.com/downloads/mysql/\n",
    "- MySQL workbench: https://dev.mysql.com/downloads/workbench/\n",
    "\n",
    "You'll be asked to set a root password while installing MySQL server.\n",
    "\n",
    "To interact with the MySQL server via the terminal use:\n",
    "\n",
    "```\n",
    "$ /usr/local/mysql/bin/mysql -u root -p\n",
    "```\n",
    "\n",
    "Depending on your operating system the path `/usr/local/mysql/bin/mysql` may be different. If you're unable to connect, make sure that the server is running and you're using the correct password. \n",
    "\n",
    "Alternatively, the [MySQL Workbench](https://www.mysql.com/products/workbench/) can be used to interact with a MySQL server (local or remote) via a GUI.\n",
    "\n",
    "<img src=\"https://i.imgur.com/LaHS8x0.png\" width=\"640\" style=\"border-radius:4px\">\n"
   ]
  },
  {
   "cell_type": "markdown",
   "id": "cf9b8f59",
   "metadata": {},
   "source": [
    "## Problem Solving Approach\n",
    "\n",
    "In this lesson, we will be working with some problems that you will come across in coding challenges, interviews or at work when working with databases. \n",
    "\n",
    "How do we approach these problems?\n",
    "- <b>Understand inputs & outputs</b>: Look at the problem description and identify what goes in (inputs) and what comes out (outputs) i.e. which tables are required and what columns are wanted in the output\n",
    "- <b>Articulate solution verbally</b>: When working with databases or in an interview, before writing the SQL code, one should talk through the problem and explain the approach about how to build the solution \n",
    "- <b>Construct the query step-by-step</b>: The SQL query should always by constructed step-by-step, get the intermediate results and continue improving the query "
   ]
  },
  {
   "cell_type": "markdown",
   "id": "aa6f458a",
   "metadata": {},
   "source": [
    "## Window Function Basics\n",
    "\n",
    "Let us start with the basics of window function!"
   ]
  },
  {
   "cell_type": "markdown",
   "id": "9394858d",
   "metadata": {},
   "source": [
    "### Window Function Syntax\n",
    "\n",
    "A window function is usually a part of `SELECT` statement and is used to add a new column into the result of the `SELECT` statement\n",
    "\n",
    "\n",
    "```\n",
    "\n",
    "<function type>  OVER (\n",
    "\n",
    "PARTITION BY clause\n",
    "\n",
    "ORDER BY clause\n",
    "\n",
    "ROWS or RANGE clause\n",
    "\n",
    ") AS column_name\n",
    "\n",
    "\n",
    "```\n",
    "\n",
    "- Window function clause typically starts with type of the function or computation to be applied. For example, each window can compute `SUM`, `COUNT`, `AVG`, `RANK`, `ROW_NUMBER` etc.\n",
    "- Function or computation is followed by the `OVER` keyword, an indication to SQL to create windows. \n",
    "- Inside`()`, an optional `PARTITION BY` clause can be provided to decide how the rows of the table are partitioned into windows.\n",
    "- An optional `ORDER BY` clause can also be provided to determine the order of the rows in the each window.\n",
    "- A `ROWS` or `RANGE` clause can be added to limit the size of the window frame while performing computation for each row.\n",
    "- Finally, `AS` keyword can be used to give a name to the resulting column or an alias in the output.\n"
   ]
  },
  {
   "cell_type": "markdown",
   "id": "a8726b8f",
   "metadata": {},
   "source": [
    "### Window Function Execution\n",
    "\n",
    "`OVER`, `PARTITION BY` and `ORDER BY` are the three main clauses that form the backbone of a window function.\n"
   ]
  },
  {
   "cell_type": "markdown",
   "id": "b23a8432",
   "metadata": {},
   "source": [
    "#### <b> Overview of Window Function Execution 📙</b>\n",
    "\n",
    "\n",
    "![](https://i.imgur.com/WCZO9Sc.png)\n"
   ]
  },
  {
   "cell_type": "markdown",
   "id": "365d7b1c",
   "metadata": {},
   "source": [
    "#### ```OVER``` Clause\n",
    "   - It is the core of any window function. \n",
    "   - It is required in every window function.\n",
    "   - It is preceded by function type like `ROW_NUMBER`, `MAX`, `MIN` etc.\n",
    "   - It is followed by selection clauses like `PARTITION BY`, `ORDER BY`, `ROWS BETWEEN` etc."
   ]
  },
  {
   "cell_type": "markdown",
   "id": "c7c22149",
   "metadata": {},
   "source": [
    "> <b> QUESTION </b>: Show the list of all the payments made by the customers of Classic Models, and assign a unique payment number to each payment.\n",
    "\n",
    "\n",
    "```\n",
    "SELECT *,\n",
    "  ROW_NUMBER()\n",
    "  OVER ()\n",
    "  AS paymentNumber\n",
    "FROM payments;\n",
    "\n",
    "```"
   ]
  },
  {
   "cell_type": "markdown",
   "id": "c5849f10",
   "metadata": {},
   "source": [
    "#### ```PARTITION BY``` Clause \n",
    "   - It is optional but commonly used clause in window functions.\n",
    "   - It is used to group rows in windows.\n",
    "   - It is followed by column name."
   ]
  },
  {
   "cell_type": "markdown",
   "id": "b21aa989",
   "metadata": {},
   "source": [
    "> <b> QUESTION </b>: Express each payment made by a customer as a fraction of the total payment made by the customer. Show the checkNumber, customerNumber, paymentDate, amount & fractionOfTotal.\n",
    "\n",
    "```\n",
    "\n",
    "SELECT *, amount/ (\n",
    "   SUM(amount) OVER\n",
    "   (PARTITION BY customerNumber)\n",
    " ) AS fractionOfTotal\n",
    "FROM payments;\n",
    "\n",
    "```"
   ]
  },
  {
   "cell_type": "markdown",
   "id": "4c951815",
   "metadata": {},
   "source": [
    "#### ```ORDER BY```  Clause\n",
    "  - This clause determines the order of rows within a window.\n",
    "  - It is also followed by column name.\n",
    "  - It is used to limit frame to current row."
   ]
  },
  {
   "cell_type": "markdown",
   "id": "95a3116a",
   "metadata": {},
   "source": [
    "> <b> QUESTION </b>: Show the running total payments received by Classic Models, starting from the oldest to the newest. Show the checkNumber, customerNumber, paymentDate, amount & runningTotal.\n",
    "\n",
    "\n",
    "```\n",
    "\n",
    "SELECT *,\n",
    "  SUM(amount) OVER\n",
    "  (ORDER BY paymentDate)\n",
    "  AS runningTotal\n",
    "FROM payments;\n",
    "\n",
    "```\n",
    "\n",
    "![](https://i.imgur.com/PqMJGlJ.png)"
   ]
  },
  {
   "cell_type": "markdown",
   "id": "4130220f",
   "metadata": {},
   "source": [
    "## Aggregation, Ranking & Value Functions\n",
    "\n",
    "Once it is decided on how to create the windows, it's time to decide what type of function needs to be applied to each window. The different types of functions that can be applied to each window are aggregation, ranking & value functions. \n"
   ]
  },
  {
   "cell_type": "markdown",
   "id": "e4cf25ab",
   "metadata": {},
   "source": [
    "### Aggregation Functions\n",
    "\n",
    "The functions are the usual aggregation functions that we have in SQL."
   ]
  },
  {
   "cell_type": "markdown",
   "id": "e22f4d3e",
   "metadata": {},
   "source": [
    "#### ```SUM, AVG```"
   ]
  },
  {
   "cell_type": "markdown",
   "id": "1fc29f30",
   "metadata": {},
   "source": [
    "> <b> QUESTION </b>: Show the running total and running average of payments by each customer, starting from the oldest to the newest. Also output the customerNumber, and paymentDate.\n",
    "\n",
    "```\n",
    "\n",
    "SELECT *, SUM(amount) OVER (\n",
    "  PARTITION BY customerNumber\n",
    "  ORDER BY paymentDate)\n",
    "AS customerRunningTotal,\n",
    "AVG(amount) OVER (\n",
    "  PARTITION BY customerNumber\n",
    "  ORDER BY paymentDate)\n",
    "AS customerRunningAverage FROM payments;\n",
    "\n",
    "```"
   ]
  },
  {
   "cell_type": "markdown",
   "id": "46a6a8b6",
   "metadata": {},
   "source": [
    "#### ```COUNT```"
   ]
  },
  {
   "cell_type": "markdown",
   "id": "cd9083e9",
   "metadata": {},
   "source": [
    "> <b> QUESTION </b>: Determine the team size for each employee i.e. how many people report to the same manager as the employee. Output employeeNumber, lastName, firstName, reportsTo, and teamSize.\n",
    "\n",
    "```\n",
    "\n",
    "SELECT employeeNumber, lastName,\n",
    "  firstName, reportsTo,\n",
    "  COUNT(*) OVER\n",
    "  (PARTITION BY reportsTo)\n",
    "  AS teamSize\n",
    "FROM employees;\n",
    "\n",
    "```"
   ]
  },
  {
   "cell_type": "markdown",
   "id": "b7020375",
   "metadata": {},
   "source": [
    "#### `MAX` & `MIN`"
   ]
  },
  {
   "cell_type": "markdown",
   "id": "bfacb4dd",
   "metadata": {},
   "source": [
    "> <b> QUESTION </b>: For each order, show the order number, total order amount and the difference between the order amount and the maximum/minimum order amount for the customer.\n",
    "\n",
    "```\n",
    "\n",
    "SELECT orderNumber, customerNumber, orderValue,\n",
    "  ROUND(MAX(orderValue) OVER (PARTITION BY customerNumber) \n",
    "    - orderValue, 2) AS belowMax,\n",
    "  ROUND(orderValue - MIN(orderValue)\n",
    "    OVER (PARTITION BY customerNumber), 2) AS aboveMin\n",
    "FROM (SELECT o.orderNumber, o.customerNumber,\n",
    "    SUM(od.quantityOrdered * od.priceEach) AS orderValue\n",
    " FROM orders o JOIN orderdetails od\n",
    " ON o.orderNumber = od.orderNumber\n",
    " GROUP BY o.orderNumber, o.customerNumber)\n",
    "AS ordersWithValues;\n",
    "\n",
    "```"
   ]
  },
  {
   "cell_type": "markdown",
   "id": "d9f5accf",
   "metadata": {},
   "source": [
    "### Ranking Functions\n",
    "\n",
    "Ranking functions take the rows within a window and give them ranks or numbers."
   ]
  },
  {
   "cell_type": "markdown",
   "id": "08f5d1ec",
   "metadata": {},
   "source": [
    "#### ```ROW_NUMBER```\n",
    "   - `ROW_NUMBER` function is a SQL ranking function that assigns a sequential rank number to each new record in a partition. When `ROW_NUMBER` function detects two identical values in the same partition, it assigns different rank numbers to both."
   ]
  },
  {
   "cell_type": "markdown",
   "id": "d8586b56",
   "metadata": {},
   "source": [
    "> <b> QUESTION </b>: Provide serial numbers for the customers of each sales representative, sorted by dates of each customer's earliest orders.\n",
    "\n",
    "```\n",
    "SELECT customerNumber, customerName,\n",
    "  salesRepEmployeeNumber, earliestOrder,\n",
    "  ROW_NUMBER() OVER (PARTITION BY salesRepEmployeeNumber \n",
    "  ORDER BY earliestOrder) AS serialNumber\n",
    "FROM (SELECT c.customerNumber, c.customerName,\n",
    "   c.salesRepEmployeeNumver,\n",
    "   MIN(o.orderDate) AS earliestOrder\n",
    "  FROM customers c JOIN order o\n",
    "  ON c.customerNumber = o.customerNumber\n",
    "  WHERE c.salesRepEmployeeNumber IS NOT NULL\n",
    "  GROUP BY c.customerNumber, c.salesRepEmployeeNumber \n",
    ") AS co;\n",
    "\n",
    "```"
   ]
  },
  {
   "cell_type": "markdown",
   "id": "20aaca9d",
   "metadata": {},
   "source": [
    "#### `RANK`, `DENSE_RANK` & `CUME_DIST`\n",
    "\n",
    "   - `RANK()`: The `RANK()` window function calculates a rank for each row within a partition of a table. If the rows in a partition have the same values, same rank is assigned to them.\n",
    "\n",
    "   - `DENSE_RANK()`: The `DENSE_RANK()` window function assigns a rank to each row within a partition of a table. Unlike the `RANK()` function, the `DENSE_RANK()` function returns consecutive rank values. If the rows in a partition have the same values, same rank is assigned to them.\n",
    "\n",
    "   - `CUME_DIST()`: The `CUME_DIST()` window function calculates the cumulative distribution of value within a set of values."
   ]
  },
  {
   "cell_type": "markdown",
   "id": "e93fae78",
   "metadata": {},
   "source": [
    "> <b> QUESTION </b>: Rank the offices of Classic Models based on the number of employees (lowest first). Compare the outputs of `ROW_NUMBER`,`RANK`, `DENSE_RANK` and `CUME_DIST`.\n",
    "\n",
    "```\n",
    "\n",
    "SELECT *, \n",
    "ROW_NUMBER() OVER (ORDER BY employeeCount) AS rowNumber,\n",
    "RANK () OVER (ORDER BY employeeCount) AS rankNumber,\n",
    "DENSE_RANK() OVER (ORDER BY employeeCount) AS\n",
    "denseRankNumber,\n",
    "CUME_DIST() OVER (ORDER BY employeeCount) AS cumeDist\n",
    "FROM (SELECT o.officeCode, city, COUNT(*) AS employeeCountt\n",
    "  FROM offices o JOIN employees e\n",
    "  ON o.officeCode = e.officeCode\n",
    "  GROUP BY o.officeCode, city) AS oe;\n",
    "  \n",
    "```"
   ]
  },
  {
   "cell_type": "markdown",
   "id": "495da7f3",
   "metadata": {},
   "source": [
    "#### `NTILE` & `PERCENT_RANK`\n",
    "   - These functions are used to compute percentiles and quartiles.\n",
    "   - `NTILE`: It puts rows into buckets in a window.\n",
    "   - `PERCENT_RANK`: The `PERCENT_RANK` function calculates the relative rank percentile of each row.\n",
    "   - These functions are typically used with `ORDER BY` clause.\n",
    "   "
   ]
  },
  {
   "cell_type": "markdown",
   "id": "a9aded06",
   "metadata": {},
   "source": [
    "> <b> QUESTION </b>: Compute the quartile and percentile for each payment made by a customer. Output checkNumber, paymentDate, amount, customerNumber, quartile, and percentRank.\n",
    "\n",
    "```\n",
    "\n",
    "SELECT *, \n",
    "  NTILE(4) OVER\n",
    "  (PARTITION BY customerNumber\n",
    "  ORDER BY amount) AS quartile,\n",
    "  PERCENT_RANK() OVER\n",
    "  (PARTITION BY customerNumber\n",
    "  ORDER BY amount) AS percentRank\n",
    "RANK payments;\n",
    "\n",
    "```"
   ]
  },
  {
   "cell_type": "markdown",
   "id": "51dbcd86",
   "metadata": {},
   "source": [
    "### Value Functions\n",
    "\n",
    "Value functions pick specific values from within a window and add them into the new column. These are useful when you need to compare the value in a certain row/column with a value in the previous row/column, generally in time series data. "
   ]
  },
  {
   "cell_type": "markdown",
   "id": "c53b5679",
   "metadata": {},
   "source": [
    "#### ```LAG```\n",
    "\n",
    "   - It used to access previous row data "
   ]
  },
  {
   "cell_type": "markdown",
   "id": "960bf4a0",
   "metadata": {},
   "source": [
    "> <b> QUESTION </b>: For each order, show the number of days elapsed since the last order places by the same customer. Output OrderNumber, orderDate, customerNumber, and daysSinceLastOrder.\n",
    "\n",
    "```\n",
    "\n",
    "SELECT orderNumber, orderDate,\n",
    "customerNumber,\n",
    "  DATEDIFF(orderDate, \n",
    "    LAG(orderDate, 1) OVER\n",
    "    (PARTITION BY customerNumber\n",
    "    ORDER BY orderDate)\n",
    "  ) AS daysSinceLastOrder\n",
    "FROM orders;\n",
    "\n",
    "```"
   ]
  },
  {
   "cell_type": "markdown",
   "id": "7774abb4",
   "metadata": {},
   "source": [
    "#### ```LEAD```\n",
    "   - It is used to access next row data"
   ]
  },
  {
   "cell_type": "markdown",
   "id": "ec43e9af",
   "metadata": {},
   "source": [
    "> <b> QUESTION </b>: List order of each customer sorted by order amount (highest to lowest) and display the difference in amount between each order and the next highest order by the same customer.\n",
    "\n",
    "```\n",
    "\n",
    "SELECT *,\n",
    "  orderValue - LEAD(orderValue, 1) OVER\n",
    "  (PARTITION BY customerNumber\n",
    "  ORDER BY orderValue DESC) AS higherBy\n",
    "FROM (SELECT o.orderNumber, o.orderDate, o.customerNumber,\n",
    "    SUM(od.quantityOrdered * od.priceEach) AS orderValue\n",
    "  FROM orders o JOIN orderdetails od\n",
    "  ON o.orderNumber = od.orderNumber\n",
    "  GROUP BY o.orderNumber, o.customerNumber\n",
    "AS ordersWithValues;\n",
    "\n",
    "```"
   ]
  },
  {
   "cell_type": "markdown",
   "id": "bfff90dd",
   "metadata": {},
   "source": [
    "#### ```FIRST_VALUE, LAST_VALUE, NTH_VALUE```\n",
    "   - It is used to access first, last or nth row from the partitioned window"
   ]
  },
  {
   "cell_type": "markdown",
   "id": "2de7d858",
   "metadata": {},
   "source": [
    "> <b> QUESTION </b>: For each payment made by a customer compute the difference between the payment amount and the first/second/last payment made by the customer.\n",
    "\n",
    "```\n",
    "SELECT *,\n",
    "  ROUND(amount - FIRST_VALUE(amount)\n",
    "    OVER customersWindow, 2) AS diffFirst,\n",
    "  ROUND(amount - LAST_VALUE(amount)\n",
    "    OVER customersWindow, 2) AS diffLast,\n",
    "  ROUND(amount - NTH_VALUE(amount,2)\n",
    "    OVER customersWindow, 2) AS diffSecond\n",
    "FROM payments WINDOW customersWindow AS\n",
    "  (PARTITION BY customerNumber ORDER BY amount DESC)\n",
    "  ROWS BETWEEN UNBOUNDED PRECEDING\n",
    "  AND UNBOUNDED FOLLOWING);\n",
    "\n",
    "```"
   ]
  },
  {
   "cell_type": "markdown",
   "id": "704e9d9b",
   "metadata": {},
   "source": [
    "## Advanced Windowing \n",
    "\n",
    "Some advanced topics in windowing are:"
   ]
  },
  {
   "cell_type": "markdown",
   "id": "9eb64d0b",
   "metadata": {},
   "source": [
    "- `ROWS BETWEEN` and `RANGE BETWEEN` clauses that are required to select the frame of rows that get used in a particular computation.\n",
    "- `WINDOW` Alias clause is required to create an alias when using the same window function in different queries."
   ]
  },
  {
   "cell_type": "markdown",
   "id": "f63c9854",
   "metadata": {},
   "source": [
    "### ```ROWS BETWEEN``` Clause\n",
    "\n",
    "   - It is used to specify the window frame in relation to the current row\n",
    "   - <b>Syntax</b>: `ROWS BETWEEN lower_bound AND upper_bound`\n",
    "   - There are five options for bounds:\n",
    "        - `UNBOUNDED PRECEDING`: All rows before the current row\n",
    "        - `n PRECEDING`: <i>n</i> rows <b>before</b> the current row\n",
    "        - `CURRENT ROW`: Just the current row\n",
    "        - `n FOLLOWING`: <i>n</i> rows <b>after</b> the current row\n",
    "        - `UNBOUNDED FOLLOWING`: All rows after the current row\n",
    "          \n",
    "![](https://i.imgur.com/PqMJGlJ.png)\n",
    "\n",
    "\n",
    "5 Practical Examples of Using `ROWS BETWEEN` in SQL: https://learnsql.com/blog/sql-window-functions-rows-clause/"
   ]
  },
  {
   "cell_type": "markdown",
   "id": "83d150b6",
   "metadata": {},
   "source": [
    "### ```RANGE BETWEEN``` Clause\n",
    "\n",
    "   - `ROWS BETWEEN` allows you to specify the number of rows before and after you want to pick where are `RANGE BETWEEN` works with the actual value.\n",
    "   \n",
    "![](https://i.imgur.com/5nFOOoT.png)\n",
    "\n",
    "\n",
    "5 Practical Examples of Using `RANGE BETWEEN` in SQL: https://learnsql.com/blog/range-clause/"
   ]
  },
  {
   "cell_type": "markdown",
   "id": "b53fc0a7",
   "metadata": {},
   "source": [
    "### ```WINDOW``` Alias\n",
    "\n",
    "   - If you need to use the same partitioning logic multiple times then you can just give the logic a name and use it for the window functions over the same division \n",
    "\n",
    "```\n",
    "SELECT start_terminal,\n",
    "       duration_seconds,\n",
    "       NTILE(4) OVER ntile_window AS quartile, \n",
    "       NTILE(5) OVER ntile_window AS quintile,\n",
    "       NTILE(100) OVER ntile_window AS percentile\n",
    "  FROM tutorial.dc_bikeshare_ql_2012\n",
    " WHERE start_time < '2012-02-08'\n",
    "WINDOW ntile_window AS\n",
    "         (PARTITION BY start_terminal ORDER BY duration_seconds)\n",
    " ORDER BY start_terminal, duration_seconds\n",
    " \n",
    "```"
   ]
  },
  {
   "cell_type": "markdown",
   "id": "99cdd37e",
   "metadata": {},
   "source": [
    "## Practice Problems"
   ]
  },
  {
   "cell_type": "markdown",
   "id": "1fd781c6",
   "metadata": {},
   "source": [
    "### Amazon Interview Question\n",
    "\n",
    "> <b> QUESTION </b>: Find the percentage of the total spend a customer spent on each order on Amazon. Output the customer's name, order details, and the percentage of thier total spend for each order transaction rounded to the nearest whole number.\n",
    "\n",
    "![](https://i.imgur.com/2rtvgfZ.png)\n",
    "\n",
    "```\n",
    "\n",
    "SELECT c.name, o.order_details, \n",
    "  ROUND(o,order_cost * 100 /\n",
    "    CAST(SUM(o.order_cost) OVER\n",
    "    (PARTITION BY c.name) AS FLOAT)\n",
    "  ) AS percentage_of_total\n",
    "FROM orders o JOIN customers c\n",
    "  ON c.id = o.customer_id\n",
    "ORDER BY c.name;\n",
    "\n",
    "```"
   ]
  },
  {
   "cell_type": "markdown",
   "id": "d64b9032",
   "metadata": {},
   "source": [
    "### Uber Interview Question\n",
    "\n",
    "> <b> QUESTION </b>: You’re given a dataset of uber rides with the traveling distance (‘distance_to_travel’) and cost (‘monetary_cost’) for each ride. For each date, find the difference between the distance-per-dollar for that date and the average distance-per-dollar for that year-month. Distance-per-dollar is defined as the distance traveled divided by the cost of the ride.\n",
    "\n",
    "*The output should include the year-month (YYYY-MM) and the absolute average difference in distance-per-dollar (Absolute value to be rounded to the 2nd decimal). \n",
    "You should also count both success and failed request_status as the distance and cost values are populated for all ride requests. Also, assume that all dates are unique in the dataset. Order your results by earliest request date first.*\n",
    "\n",
    "![](https://i.imgur.com/UoNHsF1.png)"
   ]
  },
  {
   "cell_type": "markdown",
   "id": "3966518b",
   "metadata": {},
   "source": [
    "### Airbnb Interview Question\n",
    "\n",
    "> <b> QUESTION </b>: Estimate the growth of Airbnb each year using the number of hosts registered as the growth metric. \n",
    "\n",
    "` rate_of_growth = 100 * (hosts_registered_this_year - hosts_registered_last_year) / hosts_registered_last_year `\n",
    "\n",
    "*Output the year, number of hosts in the current year, number of hosts in the previous year, and the rate of growth. Round the rate of growth to the nearest percent and order the result in the ascending order based on the year.\n",
    "Assume that the dataset consists only of unique hosts, meaning there are no duplicate hosts listed.*\n",
    "\n",
    "\n",
    "![](https://i.imgur.com/PSvxbkG.png)"
   ]
  },
  {
   "cell_type": "markdown",
   "id": "5eadec83",
   "metadata": {},
   "source": [
    "### Twitter Interview Question\n",
    "\n",
    "> <b> QUESTION </b>: Find the top three unique salaries for each department. Output the department name and the top 3 unique salaries by each department. Order your results alphabetically by department and then by highest salary to lowest.\n",
    "\n",
    "![](https://i.imgur.com/rrBRmi2.png)"
   ]
  },
  {
   "cell_type": "markdown",
   "id": "29231a9f",
   "metadata": {},
   "source": [
    "### Netflix Interview Question\n",
    "\n",
    "> <b> QUESTION </b>: ABC Corp is a mid-sized insurer in the US and in the recent past their fraudulent claims have increased significantly for their personal auto insurance portfolio. They have developed a ML based predictive model to identify propensity of fraudulent claims. Now, they assign highly experienced claim adjusters for top 5 percentile of claims identified by the model. Your objective is to identify the top 5 percentile of claims from each state. \n",
    "\n",
    "*Your output should be policy number, state, claim cost, and fraud score.*\n",
    "\n",
    "![](https://i.imgur.com/sG64cfJ.png) "
   ]
  },
  {
   "cell_type": "markdown",
   "id": "f3fa0208",
   "metadata": {},
   "source": [
    "## Summary\n",
    "\n",
    "The following topics are covered in this tutorial:\n",
    "\n",
    "- Aggregation vs Window Functions\n",
    "- Database & system setup\n",
    "- Problem solving approach\n",
    "- Window function basics\n",
    "- Aggregation, Ranking & Value functions\n",
    "- Advanced windowing \n",
    "- Practice problems"
   ]
  },
  {
   "cell_type": "markdown",
   "id": "8d2ad95c",
   "metadata": {},
   "source": [
    "## Resources \n",
    "\n",
    "Check out the following resources to learn more:\n",
    "\n",
    "- ClassicModels Database: https://www.mysqltutorial.org/mysql-sample-database.aspx\n",
    "- LearnSQL.com: https://learnsql.com/\n",
    "- Mode SQL Tutorial: https://mode.com/sql-tutorial/\n",
    "- StrataScratch: https://www.stratascratch.com/\n",
    "- 5 Practical Examples of Using `ROWS BETWEEN` in SQL: https://learnsql.com/blog/sql-window-functions-rows-clause/\n",
    "- 5 Practical Examples of Using `RANGE BETWEEN` in SQL: https://learnsql.com/blog/range-clause/\n",
    "- Solutions for the interview questions: https://www.youtube.com/watch?v=XBE09l-UYTE\n",
    "- Relational databases book: https://db-book.com"
   ]
  },
  {
   "cell_type": "markdown",
   "id": "6deadd66",
   "metadata": {},
   "source": [
    "## Revision Questions\n",
    "\n",
    "1. What are window functions in SQL?\n",
    "2. What are the uses of window functions in SQL?\n",
    "3. How are window functions different from aggregate functions?\n",
    "4. How to approach a SQL problem?\n",
    "5. What is window function syntax?\n",
    "6. What are the three main clauses in a window function?\n",
    "7. What is the working of `OVER` clause?\n",
    "8. What is the working of `PARTITION BY` clause?\n",
    "9. What is the working of `ORDER BY` clause?\n",
    "10. What are the different functions that can be applied to windows created by partitioning? \n",
    "11. What are the different aggregate functions?\n",
    "12. What are the different ranking functions?\n",
    "13. What are the different value functions?\n",
    "14. What is the working of `ROW_NUMBER()` function?\n",
    "15. What is the working of `RANK()` function?\n",
    "16. What is the working of `DENSE_RANK()` function?\n",
    "17. What is the working of `CUME_DIST()` function?\n",
    "18. What is the working of `ROW_NUMBER()` function?\n",
    "19. What is the working of `NTILE()` function?\n",
    "20. What is the working of `PERCENT_RANK()` function?\n",
    "21. What is the working of `LAG()` function?\n",
    "22. What is the working of `LEAD()` function?\n",
    "23. What is the working of `NTH_VALUE()` function?\n",
    "24. What are the different advanced windowing functions?\n",
    "25. What is the working of `ROWS BETWEEN` clause?\n",
    "26. What is the working of `RANGE BETWEEN` clause?\n",
    "27. What is `WINDOWS` Alias?"
   ]
  },
  {
   "cell_type": "markdown",
   "id": "ae769923",
   "metadata": {},
   "source": [
    "## Solutions for Interview Questions"
   ]
  },
  {
   "cell_type": "markdown",
   "id": "17d6a63c",
   "metadata": {},
   "source": [
    "### Uber Interview Question\n",
    "\n",
    "> <b> QUESTION </b>: You’re given a dataset of uber rides with the traveling distance (‘distance_to_travel’) and cost (‘monetary_cost’) for each ride. For each date, find the difference between the distance-per-dollar for that date and the average distance-per-dollar for that year-month. Distance-per-dollar is defined as the distance traveled divided by the cost of the ride.\n",
    "\n",
    "*The output should include the year-month (YYYY-MM) and the absolute average difference in distance-per-dollar (Absolute value to be rounded to the 2nd decimal). \n",
    "You should also count both success and failed request_status as the distance and cost values are populated for all ride requests. Also, assume that all dates are unique in the dataset. Order your results by earliest request date first.*\n",
    "\n",
    "![](https://i.imgur.com/UoNHsF1.png)\n",
    "\n",
    "\n",
    "\n",
    "```\n",
    "\n",
    "SELECT b.request_date,\n",
    "       ROUND(ABS(b.dist_to_cost-b.avg_dist_to_cost)::DECIMAL, 2) as mean_deviation\n",
    "FROM \n",
    "  (SELECT a.request_date,\n",
    "          a.dist_to_cost,\n",
    "          AVG(a.dist_to_cost) OVER(PARTITION BY a.request_mnth) AS avg_dist_to_cost\n",
    "   FROM uber_request_logs) a\n",
    " ORDER BY request_date) b\n",
    "GROUP BY b.request_date,\n",
    "         b.dist_to_cost,\n",
    "         b.avg_dist_to_cost\n",
    "ORDER BY b.request_date\n",
    "\n",
    "```"
   ]
  },
  {
   "cell_type": "markdown",
   "id": "bd5039ec",
   "metadata": {},
   "source": [
    "### Airbnb Interview Question\n",
    "\n",
    "> <b> QUESTION </b>: Estimate the growth of Airbnb each year using the number of hosts registered as the growth metric. \n",
    "\n",
    "` rate_of_growth = 100 * (hosts_registered_this_year - hosts_registered_last_year) / hosts_registered_last_year `\n",
    "\n",
    "*Output the year, number of hosts in the current year, number of hosts in the previous year, and the rate of growth. Round the rate of growth to the nearest percent and order the result in the ascending order based on the year.\n",
    "Assume that the dataset consists only of unique hosts, meaning there are no duplicate hosts listed.*\n",
    "\n",
    "\n",
    "![](https://i.imgur.com/PSvxbkG.png)\n",
    "\n",
    "\n",
    "```\n",
    "SELECT year,\n",
    "       current_year_host,\n",
    "       prev_year_host,\n",
    "       ROUND((current_year_host - prev_year_host)/(CAST(prev_year_host AS numeric)))*100) estimated_growth\n",
    "FROM\n",
    "  (SELECT year,\n",
    "          current_year_host,\n",
    "          LAG(current_year_host, 1) OVER (ORDER BY year) AS prev_year_host\n",
    "  FROM \n",
    "    (SELECT EXTRACT(year\n",
    "                    FROM host_since::date) AS year,\n",
    "            COUNT(id) current_year_host\n",
    "    FROM airbnb_search_Details\n",
    "    WHERE host_since IS NOT NULL\n",
    "    GROUP BY EXTRACT(year\n",
    "                     FROM host_since::date)\n",
    "    ORDER BY year) t1) t2     \n",
    "```"
   ]
  },
  {
   "cell_type": "markdown",
   "id": "24228d8f",
   "metadata": {},
   "source": [
    "### Twitter Interview Question\n",
    "\n",
    "> <b> QUESTION </b>: Find the top three unique salaries for each department. Output the department name and the top 3 unique salaries by each department. Order your results alphabetically by department and then by highest salary to lowest.\n",
    "\n",
    "![](https://i.imgur.com/rrBRmi2.png)\n",
    "\n",
    "```\n",
    "\n",
    "SELECT department, \n",
    "       salary,\n",
    "       rank_id\n",
    "FROM \n",
    "  (SELECT department,\n",
    "          salary,\n",
    "          RANK() OVER (PARTITION BY a.department\n",
    "                             ORDER BY a.salary DESC) AS rank_id\n",
    "  FROM\n",
    "    (SELECT department, salary\n",
    "     FROM twitter_employee\n",
    "     GROUP BY department, salary\n",
    "     ORDER BY department, salary) a\n",
    "  ORDER BY department,\n",
    "           salary DESC)b\n",
    "WHERE rank_id<4 \n",
    "\n",
    "```"
   ]
  },
  {
   "cell_type": "markdown",
   "id": "ea21cb7c",
   "metadata": {},
   "source": [
    "### Netflix Interview Question\n",
    "\n",
    "> <b> QUESTION </b>: ABC Corp is a mid-sized insurer in the US and in the recent past their fraudulent claims have increased significantly for their personal auto insurance portfolio. They have developed a ML based predictive model to identify propensity of fraudulent claims. Now, they assign highly experienced claim adjusters for top 5 percentile of claims identified by the model. Your objective is to identify the top 5 percentile of claims from each state. \n",
    "\n",
    "*Your output should be policy number, state, claim cost, and fraud score.*\n",
    "\n",
    "![](https://i.imgur.com/sG64cfJ.png) \n",
    "\n",
    "\n",
    "```\n",
    "SELECT policy_num,\n",
    "       state,\n",
    "       claim_cost,\n",
    "       fraud_score\n",
    "FROM\n",
    "  (SELECT *,\n",
    "          NTILE(100) OVER(PARTITION BY state\n",
    "                          ORDER BY fraud_score DESC) AS percentile \n",
    "  FROM fraud_score) a\n",
    "WHERE percentile <=5\n",
    "\n",
    "```"
   ]
  }
 ],
 "metadata": {
  "kernelspec": {
   "display_name": "Python 3 (ipykernel)",
   "language": "python",
   "name": "python3"
  },
  "language_info": {
   "codemirror_mode": {
    "name": "ipython",
    "version": 3
   },
   "file_extension": ".py",
   "mimetype": "text/x-python",
   "name": "python",
   "nbconvert_exporter": "python",
   "pygments_lexer": "ipython3",
   "version": "3.8.8"
  }
 },
 "nbformat": 4,
 "nbformat_minor": 5
}
