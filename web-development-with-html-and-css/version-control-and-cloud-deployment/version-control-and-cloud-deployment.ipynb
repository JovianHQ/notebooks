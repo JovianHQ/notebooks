{
 "cells": [
  {
   "cell_type": "markdown",
   "metadata": {},
   "source": [
    "# Version Control and Cloud Deployment\n",
    "\n",
    "![](https://i.imgur.com/9AjwiTS.png)\n",
    "\n",
    "\n"
   ]
  },
  {
   "cell_type": "markdown",
   "metadata": {},
   "source": [
    "Understanding Git and GitHub for version control is crucial for any developer or team working on software projects. These tools allow you to track changes, collaborate with others, and deploy your applications easily and efficiently to cloud platforms. By mastering these skills, you can streamline your workflow and improve the quality and reliability of your code."
   ]
  },
  {
   "cell_type": "markdown",
   "metadata": {},
   "source": [
    "The following topics are covered in this tutorial:\n",
    "\n",
    "- Using [GitHub](https://github.com) repositories to store and share your project source code \n",
    "\n",
    "\n",
    "- Using GitHub Codespaces in conjunction with VS Code for web development\n",
    "\n",
    "\n",
    "- Developing and previewing changes to a website using GitHub Codespaces\n",
    "\n",
    "\n",
    "- Creating Git commits and pushing changes back to a GitHub repository\n",
    "\n",
    "\n",
    "- Deploying a website to the cloud directly from GitHub using [Vercel](https://vercel.com)\n",
    "\n",
    "\n",
    "- Understanding the GitHub collaboration workflow with branches & pull requests\n",
    "\n",
    "\n",
    "- Installing & using Git locally on your computer and connecting with GitHub\n",
    "\n",
    "The best way to learn these skills is to follow along step-by-step and type out all the code yourself. Git can often by confusing at first, owing to a large number of technical terms, but it starts to feel natural with a bit of practice. This tutorial assumes [knowledge of HTML & CSS](https://jovian.com/learn/web-development-with-html-and-css/lesson/advanced-html-and-css)."
   ]
  },
  {
   "cell_type": "markdown",
   "metadata": {},
   "source": [
    "## Problem Statement\n",
    "\n",
    "We'll explore abovementioned topics by attempting to solve this problem statement:\n",
    "\n",
    "> **PROBLEM**: Improve the development workflow for the [Jovian Careers website](https://jovian-job.static.app/) developed in the [previous tutorial](https://jovian.com/aakashns/advanced-html-and-css) as follows:\n",
    "> - Set up a [GitHub](https://github.com) repository to host the source code and facilitate collaborative development\n",
    "> - Deploy the website directly from GitHub to the cloud using Vercel: https://vercel.com\n",
    "> - Add appropriate meta tags to ensure that the page previews properly when shared as a link.\n"
   ]
  },
  {
   "cell_type": "markdown",
   "metadata": {},
   "source": [
    "The code for this tutorial can be found here:\n",
    "\n",
    "\n",
    "- Starter code: https://www.dropbox.com/s/5f9yt4tq68ea8pt/my-second-web-page.zip?dl=1\n",
    "\n",
    "\n",
    "- Completed code: https://github.com/sydney-jovian/jovian-careers-site\n",
    "\n",
    "\n",
    "- Finished site: https://jovian-careers-site.vercel.app/\n",
    "\n"
   ]
  },
  {
   "cell_type": "markdown",
   "metadata": {},
   "source": [
    "## Getting Started with GitHub\n",
    "\n",
    "<img src=\"https://i.imgur.com/aHtHaDE.png\" width=\"420\">"
   ]
  },
  {
   "cell_type": "markdown",
   "metadata": {},
   "source": [
    "Git is a popular version control system that enables developers to track changes to their codebase and collaborate with others, while GitHub is a web-based platform that provides hosting for Git repositories and tools for collaboration."
   ]
  },
  {
   "cell_type": "markdown",
   "metadata": {},
   "source": [
    "### Version Control"
   ]
  },
  {
   "cell_type": "markdown",
   "metadata": {},
   "source": [
    "Version control is a system that tracks changes made to a file or a set of files over time.\n",
    "\n",
    "\n",
    "- It enables developers to **keep track of different versions** of their code\n",
    "\n",
    "\n",
    "- It enables developers **collaborate with others**, and manage changes to their codebase.\n",
    "\n",
    "\n",
    "- It also allows developers to **revert to previous versions** of their code if needed.\n",
    "\n",
    "\n",
    "- It enables developers to **work on different versions** of their code simultaneously without the risk of losing any changes.\n",
    "\n",
    "\n",
    "- It helps developers detect and resolve conflicts that may arise when different team members work on the same code.\n",
    "\n",
    "While there are many version control systems ([SVN](https://subversion.apache.org/), [Git](https://git-scm.com/), [Mercurial](https://www.mercurial-scm.org/), etc.), Git is the most popular and widely used system for version control.\n",
    "\n"
   ]
  },
  {
   "cell_type": "markdown",
   "metadata": {},
   "source": [
    "> **EXERCISE**: Learn about the differences between various version control systems here: https://medium.com/@derya.cortuk/version-control-software-comparison-git-mercurial-cvs-svn-21b2a71226e4"
   ]
  },
  {
   "cell_type": "markdown",
   "metadata": {},
   "source": [
    "### Introduction to Git"
   ]
  },
  {
   "cell_type": "markdown",
   "metadata": {},
   "source": [
    "<img src=\"https://i.imgur.com/SJPXJrq.png\" width=\"480\">\n",
    "\n",
    "Git is a **distributed** version control system, which means that each developer has a complete copy of the codebase on their local machine.\n",
    "\n",
    "- It uses a **branching** system that allows developers to work on different **versions** of their code simultaneously without affecting the main codebase.\n",
    "\n",
    "\n",
    "- Developers can make changes to their local copy of the codebase and then **push** those changes to a **central repository** that stores all the different versions of the code.\n",
    "\n",
    "\n",
    "- Git also allows developers to **merge** changes made by different team members and **resolve conflicts** that may arise during the merging process.\n",
    "\n",
    "\n",
    "- Git has the ability to **track changes** made to individual lines of code and the ability to **roll back** to any previous version of the codebase.\n",
    "\n",
    "We'll explore all these concepts in much more detail over the course of this tutorial. Git is often accessed via a [command line tool](https://git-scm.com/book/en/v2/Git-Basics-Getting-a-Git-Repository) or a desktop application."
   ]
  },
  {
   "cell_type": "markdown",
   "metadata": {},
   "source": [
    "### GitHub - What & Why\n",
    "\n",
    "<img src=\"https://i.imgur.com/Fa0ojvS.png\" width=\"420\">\n",
    "\n",
    "\n",
    "[GitHub](https://github.com) is a web-based platform that provides hosting for Git repositories and a range of collaboration tools for developers. Other similar platform include [GitLab](https://gitlab.com) and [BitBucket](https://bitbucket.org/).\n",
    "\n",
    "While Git is a powerful version control system, GitHub offers several additional features that make it an indispensable tool for software development teams.\n",
    "\n",
    "- GitHub provides a **web-based interface** for managing Git repositories, making it easy to view and manage code changes, track issues, and collaborate with others.\n",
    "\n",
    "\n",
    "- GitHub offers a range of **collaboration tools**, such as pull requests, code reviews, and team management features, that help teams work together more efficiently.\n",
    "\n",
    "\n",
    "- GitHub provides hosting for both public and private repositories, making it an ideal platform for **open-source projects** and proprietary software development alike.\n",
    "\n",
    "\n",
    "- GitHub has a vast **community of developers**, making it an excellent platform for discovering and contributing to open-source projects.\n",
    "\n",
    "\n",
    "- GitHub provides **integration with other tools**, such as continuous integration and deployment platforms, project management tools, and more, making it easy to build a complete software development workflow.\n",
    "\n",
    "\n"
   ]
  },
  {
   "cell_type": "markdown",
   "metadata": {},
   "source": [
    "> **EXERCISE**: Learn more about the differences between GitHub, GitLab, and BitBucket here: https://blog.mergify.com/github-vs-gitlab-vs-bitbucket/"
   ]
  },
  {
   "cell_type": "markdown",
   "metadata": {},
   "source": [
    "### Creating a Project Repository\n",
    "\n",
    "<img src=\"https://i.imgur.com/GNtDaEa.png\" width=\"420\">\n",
    "\n",
    "Follow these steps to sign up and create a new repository on GitHub:\n",
    "\n",
    "\n",
    "1. Go to GitHub.com and click on the \"Sign up\" button in the top right corner. Follow the prompts to create a new account by entering your email address, a username, and a password.\n",
    "\n",
    "\n",
    "2. After creating your account, you'll be taken to the GitHub dashboard. To create a new repository, click on the \"New\" button located on the left side of the dashboard.\n",
    "\n",
    "\n",
    "3. On the \"Create a new repository\" page, enter a name for your repository, a brief description, and choose whether you want it to be public or private. If you choose a private repository, you'll need to have a paid GitHub account.\n",
    "\n",
    "\n",
    "4. Once you've filled out the necessary information, click on the \"Create repository\" button to create your new repository.\n",
    "\n",
    "\n",
    "5. Now that you've created your repository, you'll be taken to the repository page, where you can add files, make changes to your code, and collaborate with others.\n",
    "\n",
    "\n",
    "Congratulations! You've successfully signed up for GitHub and created a new repository.\n",
    "\n",
    "From here, you can start adding files, making changes to your code, and collaborating with others to build your software project. You can do either by downloading the repository to your computer of using a cloud-based development platform like GitHub Codespaces.\n",
    "\n",
    "\n",
    "\n"
   ]
  },
  {
   "cell_type": "markdown",
   "metadata": {},
   "source": [
    "> **EXERCISE**: Learn more about the `README.md`, `.gitignore` and `LICENSE` files here:\n",
    "> \n",
    "> 1. `README.md` - https://docs.github.com/en/repositories/managing-your-repositorys-settings-and-features/customizing-your-repository/about-readmes\n",
    ">\n",
    ">\n",
    "> 2. `.gitignore` - https://docs.github.com/en/get-started/getting-started-with-git/ignoring-files\n",
    ">\n",
    ">\n",
    "> 3. `LICENSE` - https://docs.github.com/en/repositories/managing-your-repositorys-settings-and-features/customizing-your-repository/licensing-a-repository\n"
   ]
  },
  {
   "cell_type": "markdown",
   "metadata": {},
   "source": [
    "## Using GitHub Codespaces \n",
    "\n",
    "<img src=\"https://i.imgur.com/wnj2MlY.png\" width=\"480\">\n",
    "\n",
    "\n",
    "[GitHub Codespaces](https://github.com/features/codespaces) is a cloud-based development environment that allows you to write, test, and debug code directly in your browser. \n",
    "\n",
    "- It allows you to **quickly set up** a development environment without needing to install any software locally.\n",
    "\n",
    "\n",
    "- It provides a **consistent development environment** across different machines and operating systems.\n",
    "\n",
    "\n",
    "- It makes it easy to **collaborate on code** with other developers in real-time, using shared Codespaces.\n",
    "\n",
    "\n",
    "- It lets you **work from anywhere**, as long as you have access to a browser and an internet connection.\n",
    "\n",
    "\n",
    "You can think of it as a personal computer on the cloud, that you can access from anywhere. Learn more about codespaces here: https://docs.github.com/en/codespaces"
   ]
  },
  {
   "cell_type": "markdown",
   "metadata": {},
   "source": [
    "### Starting a Codespace\n",
    "\n",
    "<img src=\"https://i.imgur.com/hjleBqj.png\" width=\"420\">\n",
    "\n",
    "Here are the steps to open up a repository in Codespaces and launch it within VS Code:\n",
    "\n",
    "\n",
    "1. Navigate to the GitHub repository that you want to work on.\n",
    "\n",
    "\n",
    "2. Click on the \"Code\" button, and select \"Open with Codespaces\" from the dropdown menu.\n",
    "\n",
    "\n",
    "3. Select the Codespace configuration that you want to use, or create a new one if necessary.\n",
    "\n",
    "\n",
    "4. Wait for the Codespace to be created, which may take a few minutes, if done for the first time.\n",
    "\n",
    "\n",
    "5. Once the Codespace is ready, click on the \"Open in Visual Studio Code\" button \n",
    "\n",
    "You can either work with the browser-based version of VS Code, or you can connect remotely to the codespace using your installation of VS Code.\n",
    "\n",
    "Learn more about using VS Code with Codespaces here: https://code.visualstudio.com/docs/remote/codespaces\n",
    "\n",
    "**NOTE**: GitHub provides 120 hours of free codespaces usage for personal accounts. Learn more about the [pricing here](https://docs.github.com/en/billing/managing-billing-for-github-codespaces/about-billing-for-github-codespaces)."
   ]
  },
  {
   "cell_type": "markdown",
   "metadata": {},
   "source": [
    "### Web Development with Codespaces\n",
    "\n",
    "\n",
    "<img src=\"https://i.imgur.com/QAxF3W2.png\" width=\"480\">\n",
    "\n",
    "\n",
    "1. Within the repository root, create an `src` folder. This is where we will store our HTML, CSS, and image files.\n",
    "\n",
    "\n",
    "2. Add new files like `index.html` or `styles.css` within the `src` folder and add code within them.\n",
    "\n",
    "\n",
    "3. You can also upload existing files or images by right-clicking within the `src` folder and selecting \"Upload\".\n",
    "\n",
    "\n",
    "4. To preview the files, you will need to install an extension called **Live Server**. This extension allows you to see your web pages as you develop them.\n",
    "\n",
    "\n",
    "5. To install the **Live Server** extension, click on the extensions icon on the left-hand side of the Codespaces window.\n",
    "\n",
    "\n",
    "6. In the search bar, search for \"Live Server\" and click on the extension when it appears.\n",
    "\n",
    "\n",
    "7. Click on the \"Install\" button to install the Live Server extension.\n",
    "\n",
    "\n",
    "8. Once the Live Server extension is installed, open your `index.html` file in the Codespaces editor.\n",
    "\n",
    "\n",
    "9. Click on the \"Go Live\" button located in the bottom right corner of the editor window.\n",
    "\n",
    "\n",
    "This will open your `index.html` file in a new browser tab, allowing you to preview your web page. Any time you make changes to the file, the page will be reloaded automatically.\n",
    "\n",
    "<img src=\"https://i.imgur.com/4dlg4Xo.png\" width=\"480\">\n",
    "\n",
    "\n",
    "\n"
   ]
  },
  {
   "cell_type": "markdown",
   "metadata": {},
   "source": [
    "> **EXERCISE**: Check out the following resources:\n",
    ">\n",
    "> 1. VS Code extensions: https://code.visualstudio.com/docs/editor/extension-marketplace \n",
    "> \n",
    "> \n",
    "> 2. Documentation for the \"Live Server\" extension: https://marketplace.visualstudio.com/items?itemName=ritwickdey.LiveServer\n",
    "> \n",
    "> \n",
    "> 3. Commonly used extensions here: https://blog.bitsrc.io/top-10-visual-studio-code-extensions-for-web-developers-5bd6a76bdf5f"
   ]
  },
  {
   "cell_type": "markdown",
   "metadata": {},
   "source": [
    "## Updating a GitHub Repository\n",
    "\n",
    "<img src=\"https://i.imgur.com/BnPJyEi.png\" width=\"320\">\n",
    "\n",
    "Once you've made changes to your code, it's important to update your GitHub repository to keep your code up-to-date and available to others.\n",
    "\n",
    "1. Open the inbuilt command line terminal within the browser-based VS Code window.\n",
    "\n",
    "\n",
    "2. (Optional) Review the changes you have made using the `git status` and `git diff` commands.\n",
    "\n",
    "\n",
    "2. Stage the changes you made by typing `git add <file-name>` or `git add .` to stage all changes.\n",
    "    \n",
    "    \n",
    "3. Commit the changes you staged by typing `git commit -m \"commit message\"`. Make sure your commit message is descriptive and explains what changes you made.\n",
    "\n",
    "\n",
    "4. (Optional) You can verify that the change was made successfully using the `git log` command.\n",
    "\n",
    "\n",
    "5. Push your changes to your GitHub repository by typing `git push`. This will update your repository with your latest changes.\n",
    "\n",
    "<img src=\"https://i.imgur.com/x0hKiGd.png\" width=\"320\">\n",
    "\n",
    "\n",
    "Once you have successfully pushed your changes, go to your GitHub repository to confirm that your changes have been updated.\n",
    "\n",
    "You can also perform all of the above actions without typing any Git commands, using VS Code's user interface. Learn more here: https://code.visualstudio.com/docs/sourcecontrol/overview\n",
    "    "
   ]
  },
  {
   "cell_type": "markdown",
   "metadata": {},
   "source": [
    "> **EXERCISE**: Make some changes to the web page, then stage, commit, and push them to GitHub using the VS Code's user interface. Make some more changes, then stage, commit, and push them using terminal commands. Practice till you become familiar with the workflow."
   ]
  },
  {
   "cell_type": "markdown",
   "metadata": {},
   "source": [
    "> **EXERCISE**: Look up documentation or tutorials to understand the following `git` commands:\n",
    "> \n",
    "> - `git status`\n",
    "> - `git diff`\n",
    "> - `git add`\n",
    "> - `git commit`\n",
    "> - `git log`\n",
    "> - `git push`\n",
    ">\n",
    "> What options to each of the above commands support? *Hint*: Use the [`git help`](https://git-scm.com/docs/git-help) command."
   ]
  },
  {
   "cell_type": "markdown",
   "metadata": {},
   "source": [
    "## Cloud Deployment with Vercel\n",
    "\n",
    "Vercel is a cloud platform that makes it easy to deploy websites and applications. It offers seamless integration with GitHub and other version control systems, allowing developers to deploy their projects directly from their repositories.\n",
    "\n",
    "\n",
    "\n",
    "<img src=\"https://i.imgur.com/ZDm8YUZ.png\" width=\"360\">"
   ]
  },
  {
   "cell_type": "markdown",
   "metadata": {},
   "source": [
    "Follow these steps to deploy your website to Vercel:\n",
    "\n",
    "\n",
    "1. Go to https://vercel.com and sign up for an account. You can use your GitHub account to sign up or create a new account using your email address.\n",
    "\n",
    "\n",
    "2. Once you have signed up, you will be taken to the Vercel dashboard. From here, you can start a new project by clicking the \"New Project\" button.\n",
    "\n",
    "\n",
    "3. Choose the repository you want to deploy. Vercel supports GitHub, GitLab, and Bitbucket repositories. Select the repository and the branch you want to deploy.\n",
    "\n",
    "\n",
    "4. Select the project root folder (in this case, it is the `src` folder) and click \"Deploy\" to deploy the project.\n",
    "\n",
    "<img src=\"https://i.imgur.com/YfJzpFD.png\" width=\"360\">\n",
    "\n",
    "Vercel will build your project and deploy it to its cloud platform. You can view your site by clicking the \"Visit\" button next to your project name. Example site: https://jovian-careers-site.vercel.app/\n",
    "\n",
    "Whenever you push new changes to your repository, Vercel will automatically build and deploy your project to its cloud platform. This means that your site will always be up-to-date with your latest changes.\n"
   ]
  },
  {
   "cell_type": "markdown",
   "metadata": {},
   "source": [
    "> **EXERCISE**: Make some more changes to the site on Codespaces, and push them to GitHub. Observe whether an automatic deployment is triggered on the Vercel dashboard and how long it takes for the new site to be deployed."
   ]
  },
  {
   "cell_type": "markdown",
   "metadata": {},
   "source": [
    "## HTML Meta Tags"
   ]
  },
  {
   "cell_type": "markdown",
   "metadata": {},
   "source": [
    "Let's now improve the link preview of our site using HTML meta tags. HTML meta tags provide information about a web page to search engines and browsers. They are placed in the <head> section of an HTML document and are not displayed on the page itself.\n",
    "    \n",
    "\n",
    "<img src=\"https://i.imgur.com/zdD8YhA.png\" width=\"480\">\n",
    "    \n",
    "    \n",
    "<img src=\"https://i.imgur.com/D9RZEuc.png\" width=\"480\">\n",
    "    \n",
    "    \n",
    "You can use the site https://metatags.io or https://heymeta.com to check how a link preview when shared on various sites."
   ]
  },
  {
   "cell_type": "markdown",
   "metadata": {},
   "source": [
    "### Common Meta Tags"
   ]
  },
  {
   "cell_type": "markdown",
   "metadata": {},
   "source": [
    "There are several types of meta tags, each with its own purpose. Here are some common meta tags:\n",
    "\n",
    "\n",
    "- `meta charset`: This tag specifies the character encoding used in the document, which affects how text is displayed. The recommended value is UTF-8.\n",
    "\n",
    "\n",
    "- `meta name=\"viewport\"`: This tag specifies the viewport properties for responsive design. It includes attributes such as width, initial-scale, and minimum-scale.\n",
    "\n",
    "\n",
    "- `meta name=\"description\"`: This tag provides a brief summary of the page content and is used by search engines when displaying search results.\n",
    "\n",
    "\n",
    "- `meta name=\"keywords\"`: This tag specifies keywords related to the page content and was used in the past by search engines for indexing, but is now less important.\n",
    "\n",
    "\n",
    "- `meta name=\"author\"`: This tag specifies the author of the page.\n",
    "\n",
    "\n",
    "- `meta name=\"robots\"`: This tag specifies instructions for web crawlers, such as whether to index or follow links on the page."
   ]
  },
  {
   "cell_type": "markdown",
   "metadata": {},
   "source": [
    "### Platform-Specific Meta Tags\n",
    "\n",
    "There are also platform-specific tags for social media sites such as Facebook and Twitter. These tags are used to provide more information about the page when it is shared on these platforms. Here are some examples:\n",
    "\n",
    "\n",
    "- `meta property=\"og:title\"`: This tag specifies the title of the page when it is shared on Facebook and several other sites.\n",
    "\n",
    "\n",
    "- `meta property=\"og:description\"`: This tag specifies the description of the page when it is shared on Facebook and several other sites.\n",
    "\n",
    "\n",
    "- `meta property=\"og:image\"`: This tag is used to specify the image that should be displayed when a page is shared on social media platforms, such as Facebook or Twitter.\n",
    "\n",
    "\n",
    "- `meta name=\"twitter:title\"`: This tag specifies the title of the page when it is shared on Twitter.\n",
    "\n",
    "\n",
    "- `meta name=\"twitter:description\"`: This tag specifies the description of the page when it is shared on Twitter.\n",
    "\n",
    "\n",
    "- `meta name=\"twitter:card\"`: This is used to display the preview of the web page as a card on Twitter."
   ]
  },
  {
   "cell_type": "markdown",
   "metadata": {},
   "source": [
    "### Title and Favicon\n",
    "\n",
    "The `title` tag and favicon `link` tag are also related to meta tags. \n",
    "\n",
    "- The `title` tag specifies the title of the page, which appears in the browser's title bar and is also used by search engines. \n",
    "\n",
    "\n",
    "- The favicon `link` tag specifies the icon that appears in the browser's address bar and bookmark menu."
   ]
  },
  {
   "cell_type": "markdown",
   "metadata": {},
   "source": [
    "We can thus add the following proper meta tags to our web page: \n",
    "\n",
    "\n",
    "```html\n",
    "\n",
    "<head>\n",
    "    <meta charset=\"UTF-8\">\n",
    "    <meta name=\"viewport\" content=\"width=device-width, initial-scale=1.0\">\n",
    "    <meta name=\"description\" content=\"Learn about job openings at Jovian and submit your application now\">\n",
    "    <meta name=\"keywords\" content=\"data science, software development, jobs\">\n",
    "    <meta name=\"author\" content=\"Jovian\">\n",
    "    <meta name=\"robots\" content=\"index, follow\">\n",
    "    <meta property=\"og:title\" content=\"Jovian Careers\">\n",
    "    <meta property=\"og:description\" content=\"Learn about job openings at Jovian and submit your application now\">\n",
    "    <meta property=\"og:image\" content=\"/jovian_meta.png\">\n",
    "    <meta name=\"twitter:title\" content=\"Jovian Careers\">\n",
    "    <meta name=\"twitter:description\" content=\"Learn about job openings at Jovian and submit your application now\">\n",
    "    <meta name=\"twitter:image\" content=\"/jovian_meta.png\">\n",
    "    <title>Jovian Careers</title>\n",
    "    <link rel=\"icon\" href=\"/jovian_favicon.png\" type=\"image/x-icon\">\n",
    "\n",
    "\n",
    "```\n",
    "\n",
    "\n",
    "Use this image as the favicon: https://i.imgur.com/GMMpgdl.png\n",
    "\n",
    "\n",
    "Use this image as the meta image: https://i.imgur.com/KBD7w8k.png\n",
    "\n",
    "\n",
    "Learn more about HTML meta tags here: https://developer.mozilla.org/en-US/docs/Web/HTML/Element/meta/name"
   ]
  },
  {
   "cell_type": "code",
   "execution_count": null,
   "metadata": {},
   "outputs": [],
   "source": []
  },
  {
   "cell_type": "code",
   "execution_count": null,
   "metadata": {},
   "outputs": [],
   "source": []
  },
  {
   "cell_type": "raw",
   "metadata": {},
   "source": []
  },
  {
   "cell_type": "markdown",
   "metadata": {},
   "source": [
    "> **EXERCISE**: Change the values of some of the above meta tags, and verify that they lead to a change in link previews on various platforms when deployed to Vercel."
   ]
  },
  {
   "cell_type": "markdown",
   "metadata": {},
   "source": [
    "## GitHub Collaboration Workflow\n",
    "\n",
    "<img src=\"https://i.imgur.com/8VnwlUw.png\" width=\"360\">\n",
    "\n",
    "GitHub development involves a collaborative workflow for managing code changes, which includes branching, creating pull requests, getting them reviewed, and merging them. Here are the steps involved in this workflow:\n",
    "\n",
    "1. **Branch**: Create a new branch for your changes, so you can work on them independently\n",
    "\n",
    "\n",
    "2. **Pull Request**: Create a pull request to propose your changes to the rest of the team.\n",
    "\n",
    "\n",
    "3. **Review & Iteration**: Your pull request will be reviewed by other developers, who can add comments. You can make changes accordingly and update your pull request.\n",
    "\n",
    "\n",
    "4. **Merge**: Once your pull request has been approved, you merge your changes into the main codebase.\n",
    "\n",
    "The main codebase is then updated with your changes, and the new code is available to everyone on the team.\n",
    "\n"
   ]
  },
  {
   "cell_type": "markdown",
   "metadata": {},
   "source": [
    "### Branching with Git\n",
    "\n",
    "<img src=\"https://i.imgur.com/DiUhY7g.png\" width=\"360\">\n",
    "\n",
    "Branching is a fundamental feature of Git and GitHub that allows developers to work on multiple versions of the same codebase simultaneously. \n",
    "\n",
    "\n",
    "\n",
    "A branch is essentially a separate copy of the codebase that you can make changes to without affecting the main branch (usually called \"master\" or \"main\"). \n",
    "\n",
    "\n",
    "Here's how you can create branches within GitHub Codespaces: \n",
    "\n",
    "\n",
    "1. Click on the \"Terminal\" icon in the left-hand menu to open the integrated terminal.\n",
    "\n",
    "\n",
    "2. To create a new branch, type the following command in the terminal: `git branch <branch-name>`. Replace `<branch-name>` with the name of the new branch you want to create.\n",
    "\n",
    "\n",
    "3. To switch to the new branch, type the following command in the terminal: `git checkout <branch-name>`.\n",
    "\n",
    "\n",
    "4. You can now make changes to the codebase on the new branch, using the integrated editor in Codespaces.\n",
    "\n",
    "\n",
    "5. Once you have made your changes, commit them to Git using the following commands:\n",
    "\n",
    "```bash\n",
    "git add .\n",
    "git commit -m \"Your commit message\"\n",
    "```\n",
    "\n",
    "6. To push your changes to the remote repository, use the following command:\n",
    "\n",
    "```bash\n",
    "git push -u origin <branch-name>\n",
    "```\n",
    "\n",
    "This will create a new branch on the remote repository and push your changes to it. You can also do this directly from VS Code's user interface as explained here: https://code.visualstudio.com/docs/sourcecontrol/overview\n"
   ]
  },
  {
   "cell_type": "markdown",
   "metadata": {},
   "source": [
    "> **EXERCISE**: Look up the documentation or tutorials for the following `git` commands:\n",
    "> \n",
    "> - `git branch`\n",
    "> - `git checkout`\n",
    "> - `git fetch`\n",
    "> \n",
    "> Practice using them by creating various branches, and try to achieve the same result using VS Code's user interface."
   ]
  },
  {
   "cell_type": "markdown",
   "metadata": {},
   "source": [
    "### Creating Pull Requests\n",
    "\n",
    "<img src=\"https://i.imgur.com/E3baHXg.png\" width=\"420\">\n",
    "\n",
    "Pull requests are a way to propose changes to the codebase and get them reviewed by other developers. Here are the steps to create a new pull request in GitHub:\n",
    "\n",
    "\n",
    "1. Create a new branch as described in the previous section.\n",
    "\n",
    "\n",
    "2. Make your changes to the codebase on the new branch & push it to GitHub.\n",
    "\n",
    "\n",
    "3. Click on the \"Pull requests\" tab at the top of the repository page.\n",
    "\n",
    "\n",
    "4. Click on \"New pull request\" to create a new pull request.\n",
    "\n",
    "\n",
    "4. Select the base branch (the branch you want to merge into), and the compare branch (the branch containing your changes).\n",
    "\n",
    "\n",
    "5. Add a title and description for your pull request, and click on \"Create pull request\".\n",
    "\n",
    "\n",
    "Your pull request will now be visible to other developers who can review & approve the changes. Once approved, the changes can be merged into the main branch.\n",
    "\n",
    "**NOTE**: Vercel automatically creates a \"preview\" deployment for your pull request to preview the changes on a temporary site without affecting the main site. Learn more about it here: https://vercel.com/docs/concepts/deployments/preview-deployments"
   ]
  },
  {
   "cell_type": "markdown",
   "metadata": {},
   "source": [
    "> **EXERCISE**: Create multiple pull requests with minor changes, and verify that each PR gets its own independent preview deployment on Vercel. Also verify that the main site is not affected till a PR is merged."
   ]
  },
  {
   "cell_type": "markdown",
   "metadata": {},
   "source": [
    "### Keeping Your Branch Up to Date\n",
    "\n",
    "<img src=\"https://i.imgur.com/JVSrB35.png\" width=\"360\">\n",
    "\n",
    "When you are working on a new feature or making changes to your code, it's important to keep your feature branch up to date with the latest changes in the main branch. \n",
    "\n",
    "Follow these steps to keep your branch up to date:\n",
    "\n",
    "1. Check out the main branch: `git checkout main`\n",
    "\n",
    "\n",
    "2. Get latest changes: `git pull`\n",
    "\n",
    "\n",
    "3. Check out your feature branch: `git checkout <feature-branch-name>`\n",
    "\n",
    "\n",
    "4. Merge the main branch changes: `git merge main`\n",
    "\n",
    "\n",
    "5. Push changes to the remote repository: `git push`\n",
    "\n",
    "These steps will ensure that your feature branch is updated with the latest changes from the main branch. "
   ]
  },
  {
   "cell_type": "markdown",
   "metadata": {},
   "source": [
    "> **EXERCISE**: Follow these steps to practice keeping your branch up to date:\n",
    ">\n",
    "> 1. Create a branch, make some changes to `index.html`, and create a pull request on GitHub (let's call it PR1). \n",
    ">\n",
    ">\n",
    "> 2. Then, create another branch from `main`, make some more changes to `index.html`, and create a second pull request (let's call it PR2).\n",
    ">\n",
    ">\n",
    "> 3. Now, approve and merge PR1 to master, and then update PR2 to incorporate the new changes from master.\n",
    ">\n",
    "> Repeat this process a few times using the command line and using VS Code's user interface."
   ]
  },
  {
   "cell_type": "markdown",
   "metadata": {},
   "source": [
    "### Resolving Merge Conflicts\n",
    "\n",
    "Merge conflicts occur when Git is unable to automatically merge changes from two branches. This can happen when two or more people have made changes to the same file, or when the changes made in one branch conflict with the changes made in another branch.\n",
    "\n",
    "<img src=\"https://i.imgur.com/BCp7wja.png\" width=\"360\">\n",
    "\n"
   ]
  },
  {
   "cell_type": "markdown",
   "metadata": {},
   "source": [
    "Follow these steps to fix a merge conflict in VS Code:\n",
    "\n",
    "\n",
    "1. If there are any merge conflicts, VS Code will display a notification in the bottom right corner of the screen. Click on the notification to open the \"Merge Changes\" panel.\n",
    "\n",
    "\n",
    "2. In the panel, you'll see the conflicting files with the merge conflicts highlighted. You can then click on each file to view and resolve the conflicts.\n",
    "\n",
    "\n",
    "3. To resolve a conflict, you can choose which changes to keep by selecting the correct version from the dropdown menu. You can also manually edit the code to resolve the conflict.\n",
    "\n",
    "\n",
    "4. Once you have resolved all the merge conflicts, save your changes and commit them:\n",
    "\n",
    "\n",
    "```\n",
    "git add .\n",
    "git commit -m \"Resolved merge conflicts\"\n",
    "```\n",
    "\n",
    "The changes can now be safely pushed to the remote repository."
   ]
  },
  {
   "cell_type": "markdown",
   "metadata": {},
   "source": [
    "> **EXERCISE**: Repeat the previous exercise, but this time update the same line in both PR1 and PR2 to intentionally create a merge conflict and fix it."
   ]
  },
  {
   "cell_type": "markdown",
   "metadata": {},
   "source": [
    "## Using Git Locally (Optional)\n",
    "\n",
    "Apart from using GitHub codespaces, you can also use Git for local development on your computer. Follow this detailed tutorial to learn how you can use Git locally on your computer: https://www.youtube.com/watch?v=8JJ101D3knE"
   ]
  },
  {
   "cell_type": "markdown",
   "metadata": {},
   "source": [
    "### macOS Installation\n",
    "\n",
    "<img src=\"https://i.imgur.com/NH2BnzP.png\" width=\"360\">\n",
    "\n",
    "Git is pre-installed on most macOS versions, but you may need to update it to the latest version or install it if it's not already installed on your system. \n",
    "\n",
    "1. Open the Terminal app on your Mac. You can find it by searching for \"Terminal\" in Spotlight or by navigating to Applications -> Utilities -> Terminal.\n",
    "\n",
    "2. Install Homebrew, a package manager for macOS, by running the following command in the Terminal:\n",
    "\n",
    "```bash\n",
    "/bin/bash -c \"$(curl -fsSL https://raw.githubusercontent.com/Homebrew/install/HEAD/install.sh)\"\n",
    "\n",
    "```\n",
    "\n",
    "3. Once Homebrew is installed, you can use it to install Git by running the following command in the Terminal:\n",
    "\n",
    "```bash\n",
    "brew install git\n",
    "```\n",
    "\n",
    "4. Verify that Git is installed by running the following command in the Terminal:\n",
    "\n",
    "```bash\n",
    "git --version\n",
    "\n",
    "```\n",
    "\n",
    "If Git is installed correctly, you should see the version number displayed in the Terminal.\n",
    "\n",
    "Learn more here: https://git-scm.com/book/en/v2/Getting-Started-Installing-Git#Installing-on-Mac"
   ]
  },
  {
   "cell_type": "markdown",
   "metadata": {},
   "source": [
    "### Windows Installation\n",
    "\n",
    "<img src=\"https://i.imgur.com/3lXYCes.png\" width=\"360\">\n",
    "\n",
    "Installing and using Git on Windows is a straightforward process that involves downloading the Git installer and using the Git command-line interface to manage your repositories.\n",
    "\n",
    "1. Go to the Git website (https://git-scm.com/downloads) and download the Git installer for Windows.\n",
    "\n",
    "\n",
    "2. Run the installer and follow the prompts to install Git on your system. Make sure to select the \"Use Git from the Windows Command Prompt\" option during installation.\n",
    "\n",
    "\n",
    "3. Once Git is installed, open the Git Bash terminal by searching for \"Git Bash\" in the Windows search bar.\n",
    "\n",
    "Open the Git Bash terminal on your Windows machine, navigate to a desired folder, and start executing git commands.\n",
    "\n",
    "Learn more here: https://git-scm.com/book/en/v2/Getting-Started-Installing-Git#Installing-on-Windows\n",
    "\n",
    "Also see: https://gitforwindows.org/"
   ]
  },
  {
   "cell_type": "markdown",
   "metadata": {},
   "source": [
    "### Linux Installation\n",
    "\n",
    "<img src=\"https://i.imgur.com/NL8d9B4.png\" width=\"360\">\n",
    "\n",
    "Most Linux distributions come with Git pre-installed, but you may need to update it to the latest version if it's not already installed on your system.\n",
    "\n",
    "1. Open a terminal window on your Linux machine.\n",
    "\n",
    "\n",
    "2. Install Git by running the following command (on Ubuntu/Debian):\n",
    "\n",
    "```bash\n",
    "sudo apt-get update\n",
    "sudo apt-get install git\n",
    "```\n",
    "\n",
    "3. Verify that Git is installed by running the following command:\n",
    "\n",
    "```bash\n",
    "git --version\n",
    "```\n",
    "\n",
    "If Git is installed correctly, you should see the version number displayed in the terminal.\n"
   ]
  },
  {
   "cell_type": "markdown",
   "metadata": {},
   "source": [
    "### Configuring Git\n",
    "\n",
    "`git config` is a Git command used to set configuration options for your Git installation. These options can be set globally, for a specific repository, or for a specific user."
   ]
  },
  {
   "cell_type": "markdown",
   "metadata": {},
   "source": [
    "To set a global configuration option, use the --global flag followed by the configuration option you want to set, like this:\n",
    "\n",
    "\n",
    "```\n",
    "git config --global user.name \"Your Name\"\n",
    "git config --global user.email \"your.email@example.com\"\n",
    "```\n",
    "\n",
    "These commands set the user.name and user.email configuration options for Git globally, so they will be used by all repositories on your machine.\n",
    "\n",
    "You can also set up repository-specific user name and email."
   ]
  },
  {
   "cell_type": "markdown",
   "metadata": {},
   "source": [
    "### Creating a Repository\n",
    "\n",
    "\n",
    "1. Open a terminal window and navigate to the directory where you want to create your repository.\n",
    "\n",
    "\n",
    "2. Run the following command to initialize a new Git repository:\n",
    "\n",
    "```\n",
    "git init\n",
    "```\n",
    "\n",
    "3. This will create a new directory named \".git\" in your current directory, which contains all the files and information Git needs to manage your repository."
   ]
  },
  {
   "cell_type": "markdown",
   "metadata": {},
   "source": [
    "### Making Commits\n",
    "\n",
    "1. After making changes to your code, run the following command to add your changes to the staging area:\n",
    "\n",
    "```\n",
    "git add <file-name>\n",
    "```\n",
    "\n",
    "2. To commit your changes, run the following command:\n",
    "\n",
    "\n",
    "```\n",
    "git commit -m \"Commit message\"\n",
    "```\n",
    "\n",
    "\n",
    "3. This will create a new commit with your changes, along with a message describing what was changed. You can verify the commit using `git log`."
   ]
  },
  {
   "cell_type": "markdown",
   "metadata": {},
   "source": [
    "### Adding a Remote Respository\n",
    "\n",
    "1. Create a new empty repository on GitHub (without a readme, gitignore, or LICENSE)\n",
    "\n",
    "\n",
    "2. To add a remote repository, run the following command:\n",
    "\n",
    "```\n",
    "git remote add <remote-name> <remote-url>\n",
    "```\n",
    "\n",
    "This will create a new remote with the specified name and URL, which you can now push to."
   ]
  },
  {
   "cell_type": "markdown",
   "metadata": {},
   "source": [
    "### Pushing Changes to GitHub\n",
    "\n",
    "First, follow this guide to create a personal access token for GitHub: https://docs.github.com/en/authentication/keeping-your-account-and-data-secure/creating-a-personal-access-token\n",
    "\n",
    "1. To push your changes to a remote repository, run the following command:\n",
    "\n",
    "```\n",
    "git push <remote-name> <branch-name>\n",
    "```\n",
    "\n",
    "2. This will upload your changes to the specified remote and branch.\n",
    "\n",
    "Note: Before pushing changes to a remote, make sure to pull any changes made by others to avoid conflicts.\n",
    "\n"
   ]
  },
  {
   "cell_type": "markdown",
   "metadata": {},
   "source": [
    "### Pulling Changes from GitHub\n",
    "\n",
    "1. To pull changes from a remote repository, run the following command:\n",
    "\n",
    "```\n",
    "git pull <remote-name> <branch-name>\n",
    "```\n",
    "\n",
    "2. This will pull changes from the specified remote and branch.\n",
    "\n",
    "\n"
   ]
  },
  {
   "cell_type": "markdown",
   "metadata": {},
   "source": [
    "### Cloning an Existing Repository\n",
    "\n",
    "`git clone` is a Git command used to create a local copy of a remote Git repository. When you clone a repository, you create a complete copy of the repository on your local machine, including all of the code, branches, and history of the project.\n",
    "\n",
    "\n",
    "1. Open a terminal window and navigate to the directory where you want to clone the repository.\n",
    "\n",
    "\n",
    "2. Run the following command to clone the repository:\n",
    "\n",
    "```\n",
    "git clone <repository-url>\n",
    "```\n",
    "\n",
    "   Replace `<repository-url>` with the URL of the repository you want to clone. You can find the URL on the repository's GitHub page.\n",
    "\n",
    "\n",
    "3. This will create a new directory with the same name as the repository, and download all the files and history from the repository to your local machine.\n",
    "\n",
    "If the repository is private, you will need to enter your GitHub username and password to authenticate before cloning."
   ]
  },
  {
   "cell_type": "markdown",
   "metadata": {},
   "source": [
    "> **EXERCISE**: Look up documentation or tutorials for the following Git commands:\n",
    "> \n",
    "> - `git config`\n",
    "> - `git init`\n",
    "> - `git clone`\n",
    "> \n",
    "> Experiment with them by installing Git on your computer and creating some repositories"
   ]
  },
  {
   "cell_type": "markdown",
   "metadata": {},
   "source": [
    "## Summary and References"
   ]
  },
  {
   "cell_type": "markdown",
   "metadata": {},
   "source": [
    "The following topics were covered in this tutorial: \n",
    "\n",
    "- Using [GitHub](https://github.com) repositories to store and share your project source code \n",
    "- Using GitHub Codespaces in conjunction with VS Code for web development\n",
    "- Developing and previewing changes to a website using GitHub Codespaces\n",
    "- Creating Git commits and pushing changes back to a GitHub repository\n",
    "- Deploying a website to the cloud directly from GitHub using [Vercel](https://vercel.com)\n",
    "- Understanding the GitHub collaboration workflow with branches & pull requests\n",
    "- Installing & using Git locally on your computer and connecting with GitHub"
   ]
  },
  {
   "cell_type": "markdown",
   "metadata": {},
   "source": [
    "The code for this tutorial can be found here:\n",
    "\n",
    "\n",
    "- Starter code: https://www.dropbox.com/s/5f9yt4tq68ea8pt/my-second-web-page.zip?dl=1\n",
    "\n",
    "\n",
    "- Completed code: https://github.com/sydney-jovian/jovian-careers-site\n",
    "\n",
    "\n",
    "- Finished site: https://jovian-careers-site.vercel.app/\n"
   ]
  },
  {
   "cell_type": "markdown",
   "metadata": {},
   "source": [
    "Git can often be confusing because of the various terms and commands, but it becomes second nature with practice. \n",
    "\n",
    "In particular, try to remember the following common workflows:\n",
    "\n",
    "1. **Feature development workflow**: `git diff` → `git add` → `git commit` → `git push`\n",
    "\n",
    "\n",
    "2. **GitHub collaboration workflow**: Branch → Pull Request → Review & Iteration → Merge\n",
    "\n",
    "\n",
    "3. **Branch update workflow**: Checkout main branch → Pull latest changes → Check out feature branch → Merge master & fix conflicts → Push feature branch"
   ]
  },
  {
   "cell_type": "markdown",
   "metadata": {},
   "source": [
    "Check out the following resources to learn more:\n",
    "\n",
    "- Git documentation: https://git-scm.com/docs\n",
    "- GitHub Learning Lab: https://skills.github.com/\n",
    "- GitKraken Git Guide: https://www.gitkraken.com/learn-git\n",
    "- Atlassian Git tutorials: https://www.atlassian.com/git/tutorials\n",
    "- Pro Git book: https://git-scm.com/book/en/v2\n",
    "- Git cheatsheet by GitLab: https://about.gitlab.com/images/press/git-cheat-sheet.pdf\n",
    "- VS code source control: https://code.visualstudio.com/docs/sourcecontrol/overview\n",
    "- Git tutorial by Mosh: https://www.youtube.com/watch?v=8JJ101D3knE\n",
    "- Vercel documentation: https://vercel.com/docs\n",
    "- Vercel + GitHub Integration: https://vercel.com/docs/git-integrations/vercel-for-github\n",
    "\n"
   ]
  },
  {
   "cell_type": "code",
   "execution_count": null,
   "metadata": {},
   "outputs": [],
   "source": []
  }
 ],
 "metadata": {
  "kernelspec": {
   "display_name": "Python 3 (ipykernel)",
   "language": "python",
   "name": "python3"
  },
  "language_info": {
   "codemirror_mode": {
    "name": "ipython",
    "version": 3
   },
   "file_extension": ".py",
   "mimetype": "text/x-python",
   "name": "python",
   "nbconvert_exporter": "python",
   "pygments_lexer": "ipython3",
   "version": "3.9.7"
  }
 },
 "nbformat": 4,
 "nbformat_minor": 2
}
