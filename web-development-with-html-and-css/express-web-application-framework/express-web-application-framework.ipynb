{
 "cells": [
  {
   "cell_type": "markdown",
   "metadata": {},
   "source": [
    "# Express Web Application Framework\n",
    "\n",
    "![](https://i.imgur.com/lX7MnsY.png)"
   ]
  },
  {
   "cell_type": "markdown",
   "metadata": {},
   "source": [
    "[Express.js](https://expressjs.com/) is a minimalist web application framework for Node.js, streamlining server-side application development with flexible routing, middleware support, and a vibrant ecosystem. Its simplicity, versatility, and unopinionated nature make it a common choice for creating web applications and APIs."
   ]
  },
  {
   "cell_type": "markdown",
   "metadata": {},
   "source": [
    "The following topics are covered in this tutorial: \n",
    "\n",
    "- Creating and running a web server using the Express web framework\n",
    "\n",
    "\n",
    "- Setting up routes and serving HTML pages using EJS templates\n",
    "\n",
    "\n",
    "- Using route parameters to serve different content using the same template\n",
    "\n",
    "\n",
    "- Using HTTP POST method and body parser middleware for for submissions\n",
    "\n",
    "\n",
    "- Sending emails using the nodemailer NPM package and preventing spam \n",
    "\n",
    "\n",
    "The best way to learn these skills is to follow along step-by-step and type out all the code yourself.\n"
   ]
  },
  {
   "cell_type": "markdown",
   "metadata": {},
   "source": [
    "## Problem Statement & Setup\n",
    "\n",
    "\n",
    "We'll explore abovementioned topics by attempting to solve this problem statement:\n",
    "\n",
    "> **PROBLEM**: Improve the [Jovian Careers website](https://jovian-careers-bootstrap.vercel.app/) created in the [previous tutorial](https://jovian.com/aakashns/bootstrap-css-framework) as follows: \n",
    ">\n",
    ">\n",
    "> 1. The main page should only show a list/table of job openings at Jovian\n",
    ">\n",
    ">\n",
    "> 2. Clicking on a job should open a job details page with an application form\n",
    ">\n",
    ">\n",
    "> 3. Submitting the application form should trigger an email and show an acknowledgement page\n",
    ">\n",
    ">\n",
    "> 4. The application should include a human verification captcha to prevent spam\n",
    "\n",
    "\n",
    "Here's what the site created in the previous tutorial looks like:\n",
    "\n",
    "<a href=\"https://jovian-careers-bootstrap.vercel.app/\" target=\"_blank\"><img src=\"https://i.imgur.com/wK959Wc.png\" width=\"480\"></a>"
   ]
  },
  {
   "cell_type": "markdown",
   "metadata": {},
   "source": [
    "### Prerequisites\n",
    "\n",
    "This tutorials assumes knowledge of the following:\n",
    "\n",
    "- HTML and CSS basics\n",
    "\n",
    "\n",
    "- Responsive design with Bootstrap\n",
    "\n",
    "\n",
    "- Version control with [GitHub](https://github.com)\n",
    "\n",
    "\n",
    "- Cloud deployment with [Vercel](https://vercel.com)"
   ]
  },
  {
   "cell_type": "markdown",
   "metadata": {},
   "source": [
    "### Source Code and Result\n",
    "\n",
    "\n",
    "The code for this tutorial can be found here:\n",
    "\n",
    "\n",
    "- Starter code: https://github.com/sydney-jovian/jovian-careers-bootstrap\n",
    "\n",
    "\n",
    "- Starter site: https://jovian-careers-bootstrap.vercel.app/\n",
    "\n",
    "\n",
    "- Finished code: TODO\n",
    "\n",
    "\n",
    "- Finished site: TODO"
   ]
  },
  {
   "cell_type": "markdown",
   "metadata": {},
   "source": [
    "### Creating a GitHub Repository\n",
    "\n",
    "<img src=\"https://i.imgur.com/GNtDaEa.png\" width=\"420\">\n",
    "\n",
    "Follow these steps to sign up and create a new repository on GitHub:\n",
    "\n",
    "\n",
    "1. To create a new repository, click on the \"New\" button located on the left side of the GitHub dashboard.\n",
    "\n",
    "\n",
    "3. On the \"Create a new repository\" page, enter a name for your repository, a brief description, and choose whether you want it to be public or private. \n",
    "\n",
    "\n",
    "4. Pick \"Node\" under the selection for the `.gitignore` template, and pick an appropriate license (e.g. MIT). You can also include a `README.md` file\n",
    "\n",
    "\n",
    "5. Once you've filled out the necessary information, click on the \"Create repository\" button to create your new repository.\n",
    "\n",
    "\n",
    "6. Now that you've created your repository, you'll be taken to the repository page, where you can add files, make changes to your code, and collaborate with others.\n",
    "\n",
    "\n",
    "\n"
   ]
  },
  {
   "cell_type": "markdown",
   "metadata": {},
   "source": [
    "### Development with GitHub Codespaces\n",
    "\n",
    "<img src=\"https://i.imgur.com/hjleBqj.png\" width=\"420\">\n",
    "\n",
    "We can now open up the repository in GitHub Codespaces and launch it within VS Code:\n",
    "\n",
    "\n",
    "1. Click the \"Code\" button on the repository page, and select \"Open with Codespaces\".\n",
    "\n",
    "\n",
    "2. Select the Codespace configuration that you want to use, or create a new one if necessary.\n",
    "\n",
    "\n",
    "3. Wait for the Codespace to be created, which may take a few minutes, if done for the first time.\n",
    "\n",
    "\n",
    "4. Once the Codespace is ready, click on the \"Open in Visual Studio Code\" button \n",
    "\n",
    "\n",
    "5. Install and use the [\"Live Server\" extension](https://marketplace.visualstudio.com/items?itemName=ritwickdey.LiveServer) to preview the site during development\n",
    "\n",
    "You can either work with the browser-based version of VS Code, or you can connect remotely to the codespace using your installation of VS Code. You can push your changes back to the GitHub repository using Git commands on using the VS Code's user interface."
   ]
  },
  {
   "cell_type": "markdown",
   "metadata": {},
   "source": [
    "## Building a Web Server"
   ]
  },
  {
   "cell_type": "markdown",
   "metadata": {},
   "source": [
    "<img src=\"https://i.imgur.com/wbqlpuo.png\" width=\"480\">\n",
    "\n",
    "Web servers are software applications that handle incoming requests from web clients and respond by serving them with web pages, files, or data. \n",
    "\n",
    "\n",
    "- A web server is a program that runs on a computer and listens for incoming requests from web clients (such as web browsers or mobile apps).\n",
    "\n",
    "\n",
    "- The web server responds to these requests by sending back the requested content (such as web pages, images, videos, or data).\n",
    "\n",
    "\n",
    "- To communicate with the web server, clients use the HTTP (Hypertext Transfer Protocol) protocol, which is a standard for exchanging data over the web.\n",
    "\n",
    "\n",
    "- Web servers can be configured to handle different types of content (such as HTML, CSS, JavaScript, PHP, or Python) using different programming languages or frameworks.\n",
    "\n",
    "\n",
    "- Web servers can also be used to host web applications (such as blogs, e-commerce sites, social networks, or online tools) that require server-side processing and storage.\n",
    "\n",
    "\n",
    "Unlike static websites, web servers can deliver dynamic content from a database or REST API based on the requested page URL, request headers, HTTP method, URL query parameters, etc."
   ]
  },
  {
   "cell_type": "markdown",
   "metadata": {},
   "source": [
    "### Installation and Project Setup"
   ]
  },
  {
   "cell_type": "markdown",
   "metadata": {},
   "source": [
    "Follow these steps to set up a simple \"Hello World\" project using ExpressJS:\n",
    "\n",
    "\n",
    "1. Create a new project directory and initialize a NodeJS project inside it using the following terminal commands:\n",
    "\n",
    "```bash\n",
    "mkdir jovian-careers\n",
    "cd jovian-careers\n",
    "npm init -y\n",
    "```\n",
    "\n",
    "\n",
    "2. Install ExpressJS as a dependency by running the following command:\n",
    "\n",
    "```bash\n",
    "npm install express\n",
    "```\n",
    "\n",
    "\n",
    "3. Create a folder `src` and create a new file `app.js` inside it with the following content:\n",
    "\n",
    "\n",
    "```javascript\n",
    "const express = require('express')\n",
    "const app = express()\n",
    "\n",
    "app.get('/', (req, res) => {\n",
    "  res.send('Hello World!')\n",
    "})\n",
    "\n",
    "const port = process.env.PORT || 3000;\n",
    "\n",
    "app.listen(port, () => {\n",
    "  console.log(`Server started on port ${port}`)\n",
    "})\n",
    "```\n",
    "\n",
    "\n",
    "4. Open the `package.json` file and modify the `scripts` section to include the following line:\n",
    "\n",
    "\n",
    "```json\n",
    "\"start\": \"node app.js\"\n",
    "```\n",
    "\n",
    "\n",
    "5. Save the file and run the following command to start the server:\n",
    "\n",
    "\n",
    "```bash\n",
    "npm start\n",
    "```"
   ]
  },
  {
   "cell_type": "markdown",
   "metadata": {},
   "source": []
  },
  {
   "cell_type": "markdown",
   "metadata": {},
   "source": [
    "### Serving HTML with EJS Templates"
   ]
  },
  {
   "cell_type": "markdown",
   "metadata": {},
   "source": []
  },
  {
   "cell_type": "markdown",
   "metadata": {},
   "source": []
  },
  {
   "cell_type": "markdown",
   "metadata": {},
   "source": []
  },
  {
   "cell_type": "markdown",
   "metadata": {},
   "source": []
  },
  {
   "cell_type": "markdown",
   "metadata": {},
   "source": []
  },
  {
   "cell_type": "markdown",
   "metadata": {},
   "source": []
  },
  {
   "cell_type": "markdown",
   "metadata": {},
   "source": []
  },
  {
   "cell_type": "markdown",
   "metadata": {},
   "source": []
  },
  {
   "cell_type": "markdown",
   "metadata": {},
   "source": [
    "## Dynamic Web Pages"
   ]
  },
  {
   "cell_type": "markdown",
   "metadata": {},
   "source": []
  },
  {
   "cell_type": "markdown",
   "metadata": {},
   "source": []
  },
  {
   "cell_type": "markdown",
   "metadata": {},
   "source": []
  },
  {
   "cell_type": "markdown",
   "metadata": {},
   "source": []
  },
  {
   "cell_type": "markdown",
   "metadata": {},
   "source": []
  },
  {
   "cell_type": "markdown",
   "metadata": {},
   "source": []
  }
 ],
 "metadata": {
  "kernelspec": {
   "display_name": "JavaScript (Node.js)",
   "language": "javascript",
   "name": "javascript"
  },
  "language_info": {
   "file_extension": ".js",
   "mimetype": "application/javascript",
   "name": "javascript",
   "version": "12.4.0"
  }
 },
 "nbformat": 4,
 "nbformat_minor": 2
}
